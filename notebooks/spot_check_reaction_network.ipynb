{
 "cells": [
  {
   "cell_type": "code",
   "execution_count": null,
   "metadata": {},
   "outputs": [],
   "source": [
    "%load_ext autoreload\n",
    "%autoreload 2\n",
    "\n",
    "from krxns.net_construction import construct_reaction_network, extract_compounds\n",
    "from krxns.config import filepaths\n",
    "from krxns.utils import str2int\n",
    "from krxns.cheminfo import draw_reaction\n",
    "from krxns.networks import SuperMultiDiGraph\n",
    "import json\n",
    "from IPython.display import SVG"
   ]
  },
  {
   "cell_type": "code",
   "execution_count": 25,
   "metadata": {},
   "outputs": [],
   "source": [
    "# Load unpaired cofactors\n",
    "with open(filepaths['cofactors'] / 'expanded_unpaired_cofactors.json', 'r') as f:\n",
    "    unpaired_cofactors = json.load(f)\n",
    "\n",
    "# Load known reaction data\n",
    "with open(filepaths['data'] / 'sprhea_240310_v3_mapped.json', 'r') as f:\n",
    "    krs = json.load(f)\n",
    "\n",
    "# Load op connected reactions\n",
    "with open(filepaths['connected_reactions'] / 'sprhea_240310_v3_mapped_operator.json', 'r') as f:\n",
    "    op_cxns = str2int(json.load(f))\n",
    "\n",
    "# Load sim connected reactions\n",
    "with open(filepaths['connected_reactions'] / 'sprhea_240310_v3_mapped_similarity.json', 'r') as f:\n",
    "    sim_cxn = str2int(json.load(f))\n",
    "\n",
    "with open(filepaths['connected_reactions'] / 'sprhea_240310_v3_mapped_side_counts.json', 'r') as f:\n",
    "    side_counts = str2int(json.load(f))\n",
    "\n",
    "# Load coreactant whitelist\n",
    "with open(filepaths['cofactors'] / 'pickaxe_whitelist.json', 'r') as f:\n",
    "    coreactant_whitelist = json.load(f)\n",
    "\n",
    "\n",
    "# Get known compounds\n",
    "kcs, smi2id = extract_compounds(krs)"
   ]
  },
  {
   "cell_type": "code",
   "execution_count": 26,
   "metadata": {},
   "outputs": [],
   "source": [
    "G = SuperMultiDiGraph()\n",
    "edges, nodes = construct_reaction_network(\n",
    "    operator_connections=op_cxns,\n",
    "    similarity_connections=sim_cxn,\n",
    "    side_counts=side_counts,\n",
    "    reactions=krs,\n",
    "    unpaired_cofactors=unpaired_cofactors,\n",
    "    connect_nontrivial=False,\n",
    "    # atom_lb=0.6,\n",
    "    coreactant_whitelist=coreactant_whitelist\n",
    ")\n",
    "G.add_nodes_from(nodes)\n",
    "G.add_edges_from(edges)"
   ]
  },
  {
   "cell_type": "code",
   "execution_count": 69,
   "metadata": {},
   "outputs": [],
   "source": [
    "def show_path(source, target, topk = 1):\n",
    "    node_path, edge_path = G.shortest_path(source, target)\n",
    "    for i, step in enumerate(edge_path):\n",
    "        print(f\"STEP #{i+1}\")\n",
    "        for edge in step[:topk]:\n",
    "            print([(k, v) for k, v in edge.items() if k != 'smarts'])\n",
    "            display(SVG(draw_reaction(edge['smarts'])))"
   ]
  },
  {
   "cell_type": "code",
   "execution_count": null,
   "metadata": {},
   "outputs": [],
   "source": [
    "i = G.get_nodes_by_prop('name', 'pyruvate')[0]\n",
    "j  = G.get_nodes_by_prop('name', 'succinate')[0]\n",
    "show_path(i, j)"
   ]
  },
  {
   "cell_type": "code",
   "execution_count": null,
   "metadata": {},
   "outputs": [],
   "source": [
    "show_path(j, i)"
   ]
  },
  {
   "cell_type": "code",
   "execution_count": null,
   "metadata": {},
   "outputs": [],
   "source": [
    "i = G.get_nodes_by_prop('name', 'butanoate')[0]\n",
    "j  = G.get_nodes_by_prop('name', 'butanoyl-CoA')[0]\n",
    "show_path(i, j)"
   ]
  },
  {
   "cell_type": "code",
   "execution_count": null,
   "metadata": {},
   "outputs": [],
   "source": [
    "i = G.get_nodes_by_prop('name', 'pyruvate')[0]\n",
    "j  = G.get_nodes_by_prop('name', 'acetone')[0]\n",
    "show_path(i, j)"
   ]
  },
  {
   "cell_type": "code",
   "execution_count": null,
   "metadata": {},
   "outputs": [],
   "source": [
    "show_path(j, i)"
   ]
  },
  {
   "cell_type": "code",
   "execution_count": null,
   "metadata": {},
   "outputs": [],
   "source": [
    "# i = G.get_nodes_by_prop('name', 'pyruvate')[0]\n",
    "# j  = G.get_nodes_by_prop('name', 'L-lysine')[0]\n",
    "# show_path(i, j)"
   ]
  },
  {
   "cell_type": "code",
   "execution_count": null,
   "metadata": {},
   "outputs": [],
   "source": [
    "sorted([node['name'] for id, node in G.nodes(data=True)], key=lambda x : len(x))"
   ]
  },
  {
   "cell_type": "code",
   "execution_count": null,
   "metadata": {},
   "outputs": [],
   "source": [
    "# smi = standardize_smiles('CC(C)(CO)[C@@H](O)C(=O)NCCC(=O)[O-]') # CCC(C)(C)C(=O)SCCC(=O)OC\n",
    "# ids = G.get_nodes_by_prop('smiles', smi)\n",
    "# ids"
   ]
  },
  {
   "cell_type": "code",
   "execution_count": null,
   "metadata": {},
   "outputs": [],
   "source": [
    "# n = 2\n",
    "# id = ids[0]\n",
    "# n_hop_neighbors = nx.ego_graph(G, id, radius=n)\n",
    "# for i in n_hop_neighbors:\n",
    "#     print(G.nodes[i]['name'])\n",
    "#     display(SVG(draw_molecule(G.nodes[i]['smiles'])))"
   ]
  },
  {
   "cell_type": "code",
   "execution_count": null,
   "metadata": {},
   "outputs": [],
   "source": [
    "# for i in n_hop_neighbors:\n",
    "#     print(f\"PATH FROM {G.nodes[i]['name']}\")\n",
    "#     show_path(i, id)"
   ]
  }
 ],
 "metadata": {
  "kernelspec": {
   "display_name": "krxns-C4WZyL61-py3.10",
   "language": "python",
   "name": "python3"
  },
  "language_info": {
   "codemirror_mode": {
    "name": "ipython",
    "version": 3
   },
   "file_extension": ".py",
   "mimetype": "text/x-python",
   "name": "python",
   "nbconvert_exporter": "python",
   "pygments_lexer": "ipython3",
   "version": "3.10.12"
  }
 },
 "nbformat": 4,
 "nbformat_minor": 2
}
