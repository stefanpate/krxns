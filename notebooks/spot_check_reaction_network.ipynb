{
 "cells": [
  {
   "cell_type": "code",
   "execution_count": null,
   "metadata": {},
   "outputs": [],
   "source": [
    "%load_ext autoreload\n",
    "%autoreload 2\n",
    "\n",
    "import networkx as nx\n",
    "import pandas as pd\n",
    "import numpy as np\n",
    "from krxns.net_construction import construct_reaction_network, extract_compounds\n",
    "from krxns.config import filepaths\n",
    "from krxns.utils import str2int\n",
    "from krxns.cheminfo import expand_unpaired_cofactors, draw_reaction, draw_molecule, standardize_smiles\n",
    "from krxns.networks import SuperMultiDiGraph\n",
    "import json\n",
    "from IPython.display import SVG"
   ]
  },
  {
   "cell_type": "code",
   "execution_count": null,
   "metadata": {},
   "outputs": [],
   "source": [
    "# Load unpaired cofs\n",
    "unpaired_fp = filepaths['cofactors'] / \"unpaired_cofactors_reference.tsv\"\n",
    "name_blacklist = [\n",
    "    'acetyl-CoA',\n",
    "]\n",
    "\n",
    "unpaired_ref = pd.read_csv(\n",
    "    filepath_or_buffer=unpaired_fp,\n",
    "    sep='\\t'\n",
    ")\n",
    "\n",
    "filtered_unpaired = unpaired_ref.loc[~unpaired_ref['Name'].isin(name_blacklist), :]\n",
    "cofactors = expand_unpaired_cofactors(filtered_unpaired, k=10)\n",
    "\n",
    "manual = {\n",
    "    'N#N': 'N2',\n",
    "    '[H][H]': 'H2',\n",
    "    'S': 'hydrogen sufide',\n",
    "    '[Cl-]': 'chloride',\n",
    "    '[Na+]': 'sodium'\n",
    "}\n",
    "\n",
    "cofactors = {**cofactors, ** manual}\n",
    "\n",
    "# Load cc sim mats\n",
    "cc_sim_mats = {\n",
    "    'mcs': np.load(filepaths['sim_mats'] / \"mcs.npy\"),\n",
    "    'tanimoto': np.load(filepaths['sim_mats'] / \"tanimoto.npy\")\n",
    "}\n",
    "\n",
    "# Load known reaction data\n",
    "with open(filepaths['data'] / 'sprhea_240310_v3_mapped.json', 'r') as f:\n",
    "    krs = json.load(f)\n",
    "\n",
    "# Load op connected reactions\n",
    "with open(filepaths['connected_reactions'] / 'sprhea_240310_v3_mapped_operator.json', 'r') as f:\n",
    "    op_cxns = str2int(json.load(f))\n",
    "\n",
    "kcs, smi2id = extract_compounds(krs)"
   ]
  },
  {
   "cell_type": "code",
   "execution_count": 51,
   "metadata": {},
   "outputs": [],
   "source": [
    "G = SuperMultiDiGraph()\n",
    "edges, nodes = construct_reaction_network(operator_connections=op_cxns, reactions=krs, cofactors=cofactors)\n",
    "G.add_nodes_from(nodes)\n",
    "edge_keys = G.add_edges_from(edges)"
   ]
  },
  {
   "cell_type": "code",
   "execution_count": 94,
   "metadata": {},
   "outputs": [],
   "source": [
    "def show_path(from_i, to_j, topk = 3):\n",
    "    path = nx.shortest_path(G, from_i, to_j)\n",
    "    for i in range(len(path) - 1):\n",
    "        print(f\"STEP {i+1} \")\n",
    "        for edge in G.get_edges_between(path[i], path[i+1])[:topk]:\n",
    "            print([(k, v) for k, v in edge.items() if k != 'smarts'])\n",
    "            display(SVG(draw_reaction(edge['smarts'])))"
   ]
  },
  {
   "cell_type": "code",
   "execution_count": null,
   "metadata": {},
   "outputs": [],
   "source": [
    "i = G.get_nodes_by_prop('name', 'pyruvate')[0]\n",
    "j  = G.get_nodes_by_prop('name', 'succinate')[0]\n",
    "show_path(i, j)"
   ]
  },
  {
   "cell_type": "code",
   "execution_count": null,
   "metadata": {},
   "outputs": [],
   "source": [
    "i = G.get_nodes_by_prop('name', 'pyruvate')[0]\n",
    "j  = G.get_nodes_by_prop('name', 'acetone')[0]\n",
    "show_path(i, j)"
   ]
  },
  {
   "cell_type": "code",
   "execution_count": null,
   "metadata": {},
   "outputs": [],
   "source": [
    "i = G.get_nodes_by_prop('name', 'pyruvate')[0]\n",
    "j  = G.get_nodes_by_prop('name', 'L-lysine')[0]\n",
    "show_path(i, j)"
   ]
  },
  {
   "cell_type": "code",
   "execution_count": null,
   "metadata": {},
   "outputs": [],
   "source": [
    "sorted([node['name'] for id, node in G.nodes(data=True)], key=lambda x : len(x))"
   ]
  },
  {
   "cell_type": "code",
   "execution_count": null,
   "metadata": {},
   "outputs": [],
   "source": [
    "id = G.get_nodes_by_prop('name', 'chorismate')[0]\n",
    "for i in nx.ego_graph(G, id, radius=2):\n",
    "    print(G.nodes[i])"
   ]
  },
  {
   "cell_type": "code",
   "execution_count": null,
   "metadata": {},
   "outputs": [],
   "source": [
    "id = G.get_nodes_by_prop('name', 'chorismate')[0]\n",
    "for i in nx.ego_graph(G, id, radius=2):\n",
    "    print(f\"PATH TO {G.nodes[i]['name']}\")\n",
    "    show_path(id, i)"
   ]
  },
  {
   "cell_type": "code",
   "execution_count": null,
   "metadata": {},
   "outputs": [],
   "source": []
  }
 ],
 "metadata": {
  "kernelspec": {
   "display_name": "krxns-C4WZyL61-py3.10",
   "language": "python",
   "name": "python3"
  },
  "language_info": {
   "codemirror_mode": {
    "name": "ipython",
    "version": 3
   },
   "file_extension": ".py",
   "mimetype": "text/x-python",
   "name": "python",
   "nbconvert_exporter": "python",
   "pygments_lexer": "ipython3",
   "version": "3.10.12"
  }
 },
 "nbformat": 4,
 "nbformat_minor": 2
}
