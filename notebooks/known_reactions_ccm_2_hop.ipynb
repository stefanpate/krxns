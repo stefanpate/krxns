{
 "cells": [
  {
   "cell_type": "code",
   "execution_count": null,
   "metadata": {},
   "outputs": [],
   "source": [
    "%load_ext autoreload\n",
    "%autoreload 2\n",
    "\n",
    "import json\n",
    "from pathlib import Path\n",
    "import pandas as pd\n",
    "from krxns.network import construct_reaction_network, SuperMultiDiGraph\n",
    "from hydra import compose, initialize\n",
    "from ergochemics.draw import draw_reaction, draw_molecule\n",
    "from ergochemics.standardize import standardize_smiles\n",
    "from IPython.display import SVG\n",
    "import networkx as nx\n",
    "from itertools import product\n",
    "from functools import partial\n",
    "from tqdm import tqdm\n",
    "\n",
    "with initialize(version_base=None, config_path=\"../configs/filepaths\"):\n",
    "    cfg = compose(\"filepaths\")\n",
    "\n",
    "def get_node_idx(smi, G):\n",
    "    nidx = G.get_nodes_by_prop('smiles', smi)\n",
    "    if len(nidx) == 0:\n",
    "        return None\n",
    "    else:\n",
    "        return nidx[0]"
   ]
  },
  {
   "cell_type": "code",
   "execution_count": null,
   "metadata": {},
   "outputs": [],
   "source": [
    "ccm_aa = pd.read_csv(Path(cfg.raw_data) / \"ccm_aa.csv\")\n",
    "std_smi = partial(standardize_smiles, quiet=True, neutralization_mode=\"simple\")"
   ]
  },
  {
   "cell_type": "code",
   "execution_count": null,
   "metadata": {},
   "outputs": [],
   "source": [
    "ccm_aa = pd.read_csv(Path(cfg.raw_data) / \"ccm_aa.csv\")\n",
    "ccm_aa[\"smiles\"] = ccm_aa[\"smiles\"].apply(std_smi)\n",
    "std_smi = partial(standardize_smiles, quiet=True, neutralization_mode=\"simple\")\n",
    "kcs = pd.read_csv(Path(cfg.interim_data) / \"compounds.csv\")\n",
    "sources = pd.read_csv(Path(cfg.interim_data) / \"default_sources.csv\")\n",
    "sources = sources['id'].tolist()\n",
    "\n",
    "with open(Path(cfg.interim_data) / \"mass_contributions.json\", 'r') as f:\n",
    "    mass_contributions = json.load(f)\n",
    "\n",
    "addtl_sources = kcs.loc[kcs[\"smiles\"].apply(std_smi).isin(ccm_aa[\"smiles\"]), \"id\"].tolist()\n",
    "sources += addtl_sources"
   ]
  },
  {
   "cell_type": "code",
   "execution_count": 59,
   "metadata": {},
   "outputs": [],
   "source": [
    "pnmc_lb = 0.15\n",
    "rnmc_lb = 0.0\n",
    "\n",
    "edges, nodes = construct_reaction_network(\n",
    "    mass_contributions=mass_contributions,\n",
    "    compounds=kcs,\n",
    "    sources=sources,\n",
    "    pnmc_lb=pnmc_lb,\n",
    "    rnmc_lb=rnmc_lb,\n",
    ")"
   ]
  },
  {
   "cell_type": "code",
   "execution_count": 60,
   "metadata": {},
   "outputs": [
    {
     "data": {
      "text/plain": [
       "(21251, 6364)"
      ]
     },
     "execution_count": 60,
     "metadata": {},
     "output_type": "execute_result"
    }
   ],
   "source": [
    "len(edges), len(nodes)"
   ]
  },
  {
   "cell_type": "code",
   "execution_count": 61,
   "metadata": {},
   "outputs": [],
   "source": [
    "G = SuperMultiDiGraph()\n",
    "G.add_nodes_from(nodes)\n",
    "G.add_edges_from(edges)\n",
    "_get_node_idx = partial(get_node_idx, G=G)"
   ]
  },
  {
   "cell_type": "code",
   "execution_count": 62,
   "metadata": {},
   "outputs": [
    {
     "data": {
      "text/html": [
       "<div>\n",
       "<style scoped>\n",
       "    .dataframe tbody tr th:only-of-type {\n",
       "        vertical-align: middle;\n",
       "    }\n",
       "\n",
       "    .dataframe tbody tr th {\n",
       "        vertical-align: top;\n",
       "    }\n",
       "\n",
       "    .dataframe thead th {\n",
       "        text-align: right;\n",
       "    }\n",
       "</style>\n",
       "<table border=\"1\" class=\"dataframe\">\n",
       "  <thead>\n",
       "    <tr style=\"text-align: right;\">\n",
       "      <th></th>\n",
       "      <th>id</th>\n",
       "      <th>smiles</th>\n",
       "      <th>nidx</th>\n",
       "    </tr>\n",
       "  </thead>\n",
       "  <tbody>\n",
       "    <tr>\n",
       "      <th>0</th>\n",
       "      <td>succinate</td>\n",
       "      <td>O=C(O)CCC(=O)O</td>\n",
       "      <td>6215</td>\n",
       "    </tr>\n",
       "    <tr>\n",
       "      <th>1</th>\n",
       "      <td>fumarate</td>\n",
       "      <td>O=C(O)C=CC(=O)O</td>\n",
       "      <td>6161</td>\n",
       "    </tr>\n",
       "    <tr>\n",
       "      <th>2</th>\n",
       "      <td>malate</td>\n",
       "      <td>O=C(O)CC(O)C(=O)O</td>\n",
       "      <td>6202</td>\n",
       "    </tr>\n",
       "    <tr>\n",
       "      <th>3</th>\n",
       "      <td>oxaloacetate</td>\n",
       "      <td>O=C(O)CC(=O)C(=O)O</td>\n",
       "      <td>6177</td>\n",
       "    </tr>\n",
       "    <tr>\n",
       "      <th>4</th>\n",
       "      <td>ketoglutarate</td>\n",
       "      <td>O=C(O)CCC(=O)C(=O)O</td>\n",
       "      <td>6210</td>\n",
       "    </tr>\n",
       "  </tbody>\n",
       "</table>\n",
       "</div>"
      ],
      "text/plain": [
       "              id               smiles  nidx\n",
       "0      succinate       O=C(O)CCC(=O)O  6215\n",
       "1       fumarate      O=C(O)C=CC(=O)O  6161\n",
       "2         malate    O=C(O)CC(O)C(=O)O  6202\n",
       "3   oxaloacetate   O=C(O)CC(=O)C(=O)O  6177\n",
       "4  ketoglutarate  O=C(O)CCC(=O)C(=O)O  6210"
      ]
     },
     "execution_count": 62,
     "metadata": {},
     "output_type": "execute_result"
    }
   ],
   "source": [
    "ccm_aa[\"nidx\"] = ccm_aa[\"smiles\"].apply(_get_node_idx)\n",
    "ccm_aa = ccm_aa[ccm_aa[\"nidx\"].notna()]\n",
    "ccm_aa['nidx'] = ccm_aa['nidx'].astype(int)\n",
    "ccm_aa.head()"
   ]
  },
  {
   "cell_type": "code",
   "execution_count": 63,
   "metadata": {},
   "outputs": [],
   "source": [
    "def show_path(source, target, topk = 1):\n",
    "    node_path, edge_path = G.shortest_path(source, target)\n",
    "    print(node_path)\n",
    "    for i, step in enumerate(edge_path):\n",
    "        print(f\"STEP #{i+1}\")\n",
    "        for edge in step[:topk]:\n",
    "            print([(k, v) for k, v in edge.items()])\n",
    "            display(SVG(draw_reaction(edge[\"am_smarts\"])))"
   ]
  },
  {
   "cell_type": "code",
   "execution_count": 64,
   "metadata": {},
   "outputs": [],
   "source": [
    "# k_hop_neighbors.edges(keys=True)"
   ]
  },
  {
   "cell_type": "code",
   "execution_count": 65,
   "metadata": {},
   "outputs": [
    {
     "name": "stdout",
     "output_type": "stream",
     "text": [
      "52 1744\n",
      "67 1881\n",
      "96 2064\n",
      "105 2156\n",
      "120 2250\n",
      "130 3368\n",
      "154 3488\n",
      "160 3529\n",
      "160 3536\n",
      "162 3541\n",
      "168 3567\n",
      "178 3614\n",
      "178 3614\n",
      "184 3653\n",
      "191 3674\n",
      "196 3696\n",
      "210 4117\n",
      "231 4230\n",
      "233 4235\n",
      "245 4283\n",
      "258 4357\n",
      "277 4437\n",
      "282 4461\n",
      "298 4534\n",
      "321 4606\n",
      "327 4628\n",
      "333 4649\n"
     ]
    }
   ],
   "source": [
    "k = 2\n",
    "for i, nidx in enumerate(ccm_aa['nidx']):\n",
    "    if i == 0:\n",
    "        k_hop_neighbors = nx.ego_graph(G, nidx, radius=k)\n",
    "    else:\n",
    "        k_hop_neighbors = nx.compose(k_hop_neighbors, nx.ego_graph(G, nidx, radius=k))\n",
    "    \n",
    "    print(k_hop_neighbors.number_of_nodes(), k_hop_neighbors.number_of_edges())"
   ]
  },
  {
   "cell_type": "code",
   "execution_count": 66,
   "metadata": {},
   "outputs": [
    {
     "data": {
      "text/plain": [
       "(333, 4649)"
      ]
     },
     "execution_count": 66,
     "metadata": {},
     "output_type": "execute_result"
    }
   ],
   "source": [
    "k_hop_neighbors.number_of_nodes(), k_hop_neighbors.number_of_edges()"
   ]
  },
  {
   "cell_type": "code",
   "execution_count": 67,
   "metadata": {},
   "outputs": [
    {
     "data": {
      "text/plain": [
       "({1: 2, 2: 3, 3: 1}, 3, 3)"
      ]
     },
     "execution_count": 67,
     "metadata": {},
     "output_type": "execute_result"
    }
   ],
   "source": [
    "MG = nx.MultiGraph()\n",
    "MG.add_edges_from([(1, 2, {'name': 'foo'}), (1, 2, {'name': 'bar'}), (2, 3, {'name': 'foo'})])\n",
    "dict(MG.degree()), MG.number_of_edges(), MG.number_of_nodes()"
   ]
  }
 ],
 "metadata": {
  "kernelspec": {
   "display_name": ".venv",
   "language": "python",
   "name": "python3"
  },
  "language_info": {
   "codemirror_mode": {
    "name": "ipython",
    "version": 3
   },
   "file_extension": ".py",
   "mimetype": "text/x-python",
   "name": "python",
   "nbconvert_exporter": "python",
   "pygments_lexer": "ipython3",
   "version": "3.13.0"
  }
 },
 "nbformat": 4,
 "nbformat_minor": 2
}
