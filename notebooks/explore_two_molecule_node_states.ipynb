{
 "cells": [
  {
   "cell_type": "code",
   "execution_count": 69,
   "metadata": {},
   "outputs": [],
   "source": [
    "import json\n",
    "from krxns.config import filepaths\n",
    "from krxns.utils import str2int\n",
    "from krxns.cheminfo import draw_reaction\n",
    "from krxns.net_construction import fold_reactions, extract_compounds, handle_multiple_rules, remove_unpaired_cofactors, translate_operator_adj_mat\n",
    "from collections import Counter, defaultdict\n",
    "import numpy as np\n",
    "import matplotlib.pyplot as plt\n",
    "import ipywidgets as widgets\n",
    "from ipywidgets import interact\n",
    "from IPython.display import SVG"
   ]
  },
  {
   "cell_type": "code",
   "execution_count": 28,
   "metadata": {},
   "outputs": [],
   "source": [
    "whitelist_fn = \"top_50_whitelist.json\"\n",
    "\n",
    "# Load unpaired cofactors\n",
    "with open(filepaths['coreactants'] / 'unpaired_cofactors.json', 'r') as f:\n",
    "    unpaired_cofactors = json.load(f)\n",
    "\n",
    "# Load known reaction data\n",
    "with open(filepaths['data'] / 'sprhea_240310_v3_mapped.json', 'r') as f:\n",
    "    known_reactions = json.load(f)\n",
    "\n",
    "known_reactions = fold_reactions(known_reactions)\n",
    "known_compounds, smi2id = extract_compounds(known_reactions)\n",
    "\n",
    "# Load op connected reactions\n",
    "with open(filepaths['connected_reactions'] / 'sprhea_240310_v3_mapped_operator.json', 'r') as f:\n",
    "    op_cxns = str2int(json.load(f))\n",
    "\n",
    "# Load sim connected reactions\n",
    "with open(filepaths['connected_reactions'] / 'sprhea_240310_v3_mapped_similarity.json', 'r') as f:\n",
    "    sim_cxn = str2int(json.load(f))\n",
    "\n",
    "with open(filepaths['connected_reactions'] / 'sprhea_240310_v3_mapped_side_counts.json', 'r') as f:\n",
    "    side_counts = str2int(json.load(f))\n",
    "\n",
    "# Load coreactant whitelist\n",
    "with open(filepaths['coreactants'] / whitelist_fn, 'r') as f:\n",
    "    coreactant_whitelist = json.load(f)\n"
   ]
  },
  {
   "cell_type": "code",
   "execution_count": 29,
   "metadata": {},
   "outputs": [
    {
     "data": {
      "image/png": "[encoded data removed]",
      "text/plain": [
       "<Figure size 640x480 with 1 Axes>"
      ]
     },
     "metadata": {},
     "output_type": "display_data"
    }
   ],
   "source": [
    "cts = Counter([tuple(elt) for elt in side_counts.values()])\n",
    "x_labels, cts = zip(*sorted([(k, v) for k,v in cts.items()], key= lambda x : x[1], reverse=True))\n",
    "x = np.arange(len(x_labels))\n",
    "\n",
    "fig, ax = plt.subplots()\n",
    "ax.bar(x, height=cts)\n",
    "ax.set_xticks(x)\n",
    "ax.set_xticklabels(x_labels, rotation=45)\n",
    "ax.set_ylabel(\"# reactions\")\n",
    "ax.set_xlabel(\"(# reactants, # products)\")\n",
    "plt.show()"
   ]
  },
  {
   "cell_type": "code",
   "execution_count": 55,
   "metadata": {},
   "outputs": [],
   "source": [
    "def sim_cxn_displayor(rid):\n",
    "    translate = lambda x : {known_compounds[outer]['name']: {known_compounds[inner]['name']: inner_v  for inner, inner_v in outer_v.items()} for outer, outer_v in x.items()}\n",
    "    if rid in op_cxns:\n",
    "        rule = list(op_cxns[rid].keys())[0]\n",
    "        rct_inlinks = op_cxns[rid][rule]['rct_inlinks']\n",
    "        pdt_inlinks = op_cxns[rid][rule]['pdt_inlinks']\n",
    "    else:\n",
    "        print(\"Not operator connected\")\n",
    "        rct_inlinks = translate(sim_cxn[rid]['rct_inlinks'])\n",
    "        pdt_inlinks = translate(sim_cxn[rid]['pdt_inlinks'])\n",
    "\n",
    "    print(\"Rct inlinks\")\n",
    "    for k, v in rct_inlinks.items():\n",
    "        print(k, v)\n",
    "    print(\"\\nPdt inlinks\")\n",
    "    for k, v in pdt_inlinks.items():\n",
    "        print(k, v)\n",
    "    display(SVG(draw_reaction(known_reactions[rid]['smarts'], sub_img_size=(300, 200))))\n",
    "\n",
    "def show_sim_cxn(options: list):\n",
    "    sim_cxn_dropdown = widgets.Dropdown(options=options, value=options[0])\n",
    "    return interact(sim_cxn_displayor, rid=sim_cxn_dropdown)"
   ]
  },
  {
   "cell_type": "code",
   "execution_count": 56,
   "metadata": {},
   "outputs": [
    {
     "data": {
      "application/vnd.jupyter.widget-view+json": {
       "model_id": "674c4ec7b4fa4fa2996d014d0008dc39",
       "version_major": 2,
       "version_minor": 0
      },
      "text/plain": [
       "interactive(children=(Dropdown(description='rid', options=(1123, 14312, 6566, 2415, 2716, 9293, 16344, 2235, 1…"
      ]
     },
     "metadata": {},
     "output_type": "display_data"
    }
   ],
   "source": [
    "ct_of_i = (2,2)\n",
    "_ = show_sim_cxn([elt for elt in sim_cxn.keys() if tuple(side_counts[elt]) == ct_of_i])"
   ]
  },
  {
   "cell_type": "code",
   "execution_count": 44,
   "metadata": {},
   "outputs": [
    {
     "data": {
      "text/plain": [
       "0.661524500907441"
      ]
     },
     "execution_count": 44,
     "metadata": {},
     "output_type": "execute_result"
    }
   ],
   "source": [
    "tutu = [elt for elt in sim_cxn.keys() if tuple(side_counts[elt]) == (2,2)]\n",
    "tutu_op = [elt for elt in tutu if elt in op_cxns]\n",
    "len(tutu_op) / len(tutu)"
   ]
  },
  {
   "cell_type": "code",
   "execution_count": 88,
   "metadata": {},
   "outputs": [
    {
     "data": {
      "text/plain": [
       "(2434, 2744)"
      ]
     },
     "execution_count": 88,
     "metadata": {},
     "output_type": "execute_result"
    }
   ],
   "source": [
    "# Count up number of extra nodes I'll need for multi-molecule-nodes\n",
    "\n",
    "sel = lambda rid : rid in op_cxns and not any([elt == 0 for elt in side_counts[rid]]) and any([elt > 1 for elt in side_counts[rid]])\n",
    "direction_from_side = lambda side : 0 if side == 'rct_inlinks' else 1 if side == 'pdt_inlinks' else print(\"Error side key not found\")\n",
    "ocs_of_i = {rid: op_cxns[rid] for rid in op_cxns if sel(rid)} # Get all reactions with no side ==0 and any side count > 1 and have been mapped by operator\n",
    "lb = 0.2 # Set lower bound on heavy atom frac\n",
    "\n",
    "multi_mol_nodes = set()\n",
    "for rid, rules in ocs_of_i.items():\n",
    "\n",
    "        smiles = [elt.split('.') for elt in known_reactions[rid]['smarts'].split('>>')]\n",
    "\n",
    "        # Remove unpaired cofactors\n",
    "        filtered_rules = defaultdict(lambda : defaultdict(dict))\n",
    "        for rule, sides in rules.items():\n",
    "            for side, adj_mat in sides.items():\n",
    "                direction = direction_from_side(side)\n",
    "                adj_mat = remove_unpaired_cofactors(adj_mat, direction, smiles, unpaired_cofactors)\n",
    "                filtered_rules[rule][side] = adj_mat\n",
    "\n",
    "        sel_adj_mats = handle_multiple_rules(filtered_rules) # Resolve cases with multiple rules\n",
    "\n",
    "        for side, adj_mat in sel_adj_mats.items():\n",
    "            direction = direction_from_side(side)\n",
    "            adj_mat = translate_operator_adj_mat(adj_mat, direction, smiles, smi2id)\n",
    "\n",
    "            for elt in adj_mat:\n",
    "\n",
    "                for row in elt.values():\n",
    "                    group = tuple(sorted([cid for cid in row if row[cid] > lb])) # Add molecule tuples w/ haf > lb in any reaction\n",
    "                    \n",
    "                    if len(group) > 1:\n",
    "                        multi_mol_nodes.add(group)\n",
    "\n",
    "len(multi_mol_nodes), len(ocs_of_i)"
   ]
  },
  {
   "cell_type": "code",
   "execution_count": 87,
   "metadata": {},
   "outputs": [
    {
     "data": {
      "text/plain": [
       "{3321: 0.5, 7070: 0.5}"
      ]
     },
     "execution_count": 87,
     "metadata": {},
     "output_type": "execute_result"
    }
   ],
   "source": [
    "row"
   ]
  }
 ],
 "metadata": {
  "kernelspec": {
   "display_name": "krxns-C4WZyL61-py3.10",
   "language": "python",
   "name": "python3"
  },
  "language_info": {
   "codemirror_mode": {
    "name": "ipython",
    "version": 3
   },
   "file_extension": ".py",
   "mimetype": "text/x-python",
   "name": "python",
   "nbconvert_exporter": "python",
   "pygments_lexer": "ipython3",
   "version": "3.10.12"
  }
 },
 "nbformat": 4,
 "nbformat_minor": 2
}
