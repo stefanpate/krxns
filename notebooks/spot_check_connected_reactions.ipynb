{
 "cells": [
  {
   "cell_type": "code",
   "execution_count": 1,
   "metadata": {},
   "outputs": [],
   "source": [
    "%load_ext autoreload\n",
    "%autoreload 2\n",
    "\n",
    "import numpy as np\n",
    "import pandas as pd\n",
    "import json\n",
    "import rdkit\n",
    "from rdkit import Chem\n",
    "from rdkit.Chem import Draw, BRICS\n",
    "from krxns.cheminfo import expand_unpaired_cofactors, mcs, draw_molecule, draw_reaction\n",
    "from krxns.config import filepaths\n",
    "from krxns.rxn_cxn import SimilarityConnector, extract_compounds\n",
    "import ipywidgets as widgets\n",
    "from ipywidgets import interact\n",
    "import matplotlib.pyplot as plt\n",
    "from IPython.display import display, SVG\n",
    "from itertools import product\n",
    "from collections import defaultdict"
   ]
  },
  {
   "cell_type": "code",
   "execution_count": 23,
   "metadata": {},
   "outputs": [],
   "source": [
    "# Load known reaction data\n",
    "with open(filepaths['data'] / 'sprhea_240310_v3_mapped.json', 'r') as f:\n",
    "    known_reactions = json.load(f)\n",
    "\n",
    "known_reactions = {int(k): v for k,v in known_reactions.items()}\n",
    "\n",
    "# Remove reverses\n",
    "rids = set()\n",
    "for k, v in known_reactions.items():\n",
    "    rids.add(tuple(sorted([k, v['reverse']])))\n",
    "\n",
    "keepers = [elt[0] for elt in rids]\n",
    "known_reactions = {k: known_reactions[k] for k in keepers}\n",
    "\n",
    "known_compounds, smi2id = extract_compounds(known_reactions)\n",
    "\n",
    "# Load op connected reactions\n",
    "with open(filepaths['connected_reactions'] / 'sprhea_240310_v3_mapped_operator.json', 'r') as f:\n",
    "    tmp = json.load(f)\n",
    "\n",
    "op_cxn = {}\n",
    "for rid, rule_dict in tmp.items():\n",
    "    op_cxn[int(rid)] = {}\n",
    "    for rule, side_dict in rule_dict.items():\n",
    "        op_cxn[int(rid)][rule] = {}\n",
    "        for side, outer_dict in side_dict.items():\n",
    "            op_cxn[int(rid)][rule][side] = {}\n",
    "            for outer_key, inner_dict in outer_dict.items():\n",
    "                op_cxn[int(rid)][rule][side][int(outer_key)] = {}\n",
    "                for inner_key, mass in inner_dict.items():\n",
    "                    op_cxn[int(rid)][rule][side][int(outer_key)][int(inner_key)] = mass\n",
    "\n",
    "# Load sim connected reactions\n",
    "with open(filepaths['connected_reactions'] / 'sprhea_240310_v3_mapped_similarity.json', 'r') as f:\n",
    "    tmp = json.load(f)\n",
    "\n",
    "sim_cxn = {}\n",
    "for rid, side_dict in tmp.items():\n",
    "    sim_cxn[int(rid)] = {}\n",
    "    for side, outer_dict in side_dict.items():\n",
    "        sim_cxn[int(rid)][side] = {}\n",
    "        for outer_key, inner_dict in outer_dict.items():\n",
    "            sim_cxn[int(rid)][side][int(outer_key)] = {}\n",
    "            for inner_key, mass in inner_dict.items():\n",
    "                sim_cxn[int(rid)][side][int(outer_key)][int(inner_key)] = mass\n",
    "\n",
    "with open(filepaths['connected_reactions'] / 'sprhea_240310_v3_mapped_side_counts.json', 'r') as f:\n",
    "    side_counts = json.load(f)\n",
    "\n",
    "side_counts = {int(k): v for k, v in side_counts.items()}\n",
    "\n",
    "del tmp"
   ]
  },
  {
   "cell_type": "markdown",
   "metadata": {},
   "source": [
    "Spot check operator connected reactions"
   ]
  },
  {
   "cell_type": "code",
   "execution_count": 30,
   "metadata": {},
   "outputs": [
    {
     "data": {
      "application/vnd.jupyter.widget-view+json": {
       "model_id": "10092d71bc0b445fbee324dc383d01dc",
       "version_major": 2,
       "version_minor": 0
      },
      "text/plain": [
       "interactive(children=(Dropdown(description='rid', options=(1123, 6566, 2415, 2716, 17163, 9293, 10373, 8841, 1…"
      ]
     },
     "metadata": {},
     "output_type": "display_data"
    }
   ],
   "source": [
    "ocd_options = list(op_cxn.keys())\n",
    "op_cxn_dropdown = widgets.Dropdown(options=ocd_options, value=ocd_options[0])\n",
    "\n",
    "def show_op_cxn(rid):\n",
    "    for rule in op_cxn[rid]:\n",
    "        print(f\"Rule: {rule}\")\n",
    "        print(f\"Rct inlinks: {op_cxn[rid][rule]['rct_inlinks']}\")\n",
    "        print(f\"Pdt inlinks: {op_cxn[rid][rule]['pdt_inlinks']}\")\n",
    "        display(SVG(draw_reaction(known_reactions[rid]['smarts'], sub_img_size=(300, 200))))\n",
    "\n",
    "_ = interact(show_op_cxn, rid=op_cxn_dropdown)"
   ]
  },
  {
   "cell_type": "code",
   "execution_count": 34,
   "metadata": {},
   "outputs": [
    {
     "data": {
      "application/vnd.jupyter.widget-view+json": {
       "model_id": "fc4b239d75814a71a2e8a533bdc7af6c",
       "version_major": 2,
       "version_minor": 0
      },
      "text/plain": [
       "interactive(children=(Dropdown(description='rid', options=(1123, 740, 7946, 10239, 12221, 13772, 6566, 14312, …"
      ]
     },
     "metadata": {},
     "output_type": "display_data"
    }
   ],
   "source": [
    "scd_options = list(sim_cxn.keys())\n",
    "sim_cxn_dropdown = widgets.Dropdown(options=scd_options, value=scd_options[0])\n",
    "\n",
    "def show_sim_cxn(rid):\n",
    "    translate = lambda x : {known_compounds[outer]['name']: {known_compounds[inner]['name']: inner_v  for inner, inner_v in outer_v.items()} for outer, outer_v in x.items()}\n",
    "    rct_inlinks = translate(sim_cxn[rid]['rct_inlinks'])\n",
    "    pdt_inlinks = translate(sim_cxn[rid]['pdt_inlinks'])\n",
    "    print(\"Rct inlinks\")\n",
    "    for k, v in rct_inlinks.items():\n",
    "        print(k, v)\n",
    "    print(\"\\nPdt inlinks\")\n",
    "    for k, v in pdt_inlinks.items():\n",
    "        print(k, v)\n",
    "    display(SVG(draw_reaction(known_reactions[rid]['smarts'], sub_img_size=(300, 200))))\n",
    "\n",
    "_ = interact(show_sim_cxn, rid=sim_cxn_dropdown)"
   ]
  },
  {
   "cell_type": "markdown",
   "metadata": {},
   "source": [
    "Look at multiply mapped reactions"
   ]
  },
  {
   "cell_type": "code",
   "execution_count": 37,
   "metadata": {},
   "outputs": [
    {
     "name": "stdout",
     "output_type": "stream",
     "text": [
      "246\n"
     ]
    },
    {
     "data": {
      "application/vnd.jupyter.widget-view+json": {
       "model_id": "a86506941f4043f9af78e3ec495e82ba",
       "version_major": 2,
       "version_minor": 0
      },
      "text/plain": [
       "interactive(children=(Dropdown(description='rid', options=(9, 59, 368, 425, 489, 746, 749, 838, 943, 990, 1199…"
      ]
     },
     "metadata": {},
     "output_type": "display_data"
    }
   ],
   "source": [
    "multiple_imt = {k: v for k, v in op_cxn.items() if len(v) > 1}\n",
    "print(len(multiple_imt))\n",
    "mimt_opts = sorted(multiple_imt.keys())\n",
    "mimt_dropdown = widgets.Dropdown(options=mimt_opts, value=mimt_opts[0])\n",
    "\n",
    "_ = interact(show_sim_cxn, rid=mimt_dropdown)"
   ]
  },
  {
   "cell_type": "code",
   "execution_count": 44,
   "metadata": {},
   "outputs": [
    {
     "name": "stdout",
     "output_type": "stream",
     "text": [
      "216\n"
     ]
    }
   ],
   "source": [
    "trivial_cases = [\n",
    "    (1, 1),\n",
    "    (1, 2),\n",
    "    (1, 3),\n",
    "    (1, 4)\n",
    "\n",
    "]\n",
    "\n",
    "mimt_w_trivial = [k for k in multiple_imt if tuple(side_counts[k]) in trivial_cases]\n",
    "print(len(mimt_w_trivial))"
   ]
  },
  {
   "cell_type": "code",
   "execution_count": 43,
   "metadata": {},
   "outputs": [
    {
     "name": "stdout",
     "output_type": "stream",
     "text": [
      "560\n"
     ]
    },
    {
     "data": {
      "application/vnd.jupyter.widget-view+json": {
       "model_id": "70e5c49addbe4a8fbadf722db32b7e7b",
       "version_major": 2,
       "version_minor": 0
      },
      "text/plain": [
       "interactive(children=(Dropdown(description='rid', options=(2, 8, 26, 44, 80, 88, 107, 110, 113, 125, 138, 155,…"
      ]
     },
     "metadata": {},
     "output_type": "display_data"
    }
   ],
   "source": [
    "sim_only = {k: v for k, v in sim_cxn.items() if tuple(side_counts[k]) == (2, 2) and k not in op_cxn}\n",
    "print(len(sim_only))\n",
    "sim_only_opts = sorted(sim_only.keys())\n",
    "sim_only_dropdown = widgets.Dropdown(options=sim_only_opts, value=sim_only_opts[0])\n",
    "\n",
    "_ = interact(show_sim_cxn, rid=sim_only_dropdown)"
   ]
  },
  {
   "cell_type": "markdown",
   "metadata": {},
   "source": [
    "Histogram of number of reactants / product for reactions I could not map"
   ]
  },
  {
   "cell_type": "code",
   "execution_count": 5,
   "metadata": {},
   "outputs": [],
   "source": [
    "\n",
    "def filter_cofactors(known_reactions: dict[str, dict], cofactors: dict[str, str], smi2id: dict[str, int], paired_cofactors: dict[tuple, float] = {}):\n",
    "    '''\n",
    "    Filters cofactors out of known reaction dict\n",
    "    '''\n",
    "    paired_cofactors = {tuple(sorted(k)): v for k, v in paired_cofactors.items()}\n",
    "\n",
    "    filtered_krs = {}\n",
    "    for rid, rxn in known_reactions.items():\n",
    "        lhs, rhs = [set(side.split(\".\")) for side in rxn['smarts'].split(\">>\")] # Set out stoichiometric degeneracy\n",
    "        lhs = [smi2id[elt] for elt in lhs if elt not in cofactors]\n",
    "        rhs = [smi2id[elt] for elt in rhs if elt not in cofactors]\n",
    "\n",
    "        if not lhs or not rhs:\n",
    "            continue\n",
    "\n",
    "        to_remove = tuple()\n",
    "        best_jaccard = 0\n",
    "        for pair in product(lhs, rhs):\n",
    "            srt_pair = tuple(sorted(pair))\n",
    "\n",
    "            if srt_pair in paired_cofactors and paired_cofactors[srt_pair] > best_jaccard:\n",
    "                to_remove = pair # Note NOT srt pair\n",
    "                best_jaccard = paired_cofactors[srt_pair]\n",
    "\n",
    "        if to_remove:\n",
    "            lhs.remove(to_remove[0])\n",
    "            rhs.remove(to_remove[1])\n",
    "\n",
    "        if len(lhs) > len(rhs):\n",
    "            tmp = lhs\n",
    "            lhs = rhs\n",
    "            rhs = tmp\n",
    "\n",
    "        filtered_krs[rid] = (lhs, rhs)\n",
    "    \n",
    "    return filtered_krs\n",
    "\n",
    "def plot_side_counts(side_counts: dict[tuple, set]):\n",
    "    x_labels, cts = zip(*sorted([(k, len(v)) for k,v in side_counts.items()], key= lambda x : x[1], reverse=True))\n",
    "    x = np.arange(len(x_labels))\n",
    "\n",
    "    fig, ax = plt.subplots()\n",
    "    ax.bar(x, height=cts)\n",
    "    ax.set_xticks(x)\n",
    "    ax.set_xticklabels(x_labels, rotation=45)\n",
    "    ax.set_ylabel(\"# reactions\")\n",
    "    ax.set_xlabel(\"(# reactants, # products)\")\n",
    "    plt.show()\n",
    "\n",
    "    return fig"
   ]
  },
  {
   "cell_type": "code",
   "execution_count": 6,
   "metadata": {},
   "outputs": [
    {
     "name": "stderr",
     "output_type": "stream",
     "text": [
      "[15:16:55] WARNING: not removing hydrogen atom without neighbors\n"
     ]
    }
   ],
   "source": [
    "# Compare with similarity connector\n",
    "\n",
    "# Load unpaired cofs\n",
    "unpaired_fp = filepaths['cofactors'] / \"unpaired_cofactors_reference.tsv\"\n",
    "name_blacklist = [\n",
    "    'acetyl-CoA',\n",
    "    'CoA'\n",
    "]\n",
    "\n",
    "unpaired_ref = pd.read_csv(\n",
    "    filepath_or_buffer=unpaired_fp,\n",
    "    sep='\\t'\n",
    ")\n",
    "\n",
    "filtered_unpaired = unpaired_ref.loc[~unpaired_ref['Name'].isin(name_blacklist), :]\n",
    "cofactors = expand_unpaired_cofactors(filtered_unpaired, k=k)\n",
    "\n",
    "manual = {\n",
    "    'N#N': 'N2',\n",
    "    '[H][H]': 'H2',\n",
    "    'S': 'hydrogen sufide',\n",
    "    '[Cl-]': 'chloride',\n",
    "    '[Na+]': 'sodium'\n",
    "}\n",
    "\n",
    "cofactors = {**cofactors, ** manual}\n",
    "\n",
    "# Load cc sim mats\n",
    "cc_sim_mats = {\n",
    "    'mcs': np.load(filepaths['sim_mats'] / \"mcs.npy\"),\n",
    "    'tanimoto': np.load(filepaths['sim_mats'] / \"tanimoto.npy\")\n",
    "}"
   ]
  },
  {
   "cell_type": "code",
   "execution_count": 7,
   "metadata": {},
   "outputs": [
    {
     "name": "stderr",
     "output_type": "stream",
     "text": [
      "/home/stef/krxns/krxns/rxn_cxn.py:117: RuntimeWarning: invalid value encountered in divide\n",
      "  cpd_corr = np.where((row_sum + col_sum - cpd_corr) != 0, cpd_corr / (row_sum + col_sum - cpd_corr), 0) # Jaccard co-occurence-in-rxn index. Symmetric\n"
     ]
    },
    {
     "data": {
      "image/png": "[encoded data removed]",
      "text/plain": [
       "<Figure size 640x480 with 1 Axes>"
      ]
     },
     "metadata": {},
     "output_type": "display_data"
    }
   ],
   "source": [
    "sc = SimilarityConnector(\n",
    "    reactions=known_reactions,\n",
    "    cc_sim_mats=cc_sim_mats,\n",
    "    cofactors=cofactors,\n",
    "    k_paired_cofactors=21,\n",
    ")\n",
    "smi2id = sc.smi2id\n",
    "paired_cofactors = {pair: sc.cc_sim_mats['jaccard'][pair] for pair in sc.paired_cofactors}\n",
    "missed_by_op = {k: v for k, v in known_reactions.items() if k not in op_cxn}\n",
    "\n",
    "filtered_krs = filter_cofactors(missed_by_op, cofactors, smi2id, paired_cofactors)\n",
    "side_counts = defaultdict(set)\n",
    "for rid, (lhs, rhs) in filtered_krs.items():\n",
    "    side_counts[tuple(sorted([len(x) for x in [lhs, rhs]]))].add(rid)\n",
    "\n",
    "len(op_cxn)\n",
    "new = plot_side_counts(side_counts)"
   ]
  },
  {
   "cell_type": "code",
   "execution_count": 8,
   "metadata": {},
   "outputs": [
    {
     "data": {
      "text/plain": [
       "0.9489795918367347"
      ]
     },
     "execution_count": 8,
     "metadata": {},
     "output_type": "execute_result"
    }
   ],
   "source": [
    "9300 / 9800"
   ]
  }
 ],
 "metadata": {
  "kernelspec": {
   "display_name": "krxns-C4WZyL61-py3.10",
   "language": "python",
   "name": "python3"
  },
  "language_info": {
   "codemirror_mode": {
    "name": "ipython",
    "version": 3
   },
   "file_extension": ".py",
   "mimetype": "text/x-python",
   "name": "python",
   "nbconvert_exporter": "python",
   "pygments_lexer": "ipython3",
   "version": "3.10.12"
  }
 },
 "nbformat": 4,
 "nbformat_minor": 2
}
