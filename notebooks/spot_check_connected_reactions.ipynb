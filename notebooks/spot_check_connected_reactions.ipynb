{
 "cells": [
  {
   "cell_type": "code",
   "execution_count": 1,
   "metadata": {},
   "outputs": [],
   "source": [
    "%load_ext autoreload\n",
    "%autoreload 2\n",
    "\n",
    "import numpy as np\n",
    "import pandas as pd\n",
    "import json\n",
    "import rdkit\n",
    "from rdkit import Chem\n",
    "from rdkit.Chem import Draw, BRICS\n",
    "from krxns.cheminfo import expand_unpaired_cofactors, mcs, draw_molecule, draw_reaction\n",
    "from krxns.config import filepaths\n",
    "from krxns.net_construction import SimilarityConnector, extract_compounds\n",
    "from krxns.utils import str2int\n",
    "import ipywidgets as widgets\n",
    "from ipywidgets import interact\n",
    "import matplotlib.pyplot as plt\n",
    "from IPython.display import display, SVG\n",
    "from itertools import product\n",
    "from collections import defaultdict"
   ]
  },
  {
   "cell_type": "code",
   "execution_count": 2,
   "metadata": {},
   "outputs": [],
   "source": [
    "# Load known reaction data\n",
    "with open(filepaths['data'] / 'sprhea_240310_v3_mapped.json', 'r') as f:\n",
    "    known_reactions = json.load(f)\n",
    "\n",
    "known_reactions = {int(k): v for k,v in known_reactions.items()}\n",
    "\n",
    "# Remove reverses\n",
    "rids = set()\n",
    "for k, v in known_reactions.items():\n",
    "    rids.add(tuple(sorted([k, v['reverse']])))\n",
    "\n",
    "keepers = [elt[0] for elt in rids]\n",
    "known_reactions = {k: known_reactions[k] for k in keepers}\n",
    "\n",
    "known_compounds, smi2id = extract_compounds(known_reactions)\n",
    "\n",
    "# Load op connected reactions\n",
    "with open(filepaths['connected_reactions'] / 'sprhea_240310_v3_mapped_operator.json', 'r') as f:\n",
    "    op_cxn = str2int(json.load(f))\n",
    "\n",
    "# Load sim connected reactions\n",
    "with open(filepaths['connected_reactions'] / 'sprhea_240310_v3_mapped_similarity.json', 'r') as f:\n",
    "    sim_cxn = str2int(json.load(f))\n",
    "\n",
    "with open(filepaths['connected_reactions'] / 'sprhea_240310_v3_mapped_side_counts.json', 'r') as f:\n",
    "    side_counts = str2int(json.load(f))"
   ]
  },
  {
   "cell_type": "markdown",
   "metadata": {},
   "source": [
    "Spot check operator connected reactions"
   ]
  },
  {
   "cell_type": "code",
   "execution_count": null,
   "metadata": {},
   "outputs": [],
   "source": [
    "ocd_options = sorted(op_cxn.keys())\n",
    "op_cxn_dropdown = widgets.Dropdown(options=ocd_options, value=ocd_options[0])\n",
    "\n",
    "def show_op_cxn(rid):\n",
    "    for rule in op_cxn[rid]:\n",
    "        print(f\"Rule: {rule}\")\n",
    "        print(f\"Rct inlinks: {op_cxn[rid][rule]['rct_inlinks']}\")\n",
    "        print(f\"Pdt inlinks: {op_cxn[rid][rule]['pdt_inlinks']}\")\n",
    "    display(SVG(draw_reaction(known_reactions[rid]['smarts'], sub_img_size=(300, 200))))\n",
    "\n",
    "_ = interact(show_op_cxn, rid=op_cxn_dropdown)"
   ]
  },
  {
   "cell_type": "markdown",
   "metadata": {},
   "source": [
    "Spot check similarity connected reactions"
   ]
  },
  {
   "cell_type": "code",
   "execution_count": null,
   "metadata": {},
   "outputs": [],
   "source": [
    "scd_options = list(sim_cxn.keys())\n",
    "sim_cxn_dropdown = widgets.Dropdown(options=scd_options, value=scd_options[0])\n",
    "\n",
    "def show_sim_cxn(rid):\n",
    "    translate = lambda x : {known_compounds[outer]['name']: {known_compounds[inner]['name']: inner_v  for inner, inner_v in outer_v.items()} for outer, outer_v in x.items()}\n",
    "    rct_inlinks = translate(sim_cxn[rid]['rct_inlinks'])\n",
    "    pdt_inlinks = translate(sim_cxn[rid]['pdt_inlinks'])\n",
    "    print(\"Rct inlinks\")\n",
    "    for k, v in rct_inlinks.items():\n",
    "        print(k, v)\n",
    "    print(\"\\nPdt inlinks\")\n",
    "    for k, v in pdt_inlinks.items():\n",
    "        print(k, v)\n",
    "    display(SVG(draw_reaction(known_reactions[rid]['smarts'], sub_img_size=(300, 200))))\n",
    "\n",
    "_ = interact(show_sim_cxn, rid=sim_cxn_dropdown)"
   ]
  },
  {
   "cell_type": "markdown",
   "metadata": {},
   "source": [
    "Look at multiply mapped reactions"
   ]
  },
  {
   "cell_type": "code",
   "execution_count": null,
   "metadata": {},
   "outputs": [],
   "source": [
    "multiple_imt = {k: v for k, v in op_cxn.items() if len(v) > 1}\n",
    "print(len(multiple_imt))\n",
    "mimt_opts = sorted(multiple_imt.keys())\n",
    "mimt_dropdown = widgets.Dropdown(options=mimt_opts, value=mimt_opts[0])\n",
    "\n",
    "def show_both(rid):\n",
    "    print(\"SIM CONNECTED\")\n",
    "    translate = lambda x : {known_compounds[outer]['name']: {known_compounds[inner]['name']: inner_v  for inner, inner_v in outer_v.items()} for outer, outer_v in x.items()}\n",
    "    rct_inlinks = translate(sim_cxn[rid]['rct_inlinks'])\n",
    "    pdt_inlinks = translate(sim_cxn[rid]['pdt_inlinks'])\n",
    "    print(\"Rct inlinks\")\n",
    "    for k, v in rct_inlinks.items():\n",
    "        print(k, v)\n",
    "    print(\"\\nPdt inlinks\")\n",
    "    for k, v in pdt_inlinks.items():\n",
    "        print(k, v)\n",
    "\n",
    "    print(\"\\nOP CONNECTED\")\n",
    "    for rule in op_cxn[rid]:\n",
    "        print(f\"Rule: {rule}\")\n",
    "        print(f\"Rct inlinks: {op_cxn[rid][rule]['rct_inlinks']}\")\n",
    "        print(f\"Pdt inlinks: {op_cxn[rid][rule]['pdt_inlinks']}\")\n",
    "\n",
    "    display(SVG(draw_reaction(known_reactions[rid]['smarts'], sub_img_size=(300, 200))))\n",
    "\n",
    "_ = interact(show_both, rid=mimt_dropdown)"
   ]
  },
  {
   "cell_type": "markdown",
   "metadata": {},
   "source": [
    "The two cells below show:\n",
    "1. Most of the multiply mapped reactions are exactly or directionally the same so can resolve easily by picking one\n",
    "2. Those that are coming up as different seem to have to do with water, ambiguity around pentacovalent intermediates / situations with phosphates, and so would go away if I first converted to compound IDs, removing unpaired cofactors along the way"
   ]
  },
  {
   "cell_type": "code",
   "execution_count": null,
   "metadata": {},
   "outputs": [],
   "source": [
    "bad_rids = []\n",
    "\n",
    "for rid in mimt_opts:\n",
    "    exactly_same = True\n",
    "    directionally_same = True\n",
    "\n",
    "    full_side_count = set()\n",
    "    for rule in op_cxn[rid]:\n",
    "        nrcts = len(op_cxn[rid][rule]['rct_inlinks'])\n",
    "        npdts = len(op_cxn[rid][rule]['pdt_inlinks'])\n",
    "        full_side_count.add((nrcts, npdts))\n",
    "\n",
    "    if len(full_side_count) > 1:\n",
    "        raise ValueError(\"Number of substrates not consistent\")\n",
    "\n",
    "    rct_inlinks_check = defaultdict(set)\n",
    "    pdt_inlinks_check = defaultdict(set)\n",
    "    for rule in op_cxn[rid]:\n",
    "        for side in op_cxn[rid][rule]:\n",
    "            for i in op_cxn[rid][rule][side]:\n",
    "                for j in op_cxn[rid][rule][side][i]:\n",
    "                    if side == 'rct_inlinks':\n",
    "                        rct_inlinks_check[(i, j)].add(op_cxn[rid][rule][side][i][j])\n",
    "                    elif side == 'pdt_inlinks':\n",
    "                        pdt_inlinks_check[(i, j)].add(op_cxn[rid][rule][side][i][j])\n",
    "\n",
    "    if exactly_same:\n",
    "        for v in rct_inlinks_check.values():\n",
    "            if len(v) > 1:\n",
    "                exactly_same = False\n",
    "                break\n",
    "\n",
    "    if exactly_same:\n",
    "        for v in pdt_inlinks_check.values():\n",
    "            if len(v) > 1:\n",
    "                exactly_same = False\n",
    "                break\n",
    "\n",
    "    print(f\"exactly_same: {exactly_same}\")\n",
    "\n",
    "    if not exactly_same:\n",
    "        rct_inlinks_check = defaultdict(set)\n",
    "        pdt_inlinks_check = defaultdict(set)\n",
    "        for rule in op_cxn[rid]:\n",
    "            for side in op_cxn[rid][rule]:\n",
    "                for i in op_cxn[rid][rule][side]:\n",
    "                    distro = list(op_cxn[rid][rule][side][i].values())\n",
    "                    if side == 'rct_inlinks':\n",
    "                        rct_inlinks_check[i].add(np.argmax(distro))\n",
    "                    elif side == 'pdt_inlinks':\n",
    "                        pdt_inlinks_check[i].add(np.argmax(distro))\n",
    "\n",
    "        if directionally_same:\n",
    "            for v in rct_inlinks_check.values():\n",
    "                if len(v) > 1:\n",
    "                    directionally_same = False\n",
    "                    break\n",
    "\n",
    "        if directionally_same:\n",
    "            for v in pdt_inlinks_check.values():\n",
    "                if len(v) > 1:\n",
    "                    directionally_same = False\n",
    "                    break\n",
    "\n",
    "        print(f\"Directionally same: {directionally_same}\")\n",
    "\n",
    "    if not exactly_same and not directionally_same:\n",
    "        bad_rids.append(rid)"
   ]
  },
  {
   "cell_type": "code",
   "execution_count": null,
   "metadata": {},
   "outputs": [],
   "source": [
    "bad_opts = sorted(bad_rids)\n",
    "bad_dropdown = widgets.Dropdown(options=bad_opts, value=bad_opts[0])\n",
    "_ = interact(show_both, rid=bad_dropdown)"
   ]
  },
  {
   "cell_type": "markdown",
   "metadata": {},
   "source": [
    "Spot check reactions with only similarity based connection"
   ]
  },
  {
   "cell_type": "code",
   "execution_count": null,
   "metadata": {},
   "outputs": [],
   "source": [
    "sim_only = {k: v for k, v in sim_cxn.items() if tuple(side_counts[k]) == (2, 2) and k not in op_cxn}\n",
    "print(len(sim_only))\n",
    "sim_only_opts = sorted(sim_only.keys())\n",
    "sim_only_dropdown = widgets.Dropdown(options=sim_only_opts, value=sim_only_opts[0])\n",
    "\n",
    "_ = interact(show_sim_cxn, rid=sim_only_dropdown)"
   ]
  },
  {
   "cell_type": "markdown",
   "metadata": {},
   "source": [
    "Histogram of number of reactants / product for reactions I could not map"
   ]
  },
  {
   "cell_type": "code",
   "execution_count": 9,
   "metadata": {},
   "outputs": [],
   "source": [
    "\n",
    "def filter_cofactors(known_reactions: dict[str, dict], cofactors: dict[str, str], smi2id: dict[str, int], paired_cofactors: dict[tuple, float] = {}):\n",
    "    '''\n",
    "    Filters cofactors out of known reaction dict\n",
    "    '''\n",
    "    paired_cofactors = {tuple(sorted(k)): v for k, v in paired_cofactors.items()}\n",
    "\n",
    "    filtered_krs = {}\n",
    "    for rid, rxn in known_reactions.items():\n",
    "        lhs, rhs = [set(side.split(\".\")) for side in rxn['smarts'].split(\">>\")] # Set out stoichiometric degeneracy\n",
    "        lhs = [smi2id[elt] for elt in lhs if elt not in cofactors]\n",
    "        rhs = [smi2id[elt] for elt in rhs if elt not in cofactors]\n",
    "\n",
    "        if not lhs or not rhs:\n",
    "            continue\n",
    "\n",
    "        to_remove = tuple()\n",
    "        best_jaccard = 0\n",
    "        for pair in product(lhs, rhs):\n",
    "            srt_pair = tuple(sorted(pair))\n",
    "\n",
    "            if srt_pair in paired_cofactors and paired_cofactors[srt_pair] > best_jaccard:\n",
    "                to_remove = pair # Note NOT srt pair\n",
    "                best_jaccard = paired_cofactors[srt_pair]\n",
    "\n",
    "        if to_remove:\n",
    "            lhs.remove(to_remove[0])\n",
    "            rhs.remove(to_remove[1])\n",
    "\n",
    "        if len(lhs) > len(rhs):\n",
    "            tmp = lhs\n",
    "            lhs = rhs\n",
    "            rhs = tmp\n",
    "\n",
    "        filtered_krs[rid] = (lhs, rhs)\n",
    "    \n",
    "    return filtered_krs\n",
    "\n",
    "def plot_side_counts(side_counts: dict[tuple, set]):\n",
    "    x_labels, cts = zip(*sorted([(k, len(v)) for k,v in side_counts.items()], key= lambda x : x[1], reverse=True))\n",
    "    x = np.arange(len(x_labels))\n",
    "\n",
    "    fig, ax = plt.subplots()\n",
    "    ax.bar(x, height=cts)\n",
    "    ax.set_xticks(x)\n",
    "    ax.set_xticklabels(x_labels, rotation=45)\n",
    "    ax.set_ylabel(\"# reactions\")\n",
    "    ax.set_xlabel(\"(# reactants, # products)\")\n",
    "    plt.show()\n",
    "\n",
    "    return fig"
   ]
  },
  {
   "cell_type": "code",
   "execution_count": null,
   "metadata": {},
   "outputs": [],
   "source": [
    "# Compare with similarity connector\n",
    "\n",
    "# Load unpaired cofs\n",
    "unpaired_fp = filepaths['cofactors'] / \"unpaired_cofactors_reference.tsv\"\n",
    "name_blacklist = [\n",
    "    'acetyl-CoA',\n",
    "]\n",
    "\n",
    "unpaired_ref = pd.read_csv(\n",
    "    filepath_or_buffer=unpaired_fp,\n",
    "    sep='\\t'\n",
    ")\n",
    "\n",
    "filtered_unpaired = unpaired_ref.loc[~unpaired_ref['Name'].isin(name_blacklist), :]\n",
    "cofactors = expand_unpaired_cofactors(filtered_unpaired, k=10)\n",
    "\n",
    "manual = {\n",
    "    'N#N': 'N2',\n",
    "    '[H][H]': 'H2',\n",
    "    'S': 'hydrogen sufide',\n",
    "    '[Cl-]': 'chloride',\n",
    "    '[Na+]': 'sodium'\n",
    "}\n",
    "\n",
    "cofactors = {**cofactors, ** manual}\n",
    "\n",
    "# Load cc sim mats\n",
    "cc_sim_mats = {\n",
    "    'mcs': np.load(filepaths['sim_mats'] / \"mcs.npy\"),\n",
    "    'tanimoto': np.load(filepaths['sim_mats'] / \"tanimoto.npy\")\n",
    "}"
   ]
  },
  {
   "cell_type": "code",
   "execution_count": null,
   "metadata": {},
   "outputs": [],
   "source": [
    "sc = SimilarityConnector(\n",
    "    reactions=known_reactions,\n",
    "    cc_sim_mats=cc_sim_mats,\n",
    "    cofactors=cofactors,\n",
    "    k_paired_cofactors=21,\n",
    ")\n",
    "smi2id = sc.smi2id\n",
    "paired_cofactors = {pair: sc.cc_sim_mats['jaccard'][pair] for pair in sc.paired_cofactors}\n",
    "missed_by_op = {k: v for k, v in known_reactions.items() if k not in op_cxn}\n",
    "\n",
    "filtered_krs = filter_cofactors(missed_by_op, cofactors, smi2id, paired_cofactors)\n",
    "side_counts = defaultdict(set)\n",
    "for rid, (lhs, rhs) in filtered_krs.items():\n",
    "    side_counts[tuple(sorted([len(x) for x in [lhs, rhs]]))].add(rid)\n",
    "\n",
    "len(op_cxn)\n",
    "new = plot_side_counts(side_counts)"
   ]
  },
  {
   "cell_type": "code",
   "execution_count": null,
   "metadata": {},
   "outputs": [],
   "source": [
    "trivial_cases = [k for k in side_counts if 1 in k]\n",
    "sum([len(side_counts[k]) for k in trivial_cases])"
   ]
  },
  {
   "cell_type": "markdown",
   "metadata": {},
   "source": [
    "Check for degeneracy when I translate operator-connected rct/pdt-idx-based adjacency matrices to compound-id-based"
   ]
  },
  {
   "cell_type": "code",
   "execution_count": 39,
   "metadata": {},
   "outputs": [],
   "source": [
    "corner_cases = {}\n",
    "for rid, rule_dict in op_cxn.items():\n",
    "    smiles = [elt.split('.') for elt in known_reactions[rid]['smarts'].split('>>')]\n",
    "    for rule, side_dict in rule_dict.items():\n",
    "        for side_idx,  (side, outer_dict) in enumerate(side_dict.items()):\n",
    "            \n",
    "\n",
    "            tmp = defaultdict(set)\n",
    "            for i, inner_dict in outer_dict.items():\n",
    "                ismi = smiles[side_idx ^ 0][i]\n",
    "                \n",
    "                if ismi in cofactors:\n",
    "                    continue\n",
    "                iid = smi2id[ismi]\n",
    "                \n",
    "                for j, weight in inner_dict.items():\n",
    "                    jsmi = smiles[side_idx ^ 1][j]\n",
    "                    \n",
    "                    if jsmi in cofactors:\n",
    "                        continue\n",
    "\n",
    "                    jid = smi2id[jsmi]\n",
    "                    tmp[(iid, jid)].add(weight)\n",
    "\n",
    "            for k, v in tmp.items():\n",
    "                if len(v) > 1:\n",
    "                    corner_cases[(rid, rule, side, iid, jid)] = v"
   ]
  },
  {
   "cell_type": "code",
   "execution_count": null,
   "metadata": {},
   "outputs": [],
   "source": [
    "rids, rules, sides, iids, jids = zip(*corner_cases.keys())\n",
    "\n",
    "cc_options = sorted(set(rids))\n",
    "cc_dropdown = widgets.Dropdown(options=cc_options, value=cc_options[0])\n",
    "\n",
    "_ = interact(show_both, rid=cc_options)"
   ]
  },
  {
   "cell_type": "code",
   "execution_count": null,
   "metadata": {},
   "outputs": [],
   "source": [
    "len(set(rids))"
   ]
  },
  {
   "cell_type": "code",
   "execution_count": null,
   "metadata": {},
   "outputs": [],
   "source": [
    "{k: corner_cases[k] for k in corner_cases if 159 in k}"
   ]
  },
  {
   "cell_type": "code",
   "execution_count": null,
   "metadata": {},
   "outputs": [],
   "source": [
    "print(0 ^ 0, 0 ^ 1)\n",
    "print(1 ^ 0, 1 ^ 0)"
   ]
  },
  {
   "cell_type": "code",
   "execution_count": 67,
   "metadata": {},
   "outputs": [],
   "source": [
    "foo = {0: 18, 1: 11, 2: 3}\n",
    "from collections import Counter\n",
    "stoich_counter = Counter(foo.values())\n",
    "if any([s > 1 for s in stoich_counter.values()]):\n",
    "    print('yes')"
   ]
  },
  {
   "cell_type": "code",
   "execution_count": 69,
   "metadata": {},
   "outputs": [],
   "source": [
    "from itertools import product"
   ]
  },
  {
   "cell_type": "code",
   "execution_count": null,
   "metadata": {},
   "outputs": [],
   "source": [
    "list(product(['A1', 'A2'], ['B1', 'B2'], ['Z']))"
   ]
  },
  {
   "cell_type": "code",
   "execution_count": null,
   "metadata": {},
   "outputs": [],
   "source": [
    "foo = {'id1':['A1', 'A2'], 'id2':['B1', 'B2'], 'id3':['Z']}\n",
    "list(product(*foo.values()))"
   ]
  }
 ],
 "metadata": {
  "kernelspec": {
   "display_name": "krxns-C4WZyL61-py3.10",
   "language": "python",
   "name": "python3"
  },
  "language_info": {
   "codemirror_mode": {
    "name": "ipython",
    "version": 3
   },
   "file_extension": ".py",
   "mimetype": "text/x-python",
   "name": "python",
   "nbconvert_exporter": "python",
   "pygments_lexer": "ipython3",
   "version": "3.10.12"
  }
 },
 "nbformat": 4,
 "nbformat_minor": 2
}
