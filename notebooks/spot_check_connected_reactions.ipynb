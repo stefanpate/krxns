{
 "cells": [
  {
   "cell_type": "code",
   "execution_count": 113,
   "metadata": {},
   "outputs": [
    {
     "name": "stdout",
     "output_type": "stream",
     "text": [
      "The autoreload extension is already loaded. To reload it, use:\n",
      "  %reload_ext autoreload\n"
     ]
    }
   ],
   "source": [
    "%load_ext autoreload\n",
    "%autoreload 2\n",
    "\n",
    "import numpy as np\n",
    "import pandas as pd\n",
    "import json\n",
    "import rdkit\n",
    "from rdkit import Chem\n",
    "from rdkit.Chem import Draw, BRICS\n",
    "from krxns.cheminfo import expand_unpaired_cofactors, mcs, draw_molecule, draw_reaction\n",
    "from krxns.config import filepaths\n",
    "from krxns.net_construction import SimilarityConnector, extract_compounds, fold_reactions\n",
    "from krxns.utils import str2int\n",
    "import ipywidgets as widgets\n",
    "from ipywidgets import interact\n",
    "import matplotlib.pyplot as plt\n",
    "from IPython.display import display, SVG\n",
    "from itertools import product\n",
    "from collections import defaultdict"
   ]
  },
  {
   "cell_type": "code",
   "execution_count": 114,
   "metadata": {},
   "outputs": [],
   "source": [
    "def filter_cofactors(known_reactions: dict[str, dict], cofactors: dict[str, str], smi2id: dict[str, int], paired_cofactors: dict[tuple, float] = {}):\n",
    "    '''\n",
    "    Filters cofactors out of known reaction dict\n",
    "    '''\n",
    "    paired_cofactors = {tuple(sorted(k)): v for k, v in paired_cofactors.items()}\n",
    "\n",
    "    filtered_krs = {}\n",
    "    for rid, rxn in known_reactions.items():\n",
    "        lhs, rhs = [set(side.split(\".\")) for side in rxn['smarts'].split(\">>\")] # Set out stoichiometric degeneracy\n",
    "        lhs = [smi2id[elt] for elt in lhs if elt not in cofactors]\n",
    "        rhs = [smi2id[elt] for elt in rhs if elt not in cofactors]\n",
    "\n",
    "        if not lhs or not rhs:\n",
    "            continue\n",
    "\n",
    "        to_remove = tuple()\n",
    "        best_jaccard = 0\n",
    "        for pair in product(lhs, rhs):\n",
    "            srt_pair = tuple(sorted(pair))\n",
    "\n",
    "            if srt_pair in paired_cofactors and paired_cofactors[srt_pair] > best_jaccard:\n",
    "                to_remove = pair # Note NOT srt pair\n",
    "                best_jaccard = paired_cofactors[srt_pair]\n",
    "\n",
    "        if to_remove:\n",
    "            lhs.remove(to_remove[0])\n",
    "            rhs.remove(to_remove[1])\n",
    "\n",
    "        if len(lhs) > len(rhs):\n",
    "            tmp = lhs\n",
    "            lhs = rhs\n",
    "            rhs = tmp\n",
    "\n",
    "        filtered_krs[rid] = (lhs, rhs)\n",
    "    \n",
    "    return filtered_krs\n",
    "\n",
    "def plot_side_counts(side_counts: dict[tuple, set]):\n",
    "    x_labels, cts = zip(*sorted([(k, len(v)) for k,v in side_counts.items()], key= lambda x : x[1], reverse=True))\n",
    "    x = np.arange(len(x_labels))\n",
    "\n",
    "    fig, ax = plt.subplots()\n",
    "    ax.bar(x, height=cts)\n",
    "    ax.set_xticks(x)\n",
    "    ax.set_xticklabels(x_labels, rotation=45)\n",
    "    ax.set_ylabel(\"# reactions\")\n",
    "    ax.set_xlabel(\"(# reactants, # products)\")\n",
    "    plt.show()\n",
    "\n",
    "    return fig"
   ]
  },
  {
   "cell_type": "code",
   "execution_count": 115,
   "metadata": {},
   "outputs": [
    {
     "name": "stderr",
     "output_type": "stream",
     "text": [
      "[15:58:31] WARNING: not removing hydrogen atom without neighbors\n"
     ]
    }
   ],
   "source": [
    "# Load known reaction data\n",
    "with open(filepaths['data'] / 'sprhea_240310_v3_mapped.json', 'r') as f:\n",
    "    known_reactions = json.load(f)\n",
    "\n",
    "known_reactions = fold_reactions(known_reactions)\n",
    "known_compounds, smi2id = extract_compounds(known_reactions)\n",
    "\n",
    "# Load op connected reactions\n",
    "with open(filepaths['connected_reactions'] / 'sprhea_240310_v3_mapped_operator.json', 'r') as f:\n",
    "    op_cxn = str2int(json.load(f))\n",
    "\n",
    "# Load sim connected reactions\n",
    "with open(filepaths['connected_reactions'] / 'sprhea_240310_v3_mapped_similarity.json', 'r') as f:\n",
    "    sim_cxn = str2int(json.load(f))\n",
    "\n",
    "with open(filepaths['connected_reactions'] / 'sprhea_240310_v3_mapped_side_counts.json', 'r') as f:\n",
    "    side_counts = str2int(json.load(f))\n",
    "\n",
    "# Compare with similarity connector\n",
    "\n",
    "# Load unpaired cofs\n",
    "unpaired_fp = filepaths['cofactors'] / \"unpaired_cofactors_reference.tsv\"\n",
    "name_blacklist = [\n",
    "    'acetyl-CoA',\n",
    "]\n",
    "\n",
    "unpaired_ref = pd.read_csv(\n",
    "    filepath_or_buffer=unpaired_fp,\n",
    "    sep='\\t'\n",
    ")\n",
    "\n",
    "filtered_unpaired = unpaired_ref.loc[~unpaired_ref['Name'].isin(name_blacklist), :]\n",
    "cofactors = expand_unpaired_cofactors(filtered_unpaired, k=10)\n",
    "\n",
    "manual = {\n",
    "    'N#N': 'N2',\n",
    "    '[H][H]': 'H2',\n",
    "    'S': 'hydrogen sufide',\n",
    "    '[Cl-]': 'chloride',\n",
    "    '[Na+]': 'sodium'\n",
    "}\n",
    "\n",
    "cofactors = {**cofactors, ** manual}\n",
    "\n",
    "# Load cc sim mats\n",
    "cc_sim_mats = {\n",
    "    'mcs': np.load(filepaths['sim_mats'] / \"mcs.npy\"),\n",
    "    'tanimoto': np.load(filepaths['sim_mats'] / \"tanimoto.npy\")\n",
    "}"
   ]
  },
  {
   "cell_type": "markdown",
   "metadata": {},
   "source": [
    "Spot check operator connected reactions"
   ]
  },
  {
   "cell_type": "code",
   "execution_count": 116,
   "metadata": {},
   "outputs": [
    {
     "data": {
      "application/vnd.jupyter.widget-view+json": {
       "model_id": "107cdfa77dc943cab7c5b655e1df9cf0",
       "version_major": 2,
       "version_minor": 0
      },
      "text/plain": [
       "interactive(children=(Dropdown(description='rid', options=(0, 1, 5, 6, 7, 9, 10, 13, 14, 16, 17, 20, 21, 24, 2…"
      ]
     },
     "metadata": {},
     "output_type": "display_data"
    }
   ],
   "source": [
    "ocd_options = sorted(op_cxn.keys())\n",
    "op_cxn_dropdown = widgets.Dropdown(options=ocd_options, value=ocd_options[0])\n",
    "\n",
    "def show_op_cxn(rid):\n",
    "    for rule in op_cxn[rid]:\n",
    "        print(f\"Rule: {rule}\")\n",
    "        print(f\"Rct inlinks: {op_cxn[rid][rule]['rct_inlinks']}\")\n",
    "        print(f\"Pdt inlinks: {op_cxn[rid][rule]['pdt_inlinks']}\")\n",
    "    display(SVG(draw_reaction(known_reactions[rid]['smarts'], sub_img_size=(300, 200))))\n",
    "\n",
    "_ = interact(show_op_cxn, rid=op_cxn_dropdown)"
   ]
  },
  {
   "cell_type": "markdown",
   "metadata": {},
   "source": [
    "Spot check similarity connected reactions"
   ]
  },
  {
   "cell_type": "code",
   "execution_count": 117,
   "metadata": {},
   "outputs": [
    {
     "data": {
      "application/vnd.jupyter.widget-view+json": {
       "model_id": "38c31b91c46d4f33a12e77fc44be29d3",
       "version_major": 2,
       "version_minor": 0
      },
      "text/plain": [
       "interactive(children=(Dropdown(description='rid', options=(1123, 740, 7946, 10239, 12221, 13772, 6566, 14312, …"
      ]
     },
     "metadata": {},
     "output_type": "display_data"
    }
   ],
   "source": [
    "scd_options = list(sim_cxn.keys())\n",
    "sim_cxn_dropdown = widgets.Dropdown(options=scd_options, value=scd_options[0])\n",
    "\n",
    "def show_sim_cxn(rid):\n",
    "    translate = lambda x : {known_compounds[outer]['name']: {known_compounds[inner]['name']: inner_v  for inner, inner_v in outer_v.items()} for outer, outer_v in x.items()}\n",
    "    rct_inlinks = translate(sim_cxn[rid]['rct_inlinks'])\n",
    "    pdt_inlinks = translate(sim_cxn[rid]['pdt_inlinks'])\n",
    "    print(\"Rct inlinks\")\n",
    "    for k, v in rct_inlinks.items():\n",
    "        print(k, v)\n",
    "    print(\"\\nPdt inlinks\")\n",
    "    for k, v in pdt_inlinks.items():\n",
    "        print(k, v)\n",
    "    display(SVG(draw_reaction(known_reactions[rid]['smarts'], sub_img_size=(300, 200))))\n",
    "\n",
    "_ = interact(show_sim_cxn, rid=sim_cxn_dropdown)"
   ]
  },
  {
   "cell_type": "markdown",
   "metadata": {},
   "source": [
    "Look at multiply mapped reactions"
   ]
  },
  {
   "cell_type": "code",
   "execution_count": 118,
   "metadata": {},
   "outputs": [
    {
     "name": "stdout",
     "output_type": "stream",
     "text": [
      "246\n"
     ]
    },
    {
     "data": {
      "application/vnd.jupyter.widget-view+json": {
       "model_id": "025ca364ddc743e0856694a808a77101",
       "version_major": 2,
       "version_minor": 0
      },
      "text/plain": [
       "interactive(children=(Dropdown(description='rid', options=(9, 59, 368, 425, 489, 746, 749, 838, 943, 990, 1199…"
      ]
     },
     "metadata": {},
     "output_type": "display_data"
    }
   ],
   "source": [
    "multiple_imt = {k: v for k, v in op_cxn.items() if len(v) > 1}\n",
    "print(len(multiple_imt))\n",
    "mimt_opts = sorted(multiple_imt.keys())\n",
    "mimt_dropdown = widgets.Dropdown(options=mimt_opts, value=mimt_opts[0])\n",
    "\n",
    "def show_both(rid):\n",
    "    print(\"SIM CONNECTED\")\n",
    "    translate = lambda x : {known_compounds[outer]['name']: {known_compounds[inner]['name']: inner_v  for inner, inner_v in outer_v.items()} for outer, outer_v in x.items()}\n",
    "    rct_inlinks = translate(sim_cxn[rid]['rct_inlinks'])\n",
    "    pdt_inlinks = translate(sim_cxn[rid]['pdt_inlinks'])\n",
    "    print(\"Rct inlinks\")\n",
    "    for k, v in rct_inlinks.items():\n",
    "        print(k, v)\n",
    "    print(\"\\nPdt inlinks\")\n",
    "    for k, v in pdt_inlinks.items():\n",
    "        print(k, v)\n",
    "\n",
    "    print(\"\\nOP CONNECTED\")\n",
    "    for rule in op_cxn[rid]:\n",
    "        print(f\"Rule: {rule}\")\n",
    "        print(f\"Rct inlinks: {op_cxn[rid][rule]['rct_inlinks']}\")\n",
    "        print(f\"Pdt inlinks: {op_cxn[rid][rule]['pdt_inlinks']}\")\n",
    "\n",
    "    display(SVG(draw_reaction(known_reactions[rid]['smarts'], sub_img_size=(300, 200))))\n",
    "\n",
    "_ = interact(show_both, rid=mimt_dropdown)"
   ]
  },
  {
   "cell_type": "markdown",
   "metadata": {},
   "source": [
    "The two cells below show:\n",
    "1. Most of the multiply mapped reactions are exactly or directionally the same so can resolve easily by picking one\n",
    "2. Those that are coming up as different seem to have to do with water, ambiguity around pentacovalent intermediates / situations with phosphates, and so would go away if I first converted to compound IDs, removing unpaired cofactors along the way"
   ]
  },
  {
   "cell_type": "code",
   "execution_count": 119,
   "metadata": {},
   "outputs": [
    {
     "name": "stdout",
     "output_type": "stream",
     "text": [
      "exactly_same: True\n",
      "exactly_same: True\n",
      "exactly_same: False\n",
      "Directionally same: False\n",
      "exactly_same: False\n",
      "Directionally same: False\n",
      "exactly_same: False\n",
      "Directionally same: False\n",
      "exactly_same: True\n",
      "exactly_same: True\n",
      "exactly_same: False\n",
      "Directionally same: False\n",
      "exactly_same: True\n",
      "exactly_same: False\n",
      "Directionally same: False\n",
      "exactly_same: True\n",
      "exactly_same: False\n",
      "Directionally same: False\n",
      "exactly_same: True\n",
      "exactly_same: True\n",
      "exactly_same: True\n",
      "exactly_same: True\n",
      "exactly_same: False\n",
      "Directionally same: False\n",
      "exactly_same: False\n",
      "Directionally same: False\n",
      "exactly_same: True\n",
      "exactly_same: True\n",
      "exactly_same: True\n",
      "exactly_same: False\n",
      "Directionally same: False\n",
      "exactly_same: True\n",
      "exactly_same: True\n",
      "exactly_same: False\n",
      "Directionally same: False\n",
      "exactly_same: True\n",
      "exactly_same: True\n",
      "exactly_same: True\n",
      "exactly_same: False\n",
      "Directionally same: False\n",
      "exactly_same: False\n",
      "Directionally same: False\n",
      "exactly_same: True\n",
      "exactly_same: True\n",
      "exactly_same: True\n",
      "exactly_same: True\n",
      "exactly_same: False\n",
      "Directionally same: False\n",
      "exactly_same: True\n",
      "exactly_same: True\n",
      "exactly_same: True\n",
      "exactly_same: True\n",
      "exactly_same: True\n",
      "exactly_same: False\n",
      "Directionally same: False\n",
      "exactly_same: False\n",
      "Directionally same: False\n",
      "exactly_same: True\n",
      "exactly_same: True\n",
      "exactly_same: True\n",
      "exactly_same: True\n",
      "exactly_same: True\n",
      "exactly_same: True\n",
      "exactly_same: False\n",
      "Directionally same: False\n",
      "exactly_same: False\n",
      "Directionally same: False\n",
      "exactly_same: True\n",
      "exactly_same: False\n",
      "Directionally same: False\n",
      "exactly_same: False\n",
      "Directionally same: False\n",
      "exactly_same: False\n",
      "Directionally same: False\n",
      "exactly_same: False\n",
      "Directionally same: False\n",
      "exactly_same: True\n",
      "exactly_same: True\n",
      "exactly_same: False\n",
      "Directionally same: False\n",
      "exactly_same: False\n",
      "Directionally same: False\n",
      "exactly_same: False\n",
      "Directionally same: False\n",
      "exactly_same: False\n",
      "Directionally same: False\n",
      "exactly_same: True\n",
      "exactly_same: False\n",
      "Directionally same: False\n",
      "exactly_same: False\n",
      "Directionally same: False\n",
      "exactly_same: False\n",
      "Directionally same: False\n",
      "exactly_same: True\n",
      "exactly_same: True\n",
      "exactly_same: False\n",
      "Directionally same: False\n",
      "exactly_same: False\n",
      "Directionally same: False\n",
      "exactly_same: False\n",
      "Directionally same: False\n",
      "exactly_same: False\n",
      "Directionally same: False\n",
      "exactly_same: True\n",
      "exactly_same: True\n",
      "exactly_same: False\n",
      "Directionally same: False\n",
      "exactly_same: True\n",
      "exactly_same: False\n",
      "Directionally same: False\n",
      "exactly_same: False\n",
      "Directionally same: False\n",
      "exactly_same: True\n",
      "exactly_same: True\n",
      "exactly_same: True\n",
      "exactly_same: True\n",
      "exactly_same: True\n",
      "exactly_same: True\n",
      "exactly_same: True\n",
      "exactly_same: True\n",
      "exactly_same: True\n",
      "exactly_same: False\n",
      "Directionally same: False\n",
      "exactly_same: True\n",
      "exactly_same: True\n",
      "exactly_same: False\n",
      "Directionally same: False\n",
      "exactly_same: True\n",
      "exactly_same: False\n",
      "Directionally same: False\n",
      "exactly_same: False\n",
      "Directionally same: False\n",
      "exactly_same: False\n",
      "Directionally same: False\n",
      "exactly_same: True\n",
      "exactly_same: False\n",
      "Directionally same: False\n",
      "exactly_same: True\n",
      "exactly_same: False\n",
      "Directionally same: False\n",
      "exactly_same: False\n",
      "Directionally same: False\n",
      "exactly_same: False\n",
      "Directionally same: False\n",
      "exactly_same: True\n",
      "exactly_same: True\n",
      "exactly_same: True\n",
      "exactly_same: True\n",
      "exactly_same: True\n",
      "exactly_same: False\n",
      "Directionally same: False\n",
      "exactly_same: True\n",
      "exactly_same: True\n",
      "exactly_same: True\n",
      "exactly_same: True\n",
      "exactly_same: False\n",
      "Directionally same: False\n",
      "exactly_same: True\n",
      "exactly_same: True\n",
      "exactly_same: False\n",
      "Directionally same: False\n",
      "exactly_same: False\n",
      "Directionally same: False\n",
      "exactly_same: False\n",
      "Directionally same: False\n",
      "exactly_same: True\n",
      "exactly_same: False\n",
      "Directionally same: False\n",
      "exactly_same: False\n",
      "Directionally same: False\n",
      "exactly_same: True\n",
      "exactly_same: False\n",
      "Directionally same: False\n",
      "exactly_same: False\n",
      "Directionally same: False\n",
      "exactly_same: False\n",
      "Directionally same: False\n",
      "exactly_same: True\n",
      "exactly_same: False\n",
      "Directionally same: False\n",
      "exactly_same: True\n",
      "exactly_same: True\n",
      "exactly_same: False\n",
      "Directionally same: False\n",
      "exactly_same: True\n",
      "exactly_same: True\n",
      "exactly_same: True\n",
      "exactly_same: False\n",
      "Directionally same: False\n",
      "exactly_same: False\n",
      "Directionally same: False\n",
      "exactly_same: True\n",
      "exactly_same: True\n",
      "exactly_same: False\n",
      "Directionally same: False\n",
      "exactly_same: True\n",
      "exactly_same: True\n",
      "exactly_same: True\n",
      "exactly_same: True\n",
      "exactly_same: False\n",
      "Directionally same: False\n",
      "exactly_same: False\n",
      "Directionally same: False\n",
      "exactly_same: True\n",
      "exactly_same: True\n",
      "exactly_same: True\n",
      "exactly_same: False\n",
      "Directionally same: False\n",
      "exactly_same: False\n",
      "Directionally same: False\n",
      "exactly_same: False\n",
      "Directionally same: False\n",
      "exactly_same: False\n",
      "Directionally same: False\n",
      "exactly_same: True\n",
      "exactly_same: True\n",
      "exactly_same: True\n",
      "exactly_same: False\n",
      "Directionally same: False\n",
      "exactly_same: True\n",
      "exactly_same: False\n",
      "Directionally same: False\n",
      "exactly_same: True\n",
      "exactly_same: True\n",
      "exactly_same: False\n",
      "Directionally same: False\n",
      "exactly_same: False\n",
      "Directionally same: False\n",
      "exactly_same: True\n",
      "exactly_same: False\n",
      "Directionally same: False\n",
      "exactly_same: True\n",
      "exactly_same: True\n",
      "exactly_same: False\n",
      "Directionally same: False\n",
      "exactly_same: False\n",
      "Directionally same: False\n",
      "exactly_same: True\n",
      "exactly_same: True\n",
      "exactly_same: False\n",
      "Directionally same: False\n",
      "exactly_same: False\n",
      "Directionally same: False\n",
      "exactly_same: False\n",
      "Directionally same: False\n",
      "exactly_same: True\n",
      "exactly_same: True\n",
      "exactly_same: True\n",
      "exactly_same: True\n",
      "exactly_same: True\n",
      "exactly_same: True\n",
      "exactly_same: True\n",
      "exactly_same: False\n",
      "Directionally same: False\n",
      "exactly_same: False\n",
      "Directionally same: False\n",
      "exactly_same: False\n",
      "Directionally same: False\n",
      "exactly_same: True\n",
      "exactly_same: False\n",
      "Directionally same: False\n",
      "exactly_same: True\n",
      "exactly_same: True\n",
      "exactly_same: True\n",
      "exactly_same: False\n",
      "Directionally same: False\n",
      "exactly_same: False\n",
      "Directionally same: False\n",
      "exactly_same: True\n",
      "exactly_same: False\n",
      "Directionally same: False\n",
      "exactly_same: True\n",
      "exactly_same: True\n",
      "exactly_same: True\n",
      "exactly_same: False\n",
      "Directionally same: False\n",
      "exactly_same: False\n",
      "Directionally same: False\n",
      "exactly_same: False\n",
      "Directionally same: False\n",
      "exactly_same: True\n",
      "exactly_same: True\n",
      "exactly_same: True\n",
      "exactly_same: True\n",
      "exactly_same: True\n",
      "exactly_same: True\n",
      "exactly_same: True\n",
      "exactly_same: False\n",
      "Directionally same: False\n",
      "exactly_same: True\n",
      "exactly_same: True\n",
      "exactly_same: False\n",
      "Directionally same: False\n",
      "exactly_same: True\n",
      "exactly_same: True\n",
      "exactly_same: True\n",
      "exactly_same: True\n",
      "exactly_same: True\n",
      "exactly_same: True\n",
      "exactly_same: True\n",
      "exactly_same: True\n",
      "exactly_same: False\n",
      "Directionally same: False\n",
      "exactly_same: False\n",
      "Directionally same: False\n",
      "exactly_same: True\n",
      "exactly_same: True\n",
      "exactly_same: True\n",
      "exactly_same: True\n",
      "exactly_same: True\n",
      "exactly_same: True\n",
      "exactly_same: True\n",
      "exactly_same: True\n",
      "exactly_same: True\n",
      "exactly_same: False\n",
      "Directionally same: False\n",
      "exactly_same: True\n",
      "exactly_same: False\n",
      "Directionally same: False\n",
      "exactly_same: True\n",
      "exactly_same: True\n",
      "exactly_same: True\n",
      "exactly_same: True\n",
      "exactly_same: True\n",
      "exactly_same: True\n",
      "exactly_same: True\n",
      "exactly_same: True\n",
      "exactly_same: True\n",
      "exactly_same: True\n",
      "exactly_same: True\n",
      "exactly_same: True\n",
      "exactly_same: True\n",
      "exactly_same: True\n",
      "exactly_same: True\n",
      "exactly_same: True\n",
      "exactly_same: True\n",
      "exactly_same: True\n"
     ]
    }
   ],
   "source": [
    "bad_rids = []\n",
    "\n",
    "for rid in mimt_opts:\n",
    "    exactly_same = True\n",
    "    directionally_same = True\n",
    "\n",
    "    full_side_count = set()\n",
    "    for rule in op_cxn[rid]:\n",
    "        nrcts = len(op_cxn[rid][rule]['rct_inlinks'])\n",
    "        npdts = len(op_cxn[rid][rule]['pdt_inlinks'])\n",
    "        full_side_count.add((nrcts, npdts))\n",
    "\n",
    "    if len(full_side_count) > 1:\n",
    "        raise ValueError(\"Number of substrates not consistent\")\n",
    "\n",
    "    rct_inlinks_check = defaultdict(set)\n",
    "    pdt_inlinks_check = defaultdict(set)\n",
    "    for rule in op_cxn[rid]:\n",
    "        for side in op_cxn[rid][rule]:\n",
    "            for i in op_cxn[rid][rule][side]:\n",
    "                for j in op_cxn[rid][rule][side][i]:\n",
    "                    if side == 'rct_inlinks':\n",
    "                        rct_inlinks_check[(i, j)].add(op_cxn[rid][rule][side][i][j])\n",
    "                    elif side == 'pdt_inlinks':\n",
    "                        pdt_inlinks_check[(i, j)].add(op_cxn[rid][rule][side][i][j])\n",
    "\n",
    "    if exactly_same:\n",
    "        for v in rct_inlinks_check.values():\n",
    "            if len(v) > 1:\n",
    "                exactly_same = False\n",
    "                break\n",
    "\n",
    "    if exactly_same:\n",
    "        for v in pdt_inlinks_check.values():\n",
    "            if len(v) > 1:\n",
    "                exactly_same = False\n",
    "                break\n",
    "\n",
    "    print(f\"exactly_same: {exactly_same}\")\n",
    "\n",
    "    if not exactly_same:\n",
    "        rct_inlinks_check = defaultdict(set)\n",
    "        pdt_inlinks_check = defaultdict(set)\n",
    "        for rule in op_cxn[rid]:\n",
    "            for side in op_cxn[rid][rule]:\n",
    "                for i in op_cxn[rid][rule][side]:\n",
    "                    distro = list(op_cxn[rid][rule][side][i].values())\n",
    "                    if side == 'rct_inlinks':\n",
    "                        rct_inlinks_check[i].add(np.argmax(distro))\n",
    "                    elif side == 'pdt_inlinks':\n",
    "                        pdt_inlinks_check[i].add(np.argmax(distro))\n",
    "\n",
    "        if directionally_same:\n",
    "            for v in rct_inlinks_check.values():\n",
    "                if len(v) > 1:\n",
    "                    directionally_same = False\n",
    "                    break\n",
    "\n",
    "        if directionally_same:\n",
    "            for v in pdt_inlinks_check.values():\n",
    "                if len(v) > 1:\n",
    "                    directionally_same = False\n",
    "                    break\n",
    "\n",
    "        print(f\"Directionally same: {directionally_same}\")\n",
    "\n",
    "    if not exactly_same and not directionally_same:\n",
    "        bad_rids.append(rid)"
   ]
  },
  {
   "cell_type": "code",
   "execution_count": 120,
   "metadata": {},
   "outputs": [
    {
     "data": {
      "application/vnd.jupyter.widget-view+json": {
       "model_id": "5e956b055482414891f8157eaf104517",
       "version_major": 2,
       "version_minor": 0
      },
      "text/plain": [
       "interactive(children=(Dropdown(description='rid', options=(368, 425, 489, 838, 990, 1290, 1475, 1589, 2090, 23…"
      ]
     },
     "metadata": {},
     "output_type": "display_data"
    }
   ],
   "source": [
    "bad_opts = sorted(bad_rids)\n",
    "bad_dropdown = widgets.Dropdown(options=bad_opts, value=bad_opts[0])\n",
    "_ = interact(show_both, rid=bad_dropdown)"
   ]
  },
  {
   "cell_type": "markdown",
   "metadata": {},
   "source": [
    "Spot check reactions with only similarity based connection"
   ]
  },
  {
   "cell_type": "code",
   "execution_count": 121,
   "metadata": {},
   "outputs": [
    {
     "name": "stdout",
     "output_type": "stream",
     "text": [
      "624\n"
     ]
    },
    {
     "data": {
      "application/vnd.jupyter.widget-view+json": {
       "model_id": "194a7b2fe581426282d90c4528d829fc",
       "version_major": 2,
       "version_minor": 0
      },
      "text/plain": [
       "interactive(children=(Dropdown(description='rid', options=(2, 26, 40, 44, 77, 80, 88, 93, 107, 110, 113, 134, …"
      ]
     },
     "metadata": {},
     "output_type": "display_data"
    }
   ],
   "source": [
    "sim_only = {k: v for k, v in sim_cxn.items() if tuple(side_counts[k]) == (2, 2) and k not in op_cxn}\n",
    "print(len(sim_only))\n",
    "sim_only_opts = sorted(sim_only.keys())\n",
    "sim_only_dropdown = widgets.Dropdown(options=sim_only_opts, value=sim_only_opts[0])\n",
    "\n",
    "_ = interact(show_sim_cxn, rid=sim_only_dropdown)"
   ]
  },
  {
   "cell_type": "markdown",
   "metadata": {},
   "source": [
    "Histogram of number of reactants / product for reactions I could not map"
   ]
  },
  {
   "cell_type": "code",
   "execution_count": 122,
   "metadata": {},
   "outputs": [
    {
     "name": "stderr",
     "output_type": "stream",
     "text": [
      "/home/stef/krxns/krxns/net_construction.py:309: RuntimeWarning: invalid value encountered in divide\n",
      "  \n"
     ]
    },
    {
     "data": {
      "image/png": "[encoded data removed]",
      "text/plain": [
       "<Figure size 640x480 with 1 Axes>"
      ]
     },
     "metadata": {},
     "output_type": "display_data"
    }
   ],
   "source": [
    "sc = SimilarityConnector(\n",
    "    reactions=known_reactions,\n",
    "    cc_sim_mats=cc_sim_mats,\n",
    "    cofactors=cofactors,\n",
    "    k_paired_cofactors=21,\n",
    ")\n",
    "smi2id = sc.smi2id\n",
    "paired_cofactors = {pair: sc.cc_sim_mats['jaccard'][pair] for pair in sc.paired_cofactors}\n",
    "missed_by_op = {k: v for k, v in known_reactions.items() if k not in op_cxn}\n",
    "\n",
    "filtered_krs = filter_cofactors(missed_by_op, cofactors, smi2id, paired_cofactors)\n",
    "side_counts = defaultdict(set)\n",
    "for rid, (lhs, rhs) in filtered_krs.items():\n",
    "    side_counts[tuple(sorted([len(x) for x in [lhs, rhs]]))].add(rid)\n",
    "\n",
    "len(op_cxn)\n",
    "new = plot_side_counts(side_counts)"
   ]
  },
  {
   "cell_type": "code",
   "execution_count": 123,
   "metadata": {},
   "outputs": [
    {
     "data": {
      "text/plain": [
       "3337"
      ]
     },
     "execution_count": 123,
     "metadata": {},
     "output_type": "execute_result"
    }
   ],
   "source": [
    "trivial_cases = [k for k in side_counts if 1 in k]\n",
    "sum([len(side_counts[k]) for k in trivial_cases])"
   ]
  },
  {
   "cell_type": "markdown",
   "metadata": {},
   "source": [
    "Check for degeneracy when I translate operator-connected rct/pdt-idx-based adjacency matrices to compound-id-based"
   ]
  },
  {
   "cell_type": "code",
   "execution_count": 124,
   "metadata": {},
   "outputs": [],
   "source": [
    "corner_cases = {}\n",
    "for rid, rule_dict in op_cxn.items():\n",
    "    smiles = [elt.split('.') for elt in known_reactions[rid]['smarts'].split('>>')]\n",
    "    for rule, side_dict in rule_dict.items():\n",
    "        for side_idx,  (side, outer_dict) in enumerate(side_dict.items()):\n",
    "            \n",
    "\n",
    "            tmp = defaultdict(set)\n",
    "            for i, inner_dict in outer_dict.items():\n",
    "                ismi = smiles[side_idx ^ 0][i]\n",
    "                \n",
    "                if ismi in cofactors:\n",
    "                    continue\n",
    "                iid = smi2id[ismi]\n",
    "                \n",
    "                for j, weight in inner_dict.items():\n",
    "                    jsmi = smiles[side_idx ^ 1][j]\n",
    "                    \n",
    "                    if jsmi in cofactors:\n",
    "                        continue\n",
    "\n",
    "                    jid = smi2id[jsmi]\n",
    "                    tmp[(iid, jid)].add(weight)\n",
    "\n",
    "            for k, v in tmp.items():\n",
    "                if len(v) > 1:\n",
    "                    corner_cases[(rid, rule, side, iid, jid)] = v"
   ]
  },
  {
   "cell_type": "code",
   "execution_count": 125,
   "metadata": {},
   "outputs": [
    {
     "data": {
      "application/vnd.jupyter.widget-view+json": {
       "model_id": "f99daea6de0c490eab82b007eadd76d7",
       "version_major": 2,
       "version_minor": 0
      },
      "text/plain": [
       "interactive(children=(Dropdown(description='rid', options=(159, 268, 641, 836, 890, 912, 990, 1181, 1251, 1306…"
      ]
     },
     "metadata": {},
     "output_type": "display_data"
    }
   ],
   "source": [
    "rids, rules, sides, iids, jids = zip(*corner_cases.keys())\n",
    "\n",
    "cc_options = sorted(set(rids))\n",
    "cc_dropdown = widgets.Dropdown(options=cc_options, value=cc_options[0])\n",
    "\n",
    "_ = interact(show_both, rid=cc_options)"
   ]
  },
  {
   "cell_type": "code",
   "execution_count": 166,
   "metadata": {},
   "outputs": [],
   "source": [
    "double_resolved = op_cxn.keys() & sim_cxn.keys()\n",
    "direction_from_side = lambda side : 0 if side == 'rct_inlinks' else 1 if side == 'pdt_inlinks' else print(\"Error side key not found\")\n",
    "from krxns.net_construction import remove_cofactors, handle_multiple_rules, translate_operator_adj_mat\n",
    "\n",
    "\n",
    "mismatches = {}\n",
    "for rid in double_resolved:\n",
    "    rules = op_cxn[rid]\n",
    "    smiles = [elt.split('.') for elt in known_reactions[rid]['smarts'].split('>>')]\n",
    "\n",
    "    # Remove unpaired cofactors\n",
    "    filtered_rules = defaultdict(lambda : defaultdict(dict))\n",
    "    for rule, sides in rules.items():\n",
    "        for side, adj_mat in sides.items():\n",
    "            direction = direction_from_side(side)\n",
    "            adj_mat = remove_cofactors(adj_mat, direction, smiles, cofactors)\n",
    "            filtered_rules[rule][side] = adj_mat\n",
    "\n",
    "    sel_adj_mats = handle_multiple_rules(filtered_rules) # Resolve cases with multiple rules\n",
    "\n",
    "    for side, adj_mat in sel_adj_mats.items():\n",
    "        direction = direction_from_side(side)\n",
    "        adj_mat = translate_operator_adj_mat(adj_mat, direction, smiles, smi2id)[0]\n",
    "        \n",
    "        for cid, op_row in adj_mat.items():\n",
    "            sim_row = sim_cxn[rid][side][cid]\n",
    "            op_max_neighbor = sorted(op_row, key=lambda x : op_row[x], reverse=True)[0]\n",
    "            sim_max_neighbor = sorted(sim_row, key=lambda x : sim_row[x], reverse=True)[0]\n",
    "            if op_max_neighbor != sim_max_neighbor:\n",
    "                mismatches[rid] = (adj_mat, sim_cxn[rid][side], side) # (operator, similarity, side)"
   ]
  },
  {
   "cell_type": "code",
   "execution_count": 167,
   "metadata": {},
   "outputs": [
    {
     "data": {
      "text/plain": [
       "(798, 5610, 0.14224598930481283)"
      ]
     },
     "execution_count": 167,
     "metadata": {},
     "output_type": "execute_result"
    }
   ],
   "source": [
    "len(mismatches), len(double_resolved), len(mismatches) / len(double_resolved)"
   ]
  },
  {
   "cell_type": "code",
   "execution_count": 172,
   "metadata": {},
   "outputs": [
    {
     "data": {
      "application/vnd.jupyter.widget-view+json": {
       "model_id": "7f03210ede3549d8a315366fc6e9fad9",
       "version_major": 2,
       "version_minor": 0
      },
      "text/plain": [
       "interactive(children=(Dropdown(description='rid', options=(6, 10, 24, 45, 46, 47, 61, 81, 95, 98, 135, 140, 15…"
      ]
     },
     "metadata": {},
     "output_type": "display_data"
    }
   ],
   "source": [
    "opts = sorted(mismatches.keys())\n",
    "dd = widgets.Dropdown(options=opts, value=opts[0])\n",
    "\n",
    "@interact\n",
    "def compare_op_sim(rid = dd):\n",
    "    translate = lambda x : {known_compounds[outer]['name']: {known_compounds[inner]['name']: inner_v  for inner, inner_v in outer_v.items()} for outer, outer_v in x.items()}\n",
    "    labels = (\"Operator\", \"Similarity\")\n",
    "    print(rid, known_reactions[rid]['imt_rules'], mismatches[rid][-1])\n",
    "    display(SVG(draw_reaction(known_reactions[rid]['smarts'])))\n",
    "    for i, adj in enumerate(mismatches[rid][:2]):\n",
    "        print(labels[i])\n",
    "        adj = translate(adj)\n",
    "        adj = pd.DataFrame(adj).transpose()\n",
    "        display(adj)"
   ]
  },
  {
   "cell_type": "code",
   "execution_count": 174,
   "metadata": {},
   "outputs": [
    {
     "name": "stdout",
     "output_type": "stream",
     "text": [
      "5088\n",
      "6293\n",
      "7531\n",
      "9243\n",
      "10216\n",
      "10540\n",
      "12066\n",
      "14722\n",
      "15237\n",
      "16754\n"
     ]
    }
   ],
   "source": [
    "for mm in mismatches:\n",
    "    imt = known_reactions[mm]['imt_rules']\n",
    "    imt = [elt.split('_')[0] for elt in imt]\n",
    "    if 'rule0126' in imt:\n",
    "        print(mm)"
   ]
  },
  {
   "cell_type": "code",
   "execution_count": 176,
   "metadata": {},
   "outputs": [
    {
     "data": {
      "text/plain": [
       "[41489]"
      ]
     },
     "execution_count": 176,
     "metadata": {},
     "output_type": "execute_result"
    }
   ],
   "source": [
    "known_reactions[7531]['rhea_ids']"
   ]
  }
 ],
 "metadata": {
  "kernelspec": {
   "display_name": "krxns-C4WZyL61-py3.10",
   "language": "python",
   "name": "python3"
  },
  "language_info": {
   "codemirror_mode": {
    "name": "ipython",
    "version": 3
   },
   "file_extension": ".py",
   "mimetype": "text/x-python",
   "name": "python",
   "nbconvert_exporter": "python",
   "pygments_lexer": "ipython3",
   "version": "3.10.12"
  }
 },
 "nbformat": 4,
 "nbformat_minor": 2
}
