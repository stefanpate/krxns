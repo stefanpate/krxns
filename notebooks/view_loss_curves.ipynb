{
 "cells": [
  {
   "cell_type": "code",
   "execution_count": 1,
   "metadata": {},
   "outputs": [],
   "source": [
    "%load_ext autoreload\n",
    "%autoreload 2\n",
    "\n",
    "from krxns.config import filepaths\n",
    "import numpy as np\n",
    "import pandas as pd\n",
    "import matplotlib.pyplot as plt\n",
    "import ipywidgets as widgets\n",
    "from ipywidgets import interact\n"
   ]
  },
  {
   "cell_type": "code",
   "execution_count": null,
   "metadata": {},
   "outputs": [],
   "source": [
    "# Set this\n",
    "experiment = \"default_chemprop_data_titration\"\n",
    "copts = [elt.stem for elt in  (filepaths[\"spl_cv\"] / experiment).glob('*')]\n"
   ]
  },
  {
   "cell_type": "code",
   "execution_count": 82,
   "metadata": {},
   "outputs": [
    {
     "data": {
      "application/vnd.jupyter.widget-view+json": {
       "model_id": "b15aafc540b74591b456327d6010dc0b",
       "version_major": 2,
       "version_minor": 0
      },
      "text/plain": [
       "interactive(children=(Text(value='default_chemprop_data_titration', description='experiment'), Dropdown(descri…"
      ]
     },
     "metadata": {},
     "output_type": "display_data"
    }
   ],
   "source": [
    "# Loss curves\n",
    "@interact\n",
    "def plot_loss_curves(experiment=experiment, condition=copts):\n",
    "    lc = []\n",
    "    cond_dir = filepaths[\"spl_cv\"] / experiment / condition\n",
    "    list()\n",
    "    for fp in cond_dir.glob(\"split_*/metrics.csv\"):\n",
    "\n",
    "        split = pd.read_csv(fp, sep=',')\n",
    "        split['split'] = int(fp.parent.stem.split('_')[-1])\n",
    "        lc.append(split)\n",
    "\n",
    "    stats = ('mean', 'std')\n",
    "    lc = pd.concat(lc, axis=0).drop(columns=['step', 'train_loss_epoch'])\n",
    "    lc = lc.groupby(['epoch', 'split']).agg('mean').reset_index() #.agg(['mean', 'std']) # Average over epochs\n",
    "    lc = lc.groupby('epoch').agg(stats).drop(columns=['split']).reset_index()\n",
    "    fig, ax = plt.subplots()\n",
    "    metrics, _ = zip(*lc.columns)\n",
    "    metrics = set(metrics)\n",
    "    metrics.remove('epoch')\n",
    "    for m in metrics:\n",
    "        ax.errorbar(x=lc['epoch'], y=lc[(m, stats[0])], yerr=lc[(m, stats[1])], label=m)\n",
    "\n",
    "    ax.set_xlabel('Epochs')\n",
    "    ax.legend()\n",
    "    plt.show()"
   ]
  }
 ],
 "metadata": {
  "kernelspec": {
   "display_name": "krxns-pDTc8Edg-py3.12",
   "language": "python",
   "name": "python3"
  },
  "language_info": {
   "codemirror_mode": {
    "name": "ipython",
    "version": 3
   },
   "file_extension": ".py",
   "mimetype": "text/x-python",
   "name": "python",
   "nbconvert_exporter": "python",
   "pygments_lexer": "ipython3",
   "version": "3.12.7"
  }
 },
 "nbformat": 4,
 "nbformat_minor": 2
}
