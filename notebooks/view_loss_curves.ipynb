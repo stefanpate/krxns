{
 "cells": [
  {
   "cell_type": "code",
   "execution_count": 1,
   "metadata": {},
   "outputs": [],
   "source": [
    "%load_ext autoreload\n",
    "%autoreload 2\n",
    "\n",
    "from krxns.config import filepaths\n",
    "import numpy as np\n",
    "import pandas as pd\n",
    "import matplotlib.pyplot as plt\n",
    "import ipywidgets as widgets\n",
    "from ipywidgets import interact\n",
    "import torch\n",
    "from pathlib import Path"
   ]
  },
  {
   "cell_type": "code",
   "execution_count": 2,
   "metadata": {},
   "outputs": [],
   "source": [
    "def latest_ckpt(ckpt_dir: Path):\n",
    "    ckpts = list(ckpt_dir.glob(\"*.ckpt\"))\n",
    "    ckpt_rank = [tuple([elt.split(\"=\")[-1] for elt in ckpt.stem.split(\"-\")]) for ckpt in ckpts]\n",
    "    srt_ckpts = sorted(zip(ckpt_rank, ckpts), key=lambda x : x[0], reverse=True)\n",
    "    return srt_ckpts[0][1]"
   ]
  },
  {
   "cell_type": "code",
   "execution_count": 3,
   "metadata": {},
   "outputs": [],
   "source": [
    "# Set this\n",
    "experiment = \"default_chemprop_data_titration\"\n",
    "copts = [elt.stem for elt in  (filepaths[\"spl_cv\"] / experiment).glob('*')]\n"
   ]
  },
  {
   "cell_type": "code",
   "execution_count": null,
   "metadata": {},
   "outputs": [
    {
     "data": {
      "application/vnd.jupyter.widget-view+json": {
       "model_id": "bab0a94d46944a86897cbf39b9080f2f",
       "version_major": 2,
       "version_minor": 0
      },
      "text/plain": [
       "interactive(children=(Text(value='default_chemprop_data_titration', description='experiment'), Dropdown(descri…"
      ]
     },
     "metadata": {},
     "output_type": "display_data"
    }
   ],
   "source": [
    "# Loss curves\n",
    "@interact\n",
    "def plot_loss_curves(experiment=experiment, condition=copts):\n",
    "    lc = []\n",
    "    cond_dir = filepaths[\"spl_cv\"] / experiment / condition\n",
    "\n",
    "    for fp in cond_dir.glob(\"split_*/metrics.csv\"):\n",
    "        ckpt = latest_ckpt(fp.parent / \"checkpoints\")\n",
    "        state_dict = torch.load(ckpt, map_location=torch.device('cpu'))\n",
    "        scl = float(state_dict['hyper_parameters']['predictor']['output_transform'].scale)\n",
    "        split = pd.read_csv(fp, sep=',')\n",
    "        split['split'] = int(fp.parent.stem.split('_')[-1])\n",
    "        lc.append(split)\n",
    "\n",
    "    stats = ('mean', 'std')\n",
    "    lc = pd.concat(lc, axis=0).drop(columns=['step', 'train_loss_epoch'])\n",
    "    lc = lc.groupby(['epoch', 'split']).agg('mean').reset_index() # Average over epochs w/in splits\n",
    "    lc['val/rmse_rescaled'] = lc['val/rmse'] * scl # Add re-scaled rmse\n",
    "    lc = lc.groupby('epoch').agg(stats).drop(columns=['split']).reset_index() # Average over epochs across splits\n",
    "    \n",
    "    fig, ax = plt.subplots(nrows=2, figsize=(7, 8), sharex=True)\n",
    "    metrics, _ = zip(*lc.columns)\n",
    "    metrics = set(filter(lambda x : x not in ['epoch', 'val/rmse_rescaled'], metrics))\n",
    "    for m in metrics:\n",
    "        ax[1].errorbar(x=lc['epoch'], y=lc[(m, stats[0])], yerr=lc[(m, stats[1])], label=m)\n",
    "\n",
    "\n",
    "    ax[0].errorbar(x=lc['epoch'], y=lc[('val/rmse_rescaled', stats[0])], yerr=lc[('val/rmse_rescaled', stats[1])])\n",
    "\n",
    "    ax[1].set_xlabel('Epochs')\n",
    "    ax[1].legend()\n",
    "    ax[0].set_ylabel(\"Rescaled RMSE [synthetic distance]\")\n",
    "    plt.show()"
   ]
  }
 ],
 "metadata": {
  "kernelspec": {
   "display_name": "krxns-pDTc8Edg-py3.12",
   "language": "python",
   "name": "python3"
  },
  "language_info": {
   "codemirror_mode": {
    "name": "ipython",
    "version": 3
   },
   "file_extension": ".py",
   "mimetype": "text/x-python",
   "name": "python",
   "nbconvert_exporter": "python",
   "pygments_lexer": "ipython3",
   "version": "3.12.7"
  }
 },
 "nbformat": 4,
 "nbformat_minor": 2
}
