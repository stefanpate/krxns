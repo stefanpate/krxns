{
 "cells": [
  {
   "cell_type": "code",
   "execution_count": 21,
   "metadata": {},
   "outputs": [
    {
     "name": "stdout",
     "output_type": "stream",
     "text": [
      "The autoreload extension is already loaded. To reload it, use:\n",
      "  %reload_ext autoreload\n"
     ]
    }
   ],
   "source": [
    "%load_ext autoreload\n",
    "%autoreload 2\n",
    "\n",
    "import torch\n",
    "from krxns.config import filepaths\n",
    "from krxns.ml import load_data, split_data, featurize_data\n",
    "from chemprop import featurizers\n",
    "from chemprop.models import multi\n",
    "from lightning import pytorch as pl\n",
    "import numpy as np\n",
    "import pandas as pd\n",
    "import matplotlib.pyplot as plt\n",
    "from pathlib import Path"
   ]
  },
  {
   "cell_type": "code",
   "execution_count": 22,
   "metadata": {},
   "outputs": [],
   "source": [
    "def latest_ckpt(ckpt_dir: Path):\n",
    "    ckpts = list(ckpt_dir.glob(\"*.ckpt\"))\n",
    "    ckpt_rank = [tuple([elt.split(\"=\")[-1] for elt in ckpt.stem.split(\"-\")]) for ckpt in ckpts]\n",
    "    srt_ckpts = sorted(zip(ckpt_rank, ckpts), key=lambda x : x[0], reverse=True)\n",
    "    return srt_ckpts[0][1]"
   ]
  },
  {
   "cell_type": "code",
   "execution_count": null,
   "metadata": {},
   "outputs": [
    {
     "data": {
      "text/plain": [
       "PosixPath('/home/stef/quest_data/krxns/results/spl_cv/hp_0/split_1/version_0/checkpoints/epoch=2-step=210.ckpt')"
      ]
     },
     "execution_count": 23,
     "metadata": {},
     "output_type": "execute_result"
    }
   ],
   "source": [
    "# Set this\n",
    "data_dir = filepaths['data'] / \"shortest_path_length/sprhea_240310_v3_mapped_top_25_whitelist_atom_lb_20p_multi_nodes_True\"\n",
    "n_chunks = 1\n",
    "split_idx = 1\n",
    "log_dir = filepaths[\"spl_cv\"] / \"hp_0\" / \"split_1\" / \"version_0\"\n",
    "ckpt_dir = log_dir / \"checkpoints\""
   ]
  },
  {
   "cell_type": "code",
   "execution_count": 24,
   "metadata": {},
   "outputs": [
    {
     "name": "stderr",
     "output_type": "stream",
     "text": [
      "/home/stef/.cache/pypoetry/virtualenvs/krxns-C4WZyL61-py3.12/lib/python3.12/site-packages/sklearn/model_selection/_split.py:776: UserWarning: The least populated class in y has only 1 members, which is less than n_splits=5.\n",
      "  warnings.warn(\n"
     ]
    }
   ],
   "source": [
    "all_data = load_data(filepaths['data'] / data_dir, n_chunks)\n",
    "featurizer = featurizers.SimpleMoleculeMolGraphFeaturizer() # TODO: extend to others w/ CL arg selecting\n",
    "train_data, test_data = split_data(all_data, split_idx)\n",
    "train_dataloader, scaler = featurize_data(train_data, featurizer, train_mode=True) # Should only shuffle for train dataloader (see chemprop docs)\n",
    "test_dataloader, _ = featurize_data(test_data, featurizer, train_mode=False)"
   ]
  },
  {
   "cell_type": "code",
   "execution_count": 25,
   "metadata": {},
   "outputs": [
    {
     "name": "stderr",
     "output_type": "stream",
     "text": [
      "/home/stef/.cache/pypoetry/virtualenvs/krxns-C4WZyL61-py3.12/lib/python3.12/site-packages/chemprop/models/multi.py:56: FutureWarning: You are using `torch.load` with `weights_only=False` (the current default value), which uses the default pickle module implicitly. It is possible to construct malicious pickle data which will execute arbitrary code during unpickling (See https://github.com/pytorch/pytorch/blob/main/SECURITY.md#untrusted-models for more details). In a future release, the default value for `weights_only` will be flipped to `True`. This limits the functions that could be executed during unpickling. Arbitrary objects will no longer be allowed to be loaded via this mode unless they are explicitly allowlisted by the user via `torch.serialization.add_safe_globals`. We recommend you start setting `weights_only=True` for any use case where you don't have full control of the loaded file. Please open an issue on GitHub for any issues related to this experimental feature.\n",
      "  d = torch.load(path, map_location)\n",
      "/home/stef/.cache/pypoetry/virtualenvs/krxns-C4WZyL61-py3.12/lib/python3.12/site-packages/chemprop/models/model.py:286: FutureWarning: You are using `torch.load` with `weights_only=False` (the current default value), which uses the default pickle module implicitly. It is possible to construct malicious pickle data which will execute arbitrary code during unpickling (See https://github.com/pytorch/pytorch/blob/main/SECURITY.md#untrusted-models for more details). In a future release, the default value for `weights_only` will be flipped to `True`. This limits the functions that could be executed during unpickling. Arbitrary objects will no longer be allowed to be loaded via this mode unless they are explicitly allowlisted by the user via `torch.serialization.add_safe_globals`. We recommend you start setting `weights_only=True` for any use case where you don't have full control of the loaded file. Please open an issue on GitHub for any issues related to this experimental feature.\n",
      "  d = torch.load(checkpoint_path, map_location)\n"
     ]
    }
   ],
   "source": [
    "ckpt = latest_ckpt(ckpt_dir)\n",
    "model = multi.MulticomponentMPNN.load_from_checkpoint(ckpt, map_location=torch.device('cpu'))"
   ]
  },
  {
   "cell_type": "code",
   "execution_count": 26,
   "metadata": {},
   "outputs": [
    {
     "name": "stderr",
     "output_type": "stream",
     "text": [
      "GPU available: False, used: False\n",
      "TPU available: False, using: 0 TPU cores\n",
      "HPU available: False, using: 0 HPUs\n",
      "/home/stef/.cache/pypoetry/virtualenvs/krxns-C4WZyL61-py3.12/lib/python3.12/site-packages/lightning/pytorch/trainer/connectors/data_connector.py:424: The 'predict_dataloader' does not have many workers which may be a bottleneck. Consider increasing the value of the `num_workers` argument` to `num_workers=11` in the `DataLoader` to improve performance.\n"
     ]
    },
    {
     "data": {
      "application/vnd.jupyter.widget-view+json": {
       "model_id": "38fe916e43c04ba4a7ab39f270d1c14d",
       "version_major": 2,
       "version_minor": 0
      },
      "text/plain": [
       "Predicting: |          | 0/? [00:00<?, ?it/s]"
      ]
     },
     "metadata": {},
     "output_type": "display_data"
    }
   ],
   "source": [
    "with torch.inference_mode():\n",
    "    trainer = pl.Trainer(\n",
    "        logger=False,\n",
    "        enable_progress_bar=True,\n",
    "        accelerator=\"auto\",\n",
    "        devices=1\n",
    "    )\n",
    "    test_preds = trainer.predict(model, test_dataloader)\n",
    "\n",
    "test_preds = np.concatenate(test_preds, axis=0)"
   ]
  },
  {
   "cell_type": "code",
   "execution_count": 27,
   "metadata": {},
   "outputs": [
    {
     "data": {
      "text/html": [
       "<div>\n",
       "<style scoped>\n",
       "    .dataframe tbody tr th:only-of-type {\n",
       "        vertical-align: middle;\n",
       "    }\n",
       "\n",
       "    .dataframe tbody tr th {\n",
       "        vertical-align: top;\n",
       "    }\n",
       "\n",
       "    .dataframe thead th {\n",
       "        text-align: right;\n",
       "    }\n",
       "</style>\n",
       "<table border=\"1\" class=\"dataframe\">\n",
       "  <thead>\n",
       "    <tr style=\"text-align: right;\">\n",
       "      <th></th>\n",
       "      <th>starter_id</th>\n",
       "      <th>target_id</th>\n",
       "      <th>starter_smiles</th>\n",
       "      <th>target_smiles</th>\n",
       "      <th>spl</th>\n",
       "      <th>y_hat</th>\n",
       "    </tr>\n",
       "  </thead>\n",
       "  <tbody>\n",
       "    <tr>\n",
       "      <th>571</th>\n",
       "      <td>1109</td>\n",
       "      <td>1110</td>\n",
       "      <td>CCCCCC=CCC=CCC=CCC=CCCCC(=O)OCC(COP(=O)(O)OP(=...</td>\n",
       "      <td>CCCCCC=CCC=CCC=CCC=CCCCC(=O)OCC(COP(=O)(O)O)OC...</td>\n",
       "      <td>1</td>\n",
       "      <td>2.832515</td>\n",
       "    </tr>\n",
       "    <tr>\n",
       "      <th>770</th>\n",
       "      <td>1505</td>\n",
       "      <td>5018</td>\n",
       "      <td>CCCCCCCCC=CCCCCCCCC(=O)OCC(COP(=O)(O)OCCN)OC(=...</td>\n",
       "      <td>CCCCCCCCC=CCCCCCCCC(=O)OC(CO)COP(=O)(O)OCCN</td>\n",
       "      <td>1</td>\n",
       "      <td>7.808733</td>\n",
       "    </tr>\n",
       "    <tr>\n",
       "      <th>908</th>\n",
       "      <td>1764</td>\n",
       "      <td>1041</td>\n",
       "      <td>O=CNC(=O)C=CC(=O)O</td>\n",
       "      <td>O=CO</td>\n",
       "      <td>1</td>\n",
       "      <td>4.542248</td>\n",
       "    </tr>\n",
       "    <tr>\n",
       "      <th>915</th>\n",
       "      <td>1775</td>\n",
       "      <td>9588</td>\n",
       "      <td>CCCCCCCCC=CCCCCCCCC(=O)O.CCCCCCCCCCCCCCCCCCCC(...</td>\n",
       "      <td>CCCCCC=CC(O)C=CCCCCCCCC(=O)O</td>\n",
       "      <td>6</td>\n",
       "      <td>6.705656</td>\n",
       "    </tr>\n",
       "    <tr>\n",
       "      <th>922</th>\n",
       "      <td>1783</td>\n",
       "      <td>10145</td>\n",
       "      <td>CC1Cc2c3c(cc(O)c2C(=O)O1)OC1(C)CCC2C(C)(C)C(=O...</td>\n",
       "      <td>CC1CCC2C1=CC(C)(C)CC1CC12C</td>\n",
       "      <td>6</td>\n",
       "      <td>7.974072</td>\n",
       "    </tr>\n",
       "    <tr>\n",
       "      <th>931</th>\n",
       "      <td>1795</td>\n",
       "      <td>956</td>\n",
       "      <td>CCCCCCCCCCCCCCCCCCOCC(O)COP(=O)(O)OCC[N+](C)(C)C</td>\n",
       "      <td>O=C(CO)COP(=O)(O)O</td>\n",
       "      <td>6</td>\n",
       "      <td>9.329337</td>\n",
       "    </tr>\n",
       "    <tr>\n",
       "      <th>962</th>\n",
       "      <td>1840</td>\n",
       "      <td>3063</td>\n",
       "      <td>CCCCCCCCC=CCCCCCCCC(=O)OC(COC(=O)CCCCCCCCCCCCC...</td>\n",
       "      <td>O=C(O)C(O)C(O)C(=O)O</td>\n",
       "      <td>6</td>\n",
       "      <td>8.710310</td>\n",
       "    </tr>\n",
       "    <tr>\n",
       "      <th>973</th>\n",
       "      <td>1858</td>\n",
       "      <td>6702</td>\n",
       "      <td>CC(C)=CCc1c(O)cc(O)c(C(=O)C=Cc2ccc(O)cc2)c1O</td>\n",
       "      <td>Nc1ncnc2c1ncn2C1OC(CO)C(OP(=O)(O)O)C1O</td>\n",
       "      <td>6</td>\n",
       "      <td>10.061923</td>\n",
       "    </tr>\n",
       "    <tr>\n",
       "      <th>974</th>\n",
       "      <td>1862</td>\n",
       "      <td>296</td>\n",
       "      <td>*C(=O)OCC(O)COP(=O)(O)OCCN.CCCCCCCCCCCCCCCC(=O...</td>\n",
       "      <td>Nc1ncnc2c1ncn2C1OC(COP(=O)(O)OP(=O)(O)OP(=O)(O...</td>\n",
       "      <td>6</td>\n",
       "      <td>7.308279</td>\n",
       "    </tr>\n",
       "    <tr>\n",
       "      <th>1009</th>\n",
       "      <td>1931</td>\n",
       "      <td>2475</td>\n",
       "      <td>CC(=O)NC1C(O)OC(CO)C(O)C1O.O=c1ccn(C2OC(COP(=O...</td>\n",
       "      <td>CC(N)C(=O)NC(C)C(=O)O</td>\n",
       "      <td>6</td>\n",
       "      <td>10.079785</td>\n",
       "    </tr>\n",
       "    <tr>\n",
       "      <th>1018</th>\n",
       "      <td>1941</td>\n",
       "      <td>612</td>\n",
       "      <td>CCCCCCCCC=CCCCCCCCC(=O)O.CCCCCCCCCCCCCCCC(=O)O...</td>\n",
       "      <td>CCCCCC=CCC(=O)CCCCCCCCC(=O)O</td>\n",
       "      <td>6</td>\n",
       "      <td>9.401135</td>\n",
       "    </tr>\n",
       "    <tr>\n",
       "      <th>1019</th>\n",
       "      <td>1941</td>\n",
       "      <td>27</td>\n",
       "      <td>CCCCCCCCC=CCCCCCCCC(=O)O.CCCCCCCCCCCCCCCC(=O)O...</td>\n",
       "      <td>CC(C)(COP(=O)(O)OP(=O)(O)OCC1OC(n2cnc3c(N)ncnc...</td>\n",
       "      <td>6</td>\n",
       "      <td>8.981277</td>\n",
       "    </tr>\n",
       "    <tr>\n",
       "      <th>1020</th>\n",
       "      <td>1942</td>\n",
       "      <td>2201</td>\n",
       "      <td>CCCCCCCCCCCCCCCC(=O)O.CCCCCCCCCCCCCCCC(=O)OCC(...</td>\n",
       "      <td>CC(=O)CO</td>\n",
       "      <td>6</td>\n",
       "      <td>9.785797</td>\n",
       "    </tr>\n",
       "    <tr>\n",
       "      <th>1036</th>\n",
       "      <td>1982</td>\n",
       "      <td>3667</td>\n",
       "      <td>C=C(C=O)C1CCC(C)C2CCC(C)=CC12</td>\n",
       "      <td>O=C(O)C(=O)CC(O)CO</td>\n",
       "      <td>15</td>\n",
       "      <td>14.485494</td>\n",
       "    </tr>\n",
       "    <tr>\n",
       "      <th>1042</th>\n",
       "      <td>1992</td>\n",
       "      <td>1974</td>\n",
       "      <td>CC(CCC(=O)O)C1CCC2C3C(O)C(OC4OC(C(=O)O)C(O)C(O...</td>\n",
       "      <td>CC(C)(CO)C(O)C(=O)O</td>\n",
       "      <td>19</td>\n",
       "      <td>11.108073</td>\n",
       "    </tr>\n",
       "    <tr>\n",
       "      <th>1043</th>\n",
       "      <td>1995</td>\n",
       "      <td>1041</td>\n",
       "      <td>CSCCC(=O)C(O)=CO</td>\n",
       "      <td>O=CO</td>\n",
       "      <td>1</td>\n",
       "      <td>5.392876</td>\n",
       "    </tr>\n",
       "    <tr>\n",
       "      <th>1050</th>\n",
       "      <td>2006</td>\n",
       "      <td>755</td>\n",
       "      <td>CNCC(=O)O</td>\n",
       "      <td>CS</td>\n",
       "      <td>2</td>\n",
       "      <td>5.781149</td>\n",
       "    </tr>\n",
       "    <tr>\n",
       "      <th>1051</th>\n",
       "      <td>2006</td>\n",
       "      <td>1641</td>\n",
       "      <td>CNCC(=O)O</td>\n",
       "      <td>O=CCS(=O)(=O)O</td>\n",
       "      <td>5</td>\n",
       "      <td>6.219715</td>\n",
       "    </tr>\n",
       "    <tr>\n",
       "      <th>1055</th>\n",
       "      <td>2010</td>\n",
       "      <td>641</td>\n",
       "      <td>NCCOP(=O)(O)OP(=O)(O)OCC1OC(n2ccc(N)nc2=O)C(O)C1O</td>\n",
       "      <td>CC=CC(=O)SCCNC(=O)CCNC(=O)C(O)C(C)(C)COP(=O)(O...</td>\n",
       "      <td>6</td>\n",
       "      <td>9.318421</td>\n",
       "    </tr>\n",
       "    <tr>\n",
       "      <th>1057</th>\n",
       "      <td>2016</td>\n",
       "      <td>95</td>\n",
       "      <td>CC(C)CCCC(C)C1CCC2C3=CCC4CC(O)CCC4(C)C3CCC21C</td>\n",
       "      <td>CC(=O)O</td>\n",
       "      <td>5</td>\n",
       "      <td>9.229656</td>\n",
       "    </tr>\n",
       "  </tbody>\n",
       "</table>\n",
       "</div>"
      ],
      "text/plain": [
       "      starter_id  target_id  \\\n",
       "571         1109       1110   \n",
       "770         1505       5018   \n",
       "908         1764       1041   \n",
       "915         1775       9588   \n",
       "922         1783      10145   \n",
       "931         1795        956   \n",
       "962         1840       3063   \n",
       "973         1858       6702   \n",
       "974         1862        296   \n",
       "1009        1931       2475   \n",
       "1018        1941        612   \n",
       "1019        1941         27   \n",
       "1020        1942       2201   \n",
       "1036        1982       3667   \n",
       "1042        1992       1974   \n",
       "1043        1995       1041   \n",
       "1050        2006        755   \n",
       "1051        2006       1641   \n",
       "1055        2010        641   \n",
       "1057        2016         95   \n",
       "\n",
       "                                         starter_smiles  \\\n",
       "571   CCCCCC=CCC=CCC=CCC=CCCCC(=O)OCC(COP(=O)(O)OP(=...   \n",
       "770   CCCCCCCCC=CCCCCCCCC(=O)OCC(COP(=O)(O)OCCN)OC(=...   \n",
       "908                                  O=CNC(=O)C=CC(=O)O   \n",
       "915   CCCCCCCCC=CCCCCCCCC(=O)O.CCCCCCCCCCCCCCCCCCCC(...   \n",
       "922   CC1Cc2c3c(cc(O)c2C(=O)O1)OC1(C)CCC2C(C)(C)C(=O...   \n",
       "931    CCCCCCCCCCCCCCCCCCOCC(O)COP(=O)(O)OCC[N+](C)(C)C   \n",
       "962   CCCCCCCCC=CCCCCCCCC(=O)OC(COC(=O)CCCCCCCCCCCCC...   \n",
       "973        CC(C)=CCc1c(O)cc(O)c(C(=O)C=Cc2ccc(O)cc2)c1O   \n",
       "974   *C(=O)OCC(O)COP(=O)(O)OCCN.CCCCCCCCCCCCCCCC(=O...   \n",
       "1009  CC(=O)NC1C(O)OC(CO)C(O)C1O.O=c1ccn(C2OC(COP(=O...   \n",
       "1018  CCCCCCCCC=CCCCCCCCC(=O)O.CCCCCCCCCCCCCCCC(=O)O...   \n",
       "1019  CCCCCCCCC=CCCCCCCCC(=O)O.CCCCCCCCCCCCCCCC(=O)O...   \n",
       "1020  CCCCCCCCCCCCCCCC(=O)O.CCCCCCCCCCCCCCCC(=O)OCC(...   \n",
       "1036                      C=C(C=O)C1CCC(C)C2CCC(C)=CC12   \n",
       "1042  CC(CCC(=O)O)C1CCC2C3C(O)C(OC4OC(C(=O)O)C(O)C(O...   \n",
       "1043                                   CSCCC(=O)C(O)=CO   \n",
       "1050                                          CNCC(=O)O   \n",
       "1051                                          CNCC(=O)O   \n",
       "1055  NCCOP(=O)(O)OP(=O)(O)OCC1OC(n2ccc(N)nc2=O)C(O)C1O   \n",
       "1057      CC(C)CCCC(C)C1CCC2C3=CCC4CC(O)CCC4(C)C3CCC21C   \n",
       "\n",
       "                                          target_smiles  spl      y_hat  \n",
       "571   CCCCCC=CCC=CCC=CCC=CCCCC(=O)OCC(COP(=O)(O)O)OC...    1   2.832515  \n",
       "770         CCCCCCCCC=CCCCCCCCC(=O)OC(CO)COP(=O)(O)OCCN    1   7.808733  \n",
       "908                                                O=CO    1   4.542248  \n",
       "915                        CCCCCC=CC(O)C=CCCCCCCCC(=O)O    6   6.705656  \n",
       "922                          CC1CCC2C1=CC(C)(C)CC1CC12C    6   7.974072  \n",
       "931                                  O=C(CO)COP(=O)(O)O    6   9.329337  \n",
       "962                                O=C(O)C(O)C(O)C(=O)O    6   8.710310  \n",
       "973              Nc1ncnc2c1ncn2C1OC(CO)C(OP(=O)(O)O)C1O    6  10.061923  \n",
       "974   Nc1ncnc2c1ncn2C1OC(COP(=O)(O)OP(=O)(O)OP(=O)(O...    6   7.308279  \n",
       "1009                              CC(N)C(=O)NC(C)C(=O)O    6  10.079785  \n",
       "1018                       CCCCCC=CCC(=O)CCCCCCCCC(=O)O    6   9.401135  \n",
       "1019  CC(C)(COP(=O)(O)OP(=O)(O)OCC1OC(n2cnc3c(N)ncnc...    6   8.981277  \n",
       "1020                                           CC(=O)CO    6   9.785797  \n",
       "1036                                 O=C(O)C(=O)CC(O)CO   15  14.485494  \n",
       "1042                                CC(C)(CO)C(O)C(=O)O   19  11.108073  \n",
       "1043                                               O=CO    1   5.392876  \n",
       "1050                                                 CS    2   5.781149  \n",
       "1051                                     O=CCS(=O)(=O)O    5   6.219715  \n",
       "1055  CC=CC(=O)SCCNC(=O)CCNC(=O)C(O)C(C)(C)COP(=O)(O...    6   9.318421  \n",
       "1057                                            CC(=O)O    5   9.229656  "
      ]
     },
     "execution_count": 27,
     "metadata": {},
     "output_type": "execute_result"
    }
   ],
   "source": [
    "test_data[\"y_hat\"] = test_preds\n",
    "test_data.head(20)"
   ]
  },
  {
   "cell_type": "code",
   "execution_count": null,
   "metadata": {},
   "outputs": [
    {
     "data": {
      "text/plain": [
       "<Axes: xlabel='epoch'>"
      ]
     },
     "execution_count": 35,
     "metadata": {},
     "output_type": "execute_result"
    },
    {
     "data": {
      "image/png": "[encoded data removed]",
      "text/plain": [
       "<Figure size 640x480 with 1 Axes>"
      ]
     },
     "metadata": {},
     "output_type": "display_data"
    }
   ],
   "source": [
    "# Loss curves\n",
    "lc = pd.read_csv(log_dir / \"metrics.csv\", sep=',')\n",
    "ep_ave_lc = lc.groupby('epoch').agg('mean').reset_index() # Average over epochs\n",
    "ep_ave_lc.head()\n",
    "ep_ave_lc.plot(x=\"epoch\", y=['train_loss_epoch', 'val/rmse', 'val_loss'])"
   ]
  }
 ],
 "metadata": {
  "kernelspec": {
   "display_name": "krxns-C4WZyL61-py3.12",
   "language": "python",
   "name": "python3"
  },
  "language_info": {
   "codemirror_mode": {
    "name": "ipython",
    "version": 3
   },
   "file_extension": ".py",
   "mimetype": "text/x-python",
   "name": "python",
   "nbconvert_exporter": "python",
   "pygments_lexer": "ipython3",
   "version": "3.12.7"
  }
 },
 "nbformat": 4,
 "nbformat_minor": 2
}
