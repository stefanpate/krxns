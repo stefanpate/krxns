{
 "cells": [
  {
   "cell_type": "code",
   "execution_count": 1,
   "metadata": {},
   "outputs": [
    {
     "name": "stdout",
     "output_type": "stream",
     "text": [
      "2024.03.2\n"
     ]
    }
   ],
   "source": [
    "%load_ext autoreload\n",
    "%autoreload 2\n",
    "\n",
    "import networkx as nx\n",
    "import numpy as np\n",
    "import pandas as pd\n",
    "import json\n",
    "from itertools import chain, product, permutations\n",
    "from collections import defaultdict\n",
    "import rdkit\n",
    "from rdkit import Chem\n",
    "from rdkit.Chem import Draw, BRICS\n",
    "from krxns.cheminfo import expand_unpaired_cofactors, mcs\n",
    "from krxns.config import data_filepath, sim_mats_filepath, cofactors_filepath, brics_sim_mats_filepath\n",
    "import ipywidgets as widgets\n",
    "from ipywidgets import interact\n",
    "import matplotlib.pyplot as plt\n",
    "from scipy.stats import entropy\n",
    "print(rdkit.__version__)"
   ]
  },
  {
   "cell_type": "code",
   "execution_count": 2,
   "metadata": {},
   "outputs": [
    {
     "name": "stdout",
     "output_type": "stream",
     "text": [
      "9801\n"
     ]
    }
   ],
   "source": [
    "# Load known reaction data\n",
    "with open(data_filepath / \"sprhea_240310_v3_mapped.json\", 'r') as f:\n",
    "    known_reactions = json.load(f)\n",
    "\n",
    "known_reactions = {int(k): v for k,v in known_reactions.items()}\n",
    "\n",
    "# Extract known compounds\n",
    "known_compounds = {}\n",
    "for elt in known_reactions.values():\n",
    "    subs = chain(*[side.split(\".\") for side in elt['smarts'].split(\">>\")])\n",
    "    for sub in subs:\n",
    "        known_compounds[sub] = elt['smi2name'].get(sub, None)\n",
    "\n",
    "known_compounds = {i: {'smiles': k, 'name': v} for i, (k, v) in enumerate(known_compounds.items())}\n",
    "smi2id = {v['smiles']: k for k,v in known_compounds.items()}\n",
    "\n",
    "# Remove reverses\n",
    "rids = set()\n",
    "for k, v in known_reactions.items():\n",
    "    rids.add(tuple(sorted([k, v['reverse']])))\n",
    "\n",
    "keepers = [elt[0] for elt in rids]\n",
    "\n",
    "known_reactions = {k: known_reactions[k] for k in keepers}\n",
    "print(len(known_reactions))"
   ]
  },
  {
   "cell_type": "code",
   "execution_count": 3,
   "metadata": {},
   "outputs": [
    {
     "name": "stderr",
     "output_type": "stream",
     "text": [
      "[11:35:50] WARNING: not removing hydrogen atom without neighbors\n"
     ]
    }
   ],
   "source": [
    "# Load cofactors\n",
    "\n",
    "k = 10\n",
    "\n",
    "paired_fp = cofactors_filepath / \"paired_cofactors_reference.tsv\"\n",
    "unpaired_fp = cofactors_filepath / \"unpaired_cofactors_reference.tsv\"\n",
    "name_blacklist = [\n",
    "    'acetyl-CoA',\n",
    "    'CoA'\n",
    "]\n",
    "\n",
    "unpaired_ref = pd.read_csv(\n",
    "    filepath_or_buffer=unpaired_fp,\n",
    "    sep='\\t'\n",
    ")\n",
    "\n",
    "filtered_unpaired = unpaired_ref.loc[~unpaired_ref['Name'].isin(name_blacklist), :]\n",
    "\n",
    "cofactors = expand_unpaired_cofactors(filtered_unpaired, k=k)\n",
    "\n",
    "manual = {\n",
    "    '[Fe+2]': 'Fe2+',\n",
    "    '[Fe+3]': 'Fe3+',\n",
    "    'N#N': 'N2',\n",
    "    '[H][H]': 'H2'\n",
    "}\n",
    "\n",
    "cofactors = {**cofactors, ** manual}"
   ]
  },
  {
   "cell_type": "code",
   "execution_count": 4,
   "metadata": {},
   "outputs": [],
   "source": [
    "# Create naive graph\n",
    "\n",
    "G = nx.MultiGraph()\n",
    "\n",
    "G.add_nodes_from([(k, v) for k,v in known_compounds.items()])\n",
    "\n",
    "for rid, rxn in known_reactions.items():\n",
    "    lhs, rhs = [side.split(\".\") for side in rxn['smarts'].split(\">>\")]\n",
    "    for pair in product(lhs, rhs):\n",
    "        left_cid, right_cid = smi2id[pair[0]], smi2id[pair[1]]\n",
    "        G.add_edge(left_cid, right_cid, **rxn)\n"
   ]
  },
  {
   "cell_type": "code",
   "execution_count": 5,
   "metadata": {},
   "outputs": [
    {
     "data": {
      "text/plain": [
       "(8777, 92260)"
      ]
     },
     "execution_count": 5,
     "metadata": {},
     "output_type": "execute_result"
    }
   ],
   "source": [
    "G.number_of_nodes(), G.number_of_edges()"
   ]
  },
  {
   "cell_type": "markdown",
   "metadata": {},
   "source": [
    "Demonstrate the problem with naively connecting all substrates that appear opposite one another in a reaction"
   ]
  },
  {
   "cell_type": "code",
   "execution_count": 6,
   "metadata": {},
   "outputs": [
    {
     "data": {
      "text/plain": [
       "[{'smiles': 'Nc1ccn(C2OC(COP(=O)(O)O)C(O)C2O)c(=O)n1', 'name': 'CMP'},\n",
       " {'smiles': '*NC(COP(=O)(O)OCC[N+](C)(C)C)C(*)=O',\n",
       "  'name': 'O-phosphocholine-L-serine residue'},\n",
       " {'smiles': 'Nc1ncnc2c1ncn2C1OC(COP(=O)(O)OP(=O)(O)O)C(O)C1O', 'name': 'ADP'},\n",
       " {'smiles': '*NC(COP(=O)(O)O)C(*)=O', 'name': 'O-phospho-L-serine residue'},\n",
       " {'smiles': 'CC(C)(COP(=O)(O)OP(=O)(O)OCC1OC(n2cnc3c(N)ncnc32)C(O)C1OP(=O)(O)O)C(O)C(=O)NCCC(=O)NCCS',\n",
       "  'name': 'CoA'},\n",
       " {'smiles': '*NC(COC(=O)CCCCCCC)C(*)=O',\n",
       "  'name': 'O-octanoyl-L-serine residue'},\n",
       " {'smiles': '*NC(COC1OC(COP(=O)(O)OP(=O)(O)OCC2OC(n3cnc4c(N)ncnc43)C(O)C2O)C(O)C1O)C(*)=O',\n",
       "  'name': 'O-(ADP-D-ribosyl)-L-serine residue'},\n",
       " {'smiles': 'NC(=O)c1cccnc1', 'name': 'nicotinamide'},\n",
       " {'smiles': '*NC(COC(=O)CCCCCCCCCCCCC)C(*)=O',\n",
       "  'name': 'O-tetradecanoyl-L-serine residue'},\n",
       " {'smiles': '*NC(COC(=O)CCC)C(*)=O', 'name': 'O-butanoyl-L-serine residue'},\n",
       " {'smiles': 'O=P(O)(O)OP(=O)(O)O', 'name': 'diphosphate'},\n",
       " {'smiles': '*NC(COP(=O)(O)OCC1OC(n2ccc(=O)[nH]c2=O)C(O)C1O)C(*)=O',\n",
       "  'name': 'uridylyl-L-serine residue'},\n",
       " {'smiles': '*NC(COP(=O)(O)OCC1OC(n2cnc3c(N)ncnc32)C(O)C1O)C(*)=O',\n",
       "  'name': '3-O-adenylyl-L-serine residue'},\n",
       " {'smiles': '*NC(COC(=O)CCCCCCCC=CCCCCCC)C(*)=O',\n",
       "  'name': 'O-[(9Z)-hexadecenoyl]serine residue'},\n",
       " {'smiles': 'O', 'name': 'H2O'},\n",
       " {'smiles': 'CSCCC(N)C(=O)O', 'name': 'L-methionine'},\n",
       " {'smiles': 'CC1OC(n2cnc3c(N)ncnc32)C(O)C1O', 'name': \"5'-deoxyadenosine\"},\n",
       " {'smiles': '*NC(C=O)C(*)=O', 'name': 'L-3-oxoalanine residue'},\n",
       " {'smiles': '*NC(COC(=O)CCCC)C(*)=O', 'name': 'O-pentanoyl-L-serine residue'},\n",
       " {'smiles': '*NC(COP(=O)(O)OCC(C)(C)C(O)C(=O)NCCC(=O)NCCS)C(*)=O',\n",
       "  'name': \"O-(pantetheine-4'-phosphoryl)-L-serine residue\"},\n",
       " {'smiles': '*NC(COP(=O)(O)OCC1OC(OC2C(O)C(COP(=O)(O)OP(=O)(O)OCC(C)(C)C(O)C(=O)NCCC(=O)NCCS)OC2n2cnc3c(N)ncnc32)C(O)C1O)C(*)=O',\n",
       "  'name': \"O-[2'-(5-phosphoribosyl)-3'-dephospho-CoA]-L-serine residue\"},\n",
       " {'smiles': '*NC(COC1OC(CO)C(O)C(O)C1NC(C)=O)C(*)=O',\n",
       "  'name': 'O-(N-acetyl-alpha-D-glucosaminyl)-L-serine residue'},\n",
       " {'smiles': 'O=c1ccn(C2OC(COP(=O)(O)OP(=O)(O)O)C(O)C2O)c(=O)[nH]1',\n",
       "  'name': 'UDP'},\n",
       " {'smiles': '*NC(COC(*)=O)C(*)=O', 'name': 'O-fatty acyl-L-serine residue'},\n",
       " {'smiles': '*NC(COC(=O)CCCCCC)C(*)=O',\n",
       "  'name': 'O-heptanoyl-L-serine residue'},\n",
       " {'smiles': '*NC(COC1OCC(O)C(O)C1O)C(*)=O',\n",
       "  'name': 'O(3)-(beta-D-xylosyl)-L-serine residue'},\n",
       " {'smiles': 'O=P(O)(O)O', 'name': 'phosphate'},\n",
       " {'smiles': '*NC(COC(=O)CCCCCCCC)C(*)=O',\n",
       "  'name': 'O-nonanoyl-L-serine residue'},\n",
       " {'smiles': '*NC(COC1OC(C)C(O)C(O)C1O)C(*)=O',\n",
       "  'name': '3-O-(alpha-L-fucosyl)-L-seryl residue'},\n",
       " {'smiles': 'Nc1nc2c(ncn2C2OC(COP(=O)(O)OP(=O)(O)O)C(O)C2O)c(=O)[nH]1',\n",
       "  'name': 'GDP'},\n",
       " {'smiles': '*NC(COC1OC(CO)C(O)C(OC2OC(CO)C(O)C(O)C2O)C1NC(C)=O)C(*)=O',\n",
       "  'name': 'O(3)-(beta-D-galactosyl-(1->3)-N-acetyl-alpha-D-galactosaminyl)-L-serine residue'},\n",
       " {'smiles': '*NC(COC1OC(C(O)CO)C(O)C(O)C1O)C(*)=O',\n",
       "  'name': 'O-(L-glycero-alpha-D-manno-heptosyl)-L-serine residue;O-(D-glycero-alpha-D-manno-heptosyl)-L-serine residue'},\n",
       " {'smiles': '*NC(COC1OC(CO)C(O)C(O)C1O)C(*)=O',\n",
       "  'name': '3-O-(beta-D-glucosyl)-L-seryl residue'},\n",
       " {'smiles': '*NC(COC(C)=O)C(*)=O', 'name': 'O-acetyl-L-serine residue'},\n",
       " {'smiles': '*NC(COP(=O)(O)OCC(C)(C)C(O)C(=O)NCCC(=O)NCCSC(C)=O)C(*)=O',\n",
       "  'name': \"O-(S-acetylpantetheine-4'-phosphoryl)-L-serine residue\"},\n",
       " {'smiles': 'Nc1ncnc2c1ncn2C1OC(COP(=O)(O)O)C(OP(=O)(O)O)C1O',\n",
       "  'name': \"adenosine 3',5'-bisphosphate\"},\n",
       " {'smiles': '*NC(COC(=O)CCCCC)C(*)=O', 'name': 'O-hexanoyl-L-serine residue'},\n",
       " {'smiles': '*NC(COC(=O)CCCCCCCCCCC)C(*)=O',\n",
       "  'name': 'O-dodecanoyl-L-serine residue'},\n",
       " {'smiles': '*NC(COC(=O)CCCCCCCCC)C(*)=O',\n",
       "  'name': 'O-decanoyl-L-serine residue'}]"
      ]
     },
     "execution_count": 6,
     "metadata": {},
     "output_type": "execute_result"
    }
   ],
   "source": [
    "[elt for elt in known_compounds.values() if elt['name'] == \"NADH\"]\n",
    "smi2id['NC(=O)C1=CN(C2OC(COP(=O)(O)OP(=O)(O)OCC3OC(n4cnc5c(N)ncnc54)C(O)C3O)C(O)C2O)C=CC1']\n",
    "nadh_neighbors = list(G.neighbors(71))\n",
    "[G.nodes[elt] for elt in nadh_neighbors]"
   ]
  },
  {
   "cell_type": "code",
   "execution_count": 7,
   "metadata": {},
   "outputs": [
    {
     "data": {
      "text/plain": [
       "({'smiles': 'CC(=O)C(=O)O', 'name': 'pyruvate'},\n",
       " {'smiles': 'O=C(O)CCC(=O)O', 'name': 'succinate'})"
      ]
     },
     "execution_count": 7,
     "metadata": {},
     "output_type": "execute_result"
    }
   ],
   "source": [
    "name = 'pyruvate'\n",
    "pyruvate_idxs = [x for x,y in G.nodes(data=True) if y['name'] == 'pyruvate']\n",
    "succinate_idxs = [x for x,y in G.nodes(data=True) if y['name'] == 'succinate']\n",
    "G.nodes[pyruvate_idxs[0]], G.nodes[succinate_idxs[0]]"
   ]
  },
  {
   "cell_type": "markdown",
   "metadata": {},
   "source": [
    "Align reactants & products on a reaction-by-reaction basis"
   ]
  },
  {
   "cell_type": "code",
   "execution_count": 8,
   "metadata": {},
   "outputs": [],
   "source": [
    "def connect_reaction(rsms: dict[str, pd.DataFrame]):\n",
    "    def get_partner(sim, candidates):\n",
    "        sim /= sim.sum(axis=0).reshape(1, -1)\n",
    "        H = entropy(sim, axis=0).reshape(-1,)\n",
    "        midx = np.argmin(H)\n",
    "        return candidates[np.argmax(sim[:, midx])]\n",
    "\n",
    "    tmp_lid = set()\n",
    "    tmp_rid = set()\n",
    "    sim_block = []\n",
    "    n_metrics = 0\n",
    "    for k, v in rsms.items():\n",
    "        tmp_lid.add(tuple(v.index))\n",
    "        tmp_rid.add(tuple(v.columns))\n",
    "        sim_block.append(v.to_numpy())\n",
    "        n_metrics += 1\n",
    "\n",
    "    if len(tmp_lid) > 1 or len(tmp_rid) > 1:\n",
    "        raise ValueError(\"IDs from similarity matrices are not the same\")\n",
    "    else:\n",
    "        lid = list(tmp_lid)[0]\n",
    "        rid = list(tmp_rid)[0]\n",
    "        sim_block = np.stack(sim_block, axis=-1)\n",
    "\n",
    "    l_partners = {}\n",
    "    for i, li in enumerate(lid):\n",
    "        sim = sim_block[i, :, :].copy().reshape(-1, n_metrics)\n",
    "        l_partners[li] = get_partner(sim, rid)\n",
    "\n",
    "    r_partners = {}\n",
    "    for j, rj in enumerate(rid):\n",
    "        sim = sim_block[:, j, :].copy().reshape(-1, n_metrics)\n",
    "        r_partners[rj] = get_partner(sim, lid)\n",
    "\n",
    "    adj_mat = pd.DataFrame(\n",
    "        data=np.zeros(shape=(len(lid), len(rid))),\n",
    "        index=lid,\n",
    "        columns=rid\n",
    "    )\n",
    "    \n",
    "    for li, p in l_partners.items():\n",
    "        adj_mat.loc[li, p] = 1\n",
    "\n",
    "    for rj, p in r_partners.items():\n",
    "        adj_mat.loc[p, rj] = 1\n",
    "\n",
    "    return {\"left\": l_partners, \"right\": r_partners, \"adj_mat\": adj_mat}\n",
    "\n",
    "def is_frustrated(rxn_sim_mat: pd.DataFrame):\n",
    "    rxn_sim_mat = rxn_sim_mat.to_numpy()\n",
    "\n",
    "    if rxn_sim_mat.shape[0] > rxn_sim_mat.shape[1]:\n",
    "        rxn_sim_mat = rxn_sim_mat.T\n",
    "\n",
    "    m, n = rxn_sim_mat.shape\n",
    "    rct_partners = np.argmax(rxn_sim_mat, axis=1)\n",
    "    pdt_partners = np.argmax(rxn_sim_mat, axis=0)\n",
    "    partner_matches = [pdt_partners[rct_partners[i]] == i for i in range(len(rct_partners))]\n",
    "\n",
    "    if sum(partner_matches) == m:\n",
    "        return False\n",
    "    else:\n",
    "        return True\n"
   ]
  },
  {
   "cell_type": "code",
   "execution_count": 9,
   "metadata": {},
   "outputs": [],
   "source": [
    "# Construct sim mats based on correlated appearance in reactions or structure\n",
    "\n",
    "cpd_corr = np.zeros(shape=(len(known_compounds), len(known_compounds)))\n",
    "for rid, rxn in known_reactions.items():\n",
    "    lhs, rhs = [set(side.split(\".\")) for side in rxn['smarts'].split(\">>\")] # Set out stoichiometric degeneracy\n",
    "    for pair in product(lhs, rhs):\n",
    "        i, j = [smi2id[elt] for elt in pair]\n",
    "        cpd_corr[i, j] += 1\n",
    "        cpd_corr[j, i] += 1\n",
    "    \n",
    "row_sum = cpd_corr.sum(axis=1).reshape(-1, 1)\n",
    "col_sum = cpd_corr.sum(axis=0).reshape(1, -1)\n",
    "cpd_jaccard = cpd_corr / (row_sum + col_sum - cpd_corr) # Jaccard co-occurence-in-rxn index. Symmetric\n",
    "cond_prob = cpd_corr / row_sum # elt (i, j) gives P(cpd_j | cpd_i). NOT symmetric\n",
    "\n",
    "cpd_tani = np.load(sim_mats_filepath / \"tanimoto.npy\")\n",
    "cpd_mcs = np.load(sim_mats_filepath / \"mcs.npy\")\n",
    "brics_mats = {}\n",
    "for fn in brics_sim_mats_filepath.iterdir():\n",
    "    rid = int(fn.stem)\n",
    "    df = pd.read_csv(fn, sep='\\t', index_col=0)\n",
    "    brics_mats[rid] = df\n",
    "\n",
    "cc_sim_mats = {\n",
    "    'mcs': cpd_mcs,\n",
    "    'tanimoto': cpd_tani,\n",
    "    'jaccard': cpd_jaccard,\n",
    "}\n",
    "\n",
    "sim_mat_names = list(cc_sim_mats.keys()) + ['brics']"
   ]
  },
  {
   "cell_type": "code",
   "execution_count": 10,
   "metadata": {},
   "outputs": [],
   "source": [
    "rxn_sim_mats = defaultdict(dict)\n",
    "id_rsms = defaultdict(dict)\n",
    "side_counts = defaultdict(set)\n",
    "for rid, rxn in known_reactions.items():\n",
    "    lhs, rhs = [set(side.split(\".\")) for side in rxn['smarts'].split(\">>\")] # Set out stoichiometric degeneracy\n",
    "    lhs = sorted([elt for elt in lhs if elt not in cofactors])\n",
    "    rhs = sorted([elt for elt in rhs if elt not in cofactors])\n",
    "\n",
    "    if not lhs or not rhs:\n",
    "        continue\n",
    "\n",
    "    if len(lhs) > len(rhs):\n",
    "        tmp = lhs\n",
    "        lhs = rhs\n",
    "        rhs = tmp\n",
    "\n",
    "    left_ids, right_ids = np.array([smi2id[smi] for smi in lhs]), np.array([smi2id[smi] for smi in rhs])\n",
    "    left_names, right_names = [known_compounds[id]['name'] for id in left_ids], [known_compounds[id]['name'] for id in right_ids]\n",
    "\n",
    "\n",
    "    # Add cpd sim mats\n",
    "    i, j = np.array(list(zip(*product(left_ids, right_ids))))\n",
    "    for k, cs in cc_sim_mats.items():\n",
    "        data = cs[i, j].reshape(len(left_ids), len(right_ids))\n",
    "        \n",
    "        df = pd.DataFrame(data=data, columns=right_names, index=left_names)\n",
    "        rxn_sim_mats[rid][k] = df\n",
    "\n",
    "        df = pd.DataFrame(data=data, columns=right_ids, index=left_ids)\n",
    "        id_rsms[rid][k] = df\n",
    "\n",
    "    side_counts[tuple(sorted([len(x) for x in [lhs, rhs]]))].add(rid)\n"
   ]
  },
  {
   "cell_type": "code",
   "execution_count": 11,
   "metadata": {},
   "outputs": [
    {
     "data": {
      "image/png": "[encoded data removed]",
      "text/plain": [
       "<Figure size 640x480 with 1 Axes>"
      ]
     },
     "metadata": {},
     "output_type": "display_data"
    }
   ],
   "source": [
    "x_labels, cts = zip(*sorted([(k, len(v)) for k,v in side_counts.items()], key= lambda x : x[1], reverse=True))\n",
    "x = np.arange(len(x_labels))\n",
    "\n",
    "fig, ax = plt.subplots()\n",
    "ax.bar(x, height=cts)\n",
    "ax.set_xticks(x)\n",
    "ax.set_xticklabels(x_labels, rotation=45)\n",
    "ax.set_ylabel(\"# reactions\")\n",
    "ax.set_xlabel(\"(# reactants, # products)\")\n",
    "plt.show()"
   ]
  },
  {
   "cell_type": "code",
   "execution_count": 12,
   "metadata": {},
   "outputs": [
    {
     "name": "stderr",
     "output_type": "stream",
     "text": [
      "/tmp/ipykernel_79399/1273143310.py:3: RuntimeWarning: invalid value encountered in divide\n",
      "  sim /= sim.sum(axis=0).reshape(1, -1)\n"
     ]
    }
   ],
   "source": [
    "# Connect substrates reaction-by-reaction\n",
    "\n",
    "rxn_cxn = {}\n",
    "for rid, rsm in id_rsms.items():\n",
    "    rxn_cxn[rid] = connect_reaction(rsm)"
   ]
  },
  {
   "cell_type": "code",
   "execution_count": 13,
   "metadata": {},
   "outputs": [
    {
     "name": "stdout",
     "output_type": "stream",
     "text": [
      "747 / 9778 = 7.64%\n"
     ]
    }
   ],
   "source": [
    "# Identify frustrated reactions\n",
    "\n",
    "frustrated = set()\n",
    "for rid, entry in rxn_cxn.items():\n",
    "\n",
    "    if is_frustrated(entry['adj_mat']):\n",
    "        frustrated.add(rid)\n",
    "\n",
    "print(f\"{len(frustrated)} / {len(rxn_cxn)} = {len(frustrated) / len(rxn_cxn) * 100 :.2f}%\")"
   ]
  },
  {
   "cell_type": "code",
   "execution_count": 14,
   "metadata": {},
   "outputs": [
    {
     "name": "stderr",
     "output_type": "stream",
     "text": [
      "/tmp/ipykernel_79399/1273143310.py:3: RuntimeWarning: invalid value encountered in divide\n",
      "  sim /= sim.sum(axis=0).reshape(1, -1)\n",
      "/tmp/ipykernel_79399/1273143310.py:3: RuntimeWarning: invalid value encountered in divide\n",
      "  sim /= sim.sum(axis=0).reshape(1, -1)\n",
      "/tmp/ipykernel_79399/1273143310.py:3: RuntimeWarning: invalid value encountered in divide\n",
      "  sim /= sim.sum(axis=0).reshape(1, -1)\n",
      "/tmp/ipykernel_79399/1273143310.py:3: RuntimeWarning: invalid value encountered in divide\n",
      "  sim /= sim.sum(axis=0).reshape(1, -1)\n",
      "/tmp/ipykernel_79399/1273143310.py:3: RuntimeWarning: invalid value encountered in divide\n",
      "  sim /= sim.sum(axis=0).reshape(1, -1)\n",
      "/tmp/ipykernel_79399/1273143310.py:3: RuntimeWarning: invalid value encountered in divide\n",
      "  sim /= sim.sum(axis=0).reshape(1, -1)\n",
      "/tmp/ipykernel_79399/1273143310.py:3: RuntimeWarning: invalid value encountered in divide\n",
      "  sim /= sim.sum(axis=0).reshape(1, -1)\n",
      "/tmp/ipykernel_79399/1273143310.py:3: RuntimeWarning: invalid value encountered in divide\n",
      "  sim /= sim.sum(axis=0).reshape(1, -1)\n",
      "/tmp/ipykernel_79399/1273143310.py:3: RuntimeWarning: invalid value encountered in divide\n",
      "  sim /= sim.sum(axis=0).reshape(1, -1)\n",
      "/tmp/ipykernel_79399/1273143310.py:3: RuntimeWarning: invalid value encountered in divide\n",
      "  sim /= sim.sum(axis=0).reshape(1, -1)\n",
      "/tmp/ipykernel_79399/1273143310.py:3: RuntimeWarning: invalid value encountered in divide\n",
      "  sim /= sim.sum(axis=0).reshape(1, -1)\n",
      "/tmp/ipykernel_79399/1273143310.py:3: RuntimeWarning: invalid value encountered in divide\n",
      "  sim /= sim.sum(axis=0).reshape(1, -1)\n",
      "/tmp/ipykernel_79399/1273143310.py:3: RuntimeWarning: invalid value encountered in divide\n",
      "  sim /= sim.sum(axis=0).reshape(1, -1)\n",
      "/tmp/ipykernel_79399/1273143310.py:3: RuntimeWarning: invalid value encountered in divide\n",
      "  sim /= sim.sum(axis=0).reshape(1, -1)\n",
      "/tmp/ipykernel_79399/1273143310.py:3: RuntimeWarning: invalid value encountered in divide\n",
      "  sim /= sim.sum(axis=0).reshape(1, -1)\n",
      "/tmp/ipykernel_79399/1273143310.py:3: RuntimeWarning: invalid value encountered in divide\n",
      "  sim /= sim.sum(axis=0).reshape(1, -1)\n",
      "/tmp/ipykernel_79399/1273143310.py:3: RuntimeWarning: invalid value encountered in divide\n",
      "  sim /= sim.sum(axis=0).reshape(1, -1)\n",
      "/tmp/ipykernel_79399/1273143310.py:3: RuntimeWarning: invalid value encountered in divide\n",
      "  sim /= sim.sum(axis=0).reshape(1, -1)\n",
      "/tmp/ipykernel_79399/1273143310.py:3: RuntimeWarning: invalid value encountered in divide\n",
      "  sim /= sim.sum(axis=0).reshape(1, -1)\n",
      "/tmp/ipykernel_79399/1273143310.py:3: RuntimeWarning: invalid value encountered in divide\n",
      "  sim /= sim.sum(axis=0).reshape(1, -1)\n",
      "/tmp/ipykernel_79399/1273143310.py:3: RuntimeWarning: invalid value encountered in divide\n",
      "  sim /= sim.sum(axis=0).reshape(1, -1)\n"
     ]
    }
   ],
   "source": [
    "# Manually fix some common frustration patterns\n",
    "\n",
    "manual_fix_pairs = [\n",
    "    (68, 34), # AMP, ATP\n",
    "    (324, 326), # A, AH2\n",
    "    (31, 34), # ADP, ATP\n",
    "    \n",
    "]\n",
    "\n",
    "for rid in frustrated:\n",
    "    removed = []\n",
    "    metrics = id_rsms[rid]\n",
    "    processed_rsm = {}\n",
    "    for m in metrics:\n",
    "        df = metrics[m].copy()\n",
    "        for pair in manual_fix_pairs:\n",
    "            for perm in permutations(pair):\n",
    "                if perm[0] in df.index and perm[1] in df.columns:\n",
    "                    df.drop(labels=perm[0], inplace=True)\n",
    "                    df.drop(columns=perm[1], inplace=True)\n",
    "                    removed.append(perm)\n",
    "                    processed_rsm[m] = df\n",
    "    \n",
    "    if removed:\n",
    "        res = connect_reaction(processed_rsm)\n",
    "        for l, r in removed:\n",
    "            res['left'][l] = r\n",
    "            res['right'][r] = l\n",
    "            res['adj_mat'].loc[l, :] = 0\n",
    "            res['adj_mat'].loc[:, r] = 0\n",
    "            res['adj_mat'].loc[l, r] = 1\n",
    "\n",
    "        rxn_cxn[rid] = res\n"
   ]
  },
  {
   "cell_type": "code",
   "execution_count": 15,
   "metadata": {},
   "outputs": [
    {
     "name": "stdout",
     "output_type": "stream",
     "text": [
      "497 / 9778 = 5.08%\n"
     ]
    }
   ],
   "source": [
    "# Re-identify frustrated reactions\n",
    "\n",
    "frustrated = set()\n",
    "for rid, entry in rxn_cxn.items():\n",
    "\n",
    "    if is_frustrated(entry['adj_mat']):\n",
    "        frustrated.add(rid)\n",
    "\n",
    "print(f\"{len(frustrated)} / {len(rxn_cxn)} = {len(frustrated) / len(rxn_cxn) * 100 :.2f}%\")"
   ]
  },
  {
   "cell_type": "code",
   "execution_count": 16,
   "metadata": {},
   "outputs": [
    {
     "name": "stdout",
     "output_type": "stream",
     "text": [
      "0 / 9778 = 0.00%\n"
     ]
    }
   ],
   "source": [
    "# Any reactions with substrates unaccounted for?\n",
    "\n",
    "mass_loss = set()\n",
    "for rid, entry in rxn_cxn.items():\n",
    "    adj = entry['adj_mat'].to_numpy()\n",
    "    if (adj.sum(axis=0) == 0).any():\n",
    "        mass_loss.add(rid)\n",
    "    elif (adj.sum(axis=0) == 0).any():\n",
    "        mass_loss.add(rid)\n",
    "\n",
    "print(f\"{len(mass_loss)} / {len(rxn_cxn)} = {len(mass_loss) / len(rxn_cxn) * 100 :.2f}%\")"
   ]
  },
  {
   "cell_type": "markdown",
   "metadata": {},
   "source": [
    "Spot check"
   ]
  },
  {
   "cell_type": "code",
   "execution_count": 17,
   "metadata": {},
   "outputs": [],
   "source": [
    "def display_rxn_info(rid):\n",
    "    sis = (300, 200) # sub img size\n",
    "    for k in cc_sim_mats:\n",
    "        print(k.upper())\n",
    "        display(rxn_sim_mats[rid][k])\n",
    "\n",
    "    adj = rxn_cxn[rid]['adj_mat'].copy()\n",
    "    adj.columns = [known_compounds[elt]['name'] for elt in adj.columns]\n",
    "    adj.index = [known_compounds[elt]['name'] for elt in adj.index]\n",
    "    print(\"FINAL\")\n",
    "    display(adj)\n",
    "\n",
    "    split_subs = [elt.split(\".\") for elt in known_reactions[rid]['smarts'].split(\">>\")]\n",
    "\n",
    "    for i, whitelist in enumerate(split_subs):\n",
    "        data = [\n",
    "            (Chem.MolFromSmiles(smi), known_compounds[smi2id[smi]]['name'])\n",
    "            for smi in known_reactions[rid]['smi2name'] if smi in whitelist\n",
    "        ]\n",
    "        mols, names = zip(*data)\n",
    "        mpr = len(mols)\n",
    "\n",
    "        display(Draw.MolsToGridImage(mols=mols, legends=names, molsPerRow=mpr, subImgSize=sis))\n",
    "        if i == 0:\n",
    "            print(f\"{'-' * 50}>\")"
   ]
  },
  {
   "cell_type": "code",
   "execution_count": 18,
   "metadata": {},
   "outputs": [
    {
     "data": {
      "application/vnd.jupyter.widget-view+json": {
       "model_id": "a7478b3014284bc29a9b57d3285a7760",
       "version_major": 2,
       "version_minor": 0
      },
      "text/plain": [
       "interactive(children=(Dropdown(description='Rxn ID:', options=(2, 40, 110, 155, 184, 187, 192, 221, 232, 283, …"
      ]
     },
     "metadata": {},
     "output_type": "display_data"
    },
    {
     "data": {
      "text/plain": [
       "<function __main__.display_rxn_info(rid)>"
      ]
     },
     "execution_count": 18,
     "metadata": {},
     "output_type": "execute_result"
    }
   ],
   "source": [
    "options = sorted(frustrated)\n",
    "frustrated_dropdown = widgets.Dropdown(\n",
    "    options=options,\n",
    "    value=options[0],\n",
    "    description=\"Rxn ID:\",\n",
    "    disabled=False\n",
    ")\n",
    "\n",
    "interact(display_rxn_info, rid=frustrated_dropdown)"
   ]
  },
  {
   "cell_type": "code",
   "execution_count": 19,
   "metadata": {},
   "outputs": [
    {
     "ename": "IndexError",
     "evalue": "list index out of range",
     "output_type": "error",
     "traceback": [
      "\u001b[0;31m---------------------------------------------------------------------------\u001b[0m",
      "\u001b[0;31mIndexError\u001b[0m                                Traceback (most recent call last)",
      "Cell \u001b[0;32mIn[19], line 4\u001b[0m\n\u001b[1;32m      1\u001b[0m options \u001b[38;5;241m=\u001b[39m \u001b[38;5;28msorted\u001b[39m(mass_loss)\n\u001b[1;32m      2\u001b[0m mass_loss_ids \u001b[38;5;241m=\u001b[39m widgets\u001b[38;5;241m.\u001b[39mDropdown(\n\u001b[1;32m      3\u001b[0m     options\u001b[38;5;241m=\u001b[39moptions,\n\u001b[0;32m----> 4\u001b[0m     value\u001b[38;5;241m=\u001b[39m\u001b[43moptions\u001b[49m\u001b[43m[\u001b[49m\u001b[38;5;241;43m0\u001b[39;49m\u001b[43m]\u001b[49m,\n\u001b[1;32m      5\u001b[0m     description\u001b[38;5;241m=\u001b[39m\u001b[38;5;124m\"\u001b[39m\u001b[38;5;124mRxn ID:\u001b[39m\u001b[38;5;124m\"\u001b[39m,\n\u001b[1;32m      6\u001b[0m     disabled\u001b[38;5;241m=\u001b[39m\u001b[38;5;28;01mFalse\u001b[39;00m\n\u001b[1;32m      7\u001b[0m )\n\u001b[1;32m      8\u001b[0m interact(display_rxn_info, rid\u001b[38;5;241m=\u001b[39mmass_loss_ids)\n",
      "\u001b[0;31mIndexError\u001b[0m: list index out of range"
     ]
    }
   ],
   "source": [
    "options = sorted(mass_loss)\n",
    "mass_loss_ids = widgets.Dropdown(\n",
    "    options=options,\n",
    "    value=options[0],\n",
    "    description=\"Rxn ID:\",\n",
    "    disabled=False\n",
    ")\n",
    "interact(display_rxn_info, rid=mass_loss_ids)"
   ]
  },
  {
   "cell_type": "code",
   "execution_count": 75,
   "metadata": {},
   "outputs": [
    {
     "data": {
      "application/vnd.jupyter.widget-view+json": {
       "model_id": "642b2918e14643feb4d143b12428a524",
       "version_major": 2,
       "version_minor": 0
      },
      "text/plain": [
       "interactive(children=(Dropdown(description='Rxn ID:', options=(0, 1, 2, 3, 5, 6, 7, 8, 9, 10, 11, 13, 14, 15, …"
      ]
     },
     "metadata": {},
     "output_type": "display_data"
    }
   ],
   "source": [
    "options = sorted([rid for rid in rxn_cxn if rid not in frustrated])\n",
    "not_frustrated_dropdown = widgets.Dropdown(\n",
    "    options=options,\n",
    "    value=options[0],\n",
    "    description=\"Rxn ID:\",\n",
    "    disabled=False\n",
    ")\n",
    "\n",
    "interact(display_rxn_info, rid=not_frustrated_dropdown)"
   ]
  },
  {
   "cell_type": "markdown",
   "metadata": {},
   "source": [
    "Look at frustration metric by metric"
   ]
  },
  {
   "cell_type": "code",
   "execution_count": 97,
   "metadata": {},
   "outputs": [
    {
     "name": "stdout",
     "output_type": "stream",
     "text": [
      "mcs: 679 / 9780\n",
      "tanimoto: 710 / 9780\n",
      "jaccard: 728 / 9780\n",
      "Any (not brics) metric frustrated / total rxns: 1404 / 9780\n",
      "1111 / 1259\n"
     ]
    }
   ],
   "source": [
    "frustrated = defaultdict(set)\n",
    "for rid, metrics in rxn_sim_mats.items():\n",
    "    for m, rsm in metrics.items():\n",
    "\n",
    "        if is_frustrated(rsm):\n",
    "            frustrated[m].add(rid)\n",
    "\n",
    "for k,v in frustrated.items():\n",
    "    print(f\"{k}: {len(v)} / {len(rxn_sim_mats)}\")\n",
    "\n",
    "any_frustrated = set(frustrated['mcs']) | set(frustrated['jaccard']) | set(frustrated['tanimoto'])\n",
    "\n",
    "print(f\"Any (not brics) metric frustrated / total rxns: {len(any_frustrated)} / {len(rxn_sim_mats)}\")\n",
    "\n",
    "print(f\"{len(set(frustrated['mcs']) ^ set(frustrated['jaccard']))} / {len(set(frustrated['mcs']) | set(frustrated['jaccard']))}\")"
   ]
  },
  {
   "cell_type": "code",
   "execution_count": 99,
   "metadata": {},
   "outputs": [
    {
     "data": {
      "application/vnd.jupyter.widget-view+json": {
       "model_id": "2bedc546a378424cb7ad0770a7448d50",
       "version_major": 2,
       "version_minor": 0
      },
      "text/plain": [
       "interactive(children=(Dropdown(description='Rxn ID:', options=(2, 24, 38, 40, 42, 43, 44, 47, 54, 69, 89, 98, …"
      ]
     },
     "metadata": {},
     "output_type": "display_data"
    }
   ],
   "source": [
    "options = sorted(any_frustrated)\n",
    "frustrated_metrics_dropdown = widgets.Dropdown(\n",
    "    options=options,\n",
    "    value=options[0],\n",
    "    description=\"Rxn ID:\",\n",
    "    disabled=False\n",
    ")\n",
    "\n",
    "@interact\n",
    "def display_frustrated(rid=frustrated_metrics_dropdown):\n",
    "    sis = (300, 200) # sub img size\n",
    "    for k in cc_sim_mats:\n",
    "        print(f\"{k.upper()} frustrated: {rid in frustrated[k]}\")\n",
    "        display(rxn_sim_mats[rid][k])\n",
    "\n",
    "    split_subs = [elt.split(\".\") for elt in known_reactions[rid]['smarts'].split(\">>\")]\n",
    "\n",
    "    for i, whitelist in enumerate(split_subs):\n",
    "        data = [\n",
    "            (Chem.MolFromSmiles(smi), name)\n",
    "            for smi, name in known_reactions[rid]['smi2name'].items() if smi in whitelist\n",
    "        ]\n",
    "        mols, names = zip(*data)\n",
    "        mpr = len(mols)\n",
    "\n",
    "        display(Draw.MolsToGridImage(mols=mols, legends=names, molsPerRow=mpr, subImgSize=sis))\n",
    "        if i == 0:\n",
    "            print(f\"{'-' * 50}>\")"
   ]
  },
  {
   "cell_type": "code",
   "execution_count": 20,
   "metadata": {},
   "outputs": [
    {
     "data": {
      "application/vnd.jupyter.widget-view+json": {
       "model_id": "129da6f4fe064f8c96465e275737b4c3",
       "version_major": 2,
       "version_minor": 0
      },
      "text/plain": [
       "interactive(children=(Dropdown(description='Rxn ID:', options=(0, 1, 3, 4, 5, 6, 7, 8, 9, 10, 11, 13, 14, 15, …"
      ]
     },
     "metadata": {},
     "output_type": "display_data"
    }
   ],
   "source": [
    "options = sorted(set(rxn_sim_mats) - any_frustrated)\n",
    "unfrustrated_rids = widgets.Dropdown(\n",
    "    options=options,\n",
    "    value=options[0],\n",
    "    description=\"Rxn ID:\",\n",
    "    disabled=False\n",
    ")\n",
    "\n",
    "@interact\n",
    "def display_rxn_info(rid=unfrustrated_rids):\n",
    "    sis = (300, 200) # sub img size\n",
    "    for k in sim_mat_names:\n",
    "        print(f\"{k.upper()} frustrated: {rid in frustrated[k]}\")\n",
    "        display(rxn_sim_mats[rid][k])\n",
    "\n",
    "    split_subs = [elt.split(\".\") for elt in known_reactions[rid]['smarts'].split(\">>\")]\n",
    "\n",
    "    for i, whitelist in enumerate(split_subs):\n",
    "        data = [\n",
    "            (Chem.MolFromSmiles(smi), name)\n",
    "            for smi, name in known_reactions[rid]['smi2name'].items() if smi in whitelist\n",
    "        ]\n",
    "        mols, names = zip(*data)\n",
    "        mpr = len(mols)\n",
    "\n",
    "        display(Draw.MolsToGridImage(mols=mols, legends=names, molsPerRow=mpr, subImgSize=sis))\n",
    "        if i == 0:\n",
    "            print(f\"{'-' * 50}>\")"
   ]
  },
  {
   "cell_type": "code",
   "execution_count": 21,
   "metadata": {},
   "outputs": [
    {
     "data": {
      "image/png": "[encoded data removed]",
      "text/plain": [
       "<IPython.core.display.Image object>"
      ]
     },
     "metadata": {},
     "output_type": "display_data"
    },
    {
     "name": "stdout",
     "output_type": "stream",
     "text": [
      "-------------------------------------------------->\n"
     ]
    },
    {
     "data": {
      "image/png": "[encoded data removed]",
      "text/plain": [
       "<IPython.core.display.Image object>"
      ]
     },
     "metadata": {},
     "output_type": "display_data"
    }
   ],
   "source": [
    "rid = 110\n",
    "sis = (300, 200)\n",
    "split_subs = [elt.split(\".\") for elt in known_reactions[rid]['smarts'].split(\">>\")]\n",
    "for i, side in enumerate(split_subs):\n",
    "    frags = []\n",
    "    frag_names = []\n",
    "    for smi in side:\n",
    "        if smi in cofactors:\n",
    "            continue\n",
    "\n",
    "        name = known_reactions[rid]['smi2name'][smi]\n",
    "        mol = Chem.MolFromSmiles(smi)\n",
    "        new_frags = [Chem.MolFromSmiles(elt) for elt in BRICS.BRICSDecompose(mol)]\n",
    "        frags += new_frags\n",
    "        frag_names += [name for _ in range(len(new_frags))]\n",
    "    \n",
    "    display(Draw.MolsToGridImage(frags, molsPerRow=len(frags), legends=frag_names, subImgSize=sis))\n",
    "\n",
    "    if i == 0:\n",
    "        print(f\"{'-' * 50}>\")"
   ]
  },
  {
   "cell_type": "markdown",
   "metadata": {},
   "source": [
    "Miscellaneous"
   ]
  },
  {
   "cell_type": "code",
   "execution_count": 22,
   "metadata": {},
   "outputs": [],
   "source": [
    "# CoA reactions study\n",
    "\n",
    "coa_rxns = {}\n",
    "for k, v in known_reactions.items():\n",
    "    for name in v['smi2name'].values():\n",
    "        if name is None:\n",
    "            continue\n",
    "\n",
    "        if 'CoA' in name:\n",
    "            coa_rxns[k] = v\n",
    "            break\n",
    "\n",
    "\n",
    "unpaired_coa_rxns = {}\n",
    "for k, v in coa_rxns.items():\n",
    "    lhs_coa, rhs_coa = False, False\n",
    "    rcts, pdts = [elt.split(\".\") for elt in v['smarts'].split(\">>\")]\n",
    "    lhs_coa = any(['CoA' in  v['smi2name'][smi] for smi in rcts if v['smi2name'][smi] is not None])\n",
    "    rhs_coa = any(['CoA' in  v['smi2name'][smi] for smi in pdts if v['smi2name'][smi] is not None])\n",
    "\n",
    "    if lhs_coa ^ rhs_coa:\n",
    "        unpaired_coa_rxns[k] = v\n",
    "\n",
    "# for k, v in unpaired_coa_rxns.items():\n",
    "#     rcts, pdts = [elt.split(\".\") for elt in v['smarts'].split(\">>\")]\n",
    "#     rnames = [v['smi2name'][smi] for smi in rcts if v['smi2name'][smi] is not None]\n",
    "#     pnames = [v['smi2name'][smi] for smi in pdts if v['smi2name'][smi] is not None]\n",
    "#     print(f\"{' + '.join(rnames)} --> {' + '.join(pnames)}\")"
   ]
  },
  {
   "cell_type": "code",
   "execution_count": 23,
   "metadata": {},
   "outputs": [
    {
     "data": {
      "text/plain": [
       "(1533, 27)"
      ]
     },
     "execution_count": 23,
     "metadata": {},
     "output_type": "execute_result"
    }
   ],
   "source": [
    "'''\n",
    "CoAs always come in pairs unless they are being synthesized\n",
    "'''\n",
    "\n",
    "len(coa_rxns), len(unpaired_coa_rxns)"
   ]
  },
  {
   "cell_type": "code",
   "execution_count": 24,
   "metadata": {},
   "outputs": [
    {
     "name": "stdout",
     "output_type": "stream",
     "text": [
      "{'*OC1C(COP(*)(=O)O)OC(c2c[nH]c(=O)[nH]c2=O)C1O': 'psi-uridine residue', 'C[S+](CCC(N)C(=O)O)CC1OC(n2cnc3c(N)ncnc32)C(O)C1O': 'S-adenosyl-L-methionine', '*OC1C(COP(*)(=O)O)OC(c2c[nH]c(=O)n(C)c2=O)C1O': \"N(3)-methylpseudouridine 5'-phosphate residue\", 'Nc1ncnc2c1ncn2C1OC(CSCCC(N)C(=O)O)C(O)C1O': 'S-adenosyl-L-homocysteine'}\n",
      "0.6666667\n"
     ]
    },
    {
     "data": {
      "image/png": "[encoded data removed]",
      "text/plain": [
       "<rdkit.Chem.rdchem.Mol at 0x7f0622b1e260>"
      ]
     },
     "execution_count": 24,
     "metadata": {},
     "output_type": "execute_result"
    }
   ],
   "source": [
    "#SAM mcs corner case\n",
    "\n",
    "print(known_reactions[19]['smi2name'])\n",
    "smis = [\n",
    "    'C[S+](CCC(N)C(=O)O)CC1OC(n2cnc3c(N)ncnc32)C(O)C1O',\n",
    "    'Nc1ncnc2c1ncn2C1OC(CSCCC(N)C(=O)O)C(O)C1O'\n",
    "]\n",
    "\n",
    "mols = [Chem.MolFromSmiles(smi) for smi in smis]\n",
    "print(mcs(mols))\n",
    "\n",
    "from rdkit.Chem import rdFMCS\n",
    "\n",
    "res = rdFMCS.FindMCS(\n",
    "        mols,\n",
    "        atomCompare=rdFMCS.AtomCompare.CompareElements,\n",
    "        bondCompare=rdFMCS.BondCompare.CompareOrderExact,\n",
    "        matchChiralTag=False,\n",
    "        ringMatchesRingOnly=True,\n",
    "        completeRingsOnly=False,\n",
    "        matchValences=False,\n",
    "        timeout=10\n",
    "    )\n",
    "Chem.MolFromSmarts(res.smartsString)"
   ]
  },
  {
   "cell_type": "code",
   "execution_count": 25,
   "metadata": {},
   "outputs": [
    {
     "data": {
      "text/plain": [
       "({1, 2, 3, 4}, {1, 2, 3, 4})"
      ]
     },
     "execution_count": 25,
     "metadata": {},
     "output_type": "execute_result"
    }
   ],
   "source": [
    "foo = [1,1,2,3,4,4]\n",
    "bar = set(foo)\n",
    "baz = set(foo)\n",
    "bar, baz"
   ]
  }
 ],
 "metadata": {
  "kernelspec": {
   "display_name": "krxns-C4WZyL61-py3.10",
   "language": "python",
   "name": "python3"
  },
  "language_info": {
   "codemirror_mode": {
    "name": "ipython",
    "version": 3
   },
   "file_extension": ".py",
   "mimetype": "text/x-python",
   "name": "python",
   "nbconvert_exporter": "python",
   "pygments_lexer": "ipython3",
   "version": "3.10.12"
  }
 },
 "nbformat": 4,
 "nbformat_minor": 2
}
