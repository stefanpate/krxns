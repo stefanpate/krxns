{
 "cells": [
  {
   "cell_type": "code",
   "execution_count": 1,
   "metadata": {},
   "outputs": [
    {
     "name": "stdout",
     "output_type": "stream",
     "text": [
      "2024.03.2\n"
     ]
    }
   ],
   "source": [
    "%load_ext autoreload\n",
    "%autoreload 2\n",
    "\n",
    "import networkx as nx\n",
    "import numpy as np\n",
    "import pandas as pd\n",
    "import json\n",
    "from itertools import chain, product\n",
    "from collections import defaultdict\n",
    "import rdkit\n",
    "from rdkit import Chem\n",
    "from rdkit.Chem import AllChem, Draw, BRICS\n",
    "from krxns.cheminfo import expand_unpaired_cofactors, MorganFingerPrinter, tanimoto_similarity, mcs\n",
    "from krxns.config import data_filepath, sim_mats_filepath, cofactors_filepath, brics_sim_mats_filepath\n",
    "import ipywidgets as widgets\n",
    "from ipywidgets import interact\n",
    "print(rdkit.__version__)"
   ]
  },
  {
   "cell_type": "code",
   "execution_count": 2,
   "metadata": {},
   "outputs": [
    {
     "name": "stdout",
     "output_type": "stream",
     "text": [
      "9801\n"
     ]
    }
   ],
   "source": [
    "# Load known reaction data\n",
    "with open(data_filepath / \"sprhea_240310_v3_mapped.json\", 'r') as f:\n",
    "    known_reactions = json.load(f)\n",
    "\n",
    "known_reactions = {int(k): v for k,v in known_reactions.items()}\n",
    "\n",
    "# Extract known compounds\n",
    "known_compounds = {}\n",
    "for elt in known_reactions.values():\n",
    "    subs = chain(*[side.split(\".\") for side in elt['smarts'].split(\">>\")])\n",
    "    for sub in subs:\n",
    "        known_compounds[sub] = elt['smi2name'].get(sub, None)\n",
    "\n",
    "known_compounds = {i: {'smiles': k, 'name': v} for i, (k, v) in enumerate(known_compounds.items())}\n",
    "smi2id = {v['smiles']: k for k,v in known_compounds.items()}\n",
    "\n",
    "# Remove reverses\n",
    "rids = set()\n",
    "for k, v in known_reactions.items():\n",
    "    rids.add(tuple(sorted([k, v['reverse']])))\n",
    "\n",
    "keepers = [elt[0] for elt in rids]\n",
    "\n",
    "known_reactions = {k: known_reactions[k] for k in keepers}\n",
    "print(len(known_reactions))"
   ]
  },
  {
   "cell_type": "code",
   "execution_count": 84,
   "metadata": {},
   "outputs": [
    {
     "name": "stderr",
     "output_type": "stream",
     "text": [
      "[17:10:08] WARNING: not removing hydrogen atom without neighbors\n"
     ]
    }
   ],
   "source": [
    "# Load cofactors\n",
    "\n",
    "k = 10\n",
    "\n",
    "paired_fp = cofactors_filepath / \"paired_cofactors_reference.tsv\"\n",
    "unpaired_fp = cofactors_filepath / \"unpaired_cofactors_reference.tsv\"\n",
    "name_blacklist = [\n",
    "    'acetyl-CoA',\n",
    "    'CoA'\n",
    "]\n",
    "\n",
    "unpaired_ref = pd.read_csv(\n",
    "    filepath_or_buffer=unpaired_fp,\n",
    "    sep='\\t'\n",
    ")\n",
    "\n",
    "filtered_unpaired = unpaired_ref.loc[~unpaired_ref['Name'].isin(name_blacklist), :]\n",
    "\n",
    "cofactors = expand_unpaired_cofactors(filtered_unpaired, k=k)\n",
    "\n",
    "manual = {\n",
    "    '[Fe+2]': 'Fe2+',\n",
    "    '[Fe+3]': 'Fe3+'\n",
    "}\n",
    "\n",
    "cofactors = {**cofactors, ** manual}"
   ]
  },
  {
   "cell_type": "code",
   "execution_count": 4,
   "metadata": {},
   "outputs": [],
   "source": [
    "# Create graph\n",
    "\n",
    "G = nx.MultiGraph()\n",
    "\n",
    "G.add_nodes_from([(k, v) for k,v in known_compounds.items()])\n",
    "\n",
    "for rid, rxn in known_reactions.items():\n",
    "    lhs, rhs = [side.split(\".\") for side in rxn['smarts'].split(\">>\")]\n",
    "    for pair in product(lhs, rhs):\n",
    "        left_cid, right_cid = smi2id[pair[0]], smi2id[pair[1]]\n",
    "        G.add_edge(left_cid, right_cid, **rxn)\n"
   ]
  },
  {
   "cell_type": "code",
   "execution_count": 5,
   "metadata": {},
   "outputs": [
    {
     "data": {
      "text/plain": [
       "(8777, 92260)"
      ]
     },
     "execution_count": 5,
     "metadata": {},
     "output_type": "execute_result"
    }
   ],
   "source": [
    "G.number_of_nodes(), G.number_of_edges()"
   ]
  },
  {
   "cell_type": "markdown",
   "metadata": {},
   "source": [
    "Demonstrate the problem with naively connecting all substrates that appear opposite one another in a reaction"
   ]
  },
  {
   "cell_type": "code",
   "execution_count": 6,
   "metadata": {},
   "outputs": [
    {
     "data": {
      "text/plain": [
       "[{'smiles': 'Nc1ccn(C2OC(COP(=O)(O)O)C(O)C2O)c(=O)n1', 'name': 'CMP'},\n",
       " {'smiles': '*NC(COP(=O)(O)OCC[N+](C)(C)C)C(*)=O',\n",
       "  'name': 'O-phosphocholine-L-serine residue'},\n",
       " {'smiles': 'Nc1ncnc2c1ncn2C1OC(COP(=O)(O)OP(=O)(O)O)C(O)C1O', 'name': 'ADP'},\n",
       " {'smiles': '*NC(COP(=O)(O)O)C(*)=O', 'name': 'O-phospho-L-serine residue'},\n",
       " {'smiles': 'CC(C)(COP(=O)(O)OP(=O)(O)OCC1OC(n2cnc3c(N)ncnc32)C(O)C1OP(=O)(O)O)C(O)C(=O)NCCC(=O)NCCS',\n",
       "  'name': 'CoA'},\n",
       " {'smiles': '*NC(COC(=O)CCCCCCC)C(*)=O',\n",
       "  'name': 'O-octanoyl-L-serine residue'},\n",
       " {'smiles': '*NC(COC1OC(COP(=O)(O)OP(=O)(O)OCC2OC(n3cnc4c(N)ncnc43)C(O)C2O)C(O)C1O)C(*)=O',\n",
       "  'name': 'O-(ADP-D-ribosyl)-L-serine residue'},\n",
       " {'smiles': 'NC(=O)c1cccnc1', 'name': 'nicotinamide'},\n",
       " {'smiles': '*NC(COC(=O)CCCCCCCCCCCCC)C(*)=O',\n",
       "  'name': 'O-tetradecanoyl-L-serine residue'},\n",
       " {'smiles': '*NC(COC(=O)CCC)C(*)=O', 'name': 'O-butanoyl-L-serine residue'},\n",
       " {'smiles': 'O=P(O)(O)OP(=O)(O)O', 'name': 'diphosphate'},\n",
       " {'smiles': '*NC(COP(=O)(O)OCC1OC(n2ccc(=O)[nH]c2=O)C(O)C1O)C(*)=O',\n",
       "  'name': 'uridylyl-L-serine residue'},\n",
       " {'smiles': '*NC(COP(=O)(O)OCC1OC(n2cnc3c(N)ncnc32)C(O)C1O)C(*)=O',\n",
       "  'name': '3-O-adenylyl-L-serine residue'},\n",
       " {'smiles': '*NC(COC(=O)CCCCCCCC=CCCCCCC)C(*)=O',\n",
       "  'name': 'O-[(9Z)-hexadecenoyl]serine residue'},\n",
       " {'smiles': 'O', 'name': 'H2O'},\n",
       " {'smiles': 'CSCCC(N)C(=O)O', 'name': 'L-methionine'},\n",
       " {'smiles': 'CC1OC(n2cnc3c(N)ncnc32)C(O)C1O', 'name': \"5'-deoxyadenosine\"},\n",
       " {'smiles': '*NC(C=O)C(*)=O', 'name': 'L-3-oxoalanine residue'},\n",
       " {'smiles': '*NC(COC(=O)CCCC)C(*)=O', 'name': 'O-pentanoyl-L-serine residue'},\n",
       " {'smiles': '*NC(COP(=O)(O)OCC(C)(C)C(O)C(=O)NCCC(=O)NCCS)C(*)=O',\n",
       "  'name': \"O-(pantetheine-4'-phosphoryl)-L-serine residue\"},\n",
       " {'smiles': '*NC(COP(=O)(O)OCC1OC(OC2C(O)C(COP(=O)(O)OP(=O)(O)OCC(C)(C)C(O)C(=O)NCCC(=O)NCCS)OC2n2cnc3c(N)ncnc32)C(O)C1O)C(*)=O',\n",
       "  'name': \"O-[2'-(5-phosphoribosyl)-3'-dephospho-CoA]-L-serine residue\"},\n",
       " {'smiles': '*NC(COC1OC(CO)C(O)C(O)C1NC(C)=O)C(*)=O',\n",
       "  'name': 'O-(N-acetyl-alpha-D-glucosaminyl)-L-serine residue'},\n",
       " {'smiles': 'O=c1ccn(C2OC(COP(=O)(O)OP(=O)(O)O)C(O)C2O)c(=O)[nH]1',\n",
       "  'name': 'UDP'},\n",
       " {'smiles': '*NC(COC(*)=O)C(*)=O', 'name': 'O-fatty acyl-L-serine residue'},\n",
       " {'smiles': '*NC(COC(=O)CCCCCC)C(*)=O',\n",
       "  'name': 'O-heptanoyl-L-serine residue'},\n",
       " {'smiles': '*NC(COC1OCC(O)C(O)C1O)C(*)=O',\n",
       "  'name': 'O(3)-(beta-D-xylosyl)-L-serine residue'},\n",
       " {'smiles': 'O=P(O)(O)O', 'name': 'phosphate'},\n",
       " {'smiles': '*NC(COC(=O)CCCCCCCC)C(*)=O',\n",
       "  'name': 'O-nonanoyl-L-serine residue'},\n",
       " {'smiles': '*NC(COC1OC(C)C(O)C(O)C1O)C(*)=O',\n",
       "  'name': '3-O-(alpha-L-fucosyl)-L-seryl residue'},\n",
       " {'smiles': 'Nc1nc2c(ncn2C2OC(COP(=O)(O)OP(=O)(O)O)C(O)C2O)c(=O)[nH]1',\n",
       "  'name': 'GDP'},\n",
       " {'smiles': '*NC(COC1OC(CO)C(O)C(OC2OC(CO)C(O)C(O)C2O)C1NC(C)=O)C(*)=O',\n",
       "  'name': 'O(3)-(beta-D-galactosyl-(1->3)-N-acetyl-alpha-D-galactosaminyl)-L-serine residue'},\n",
       " {'smiles': '*NC(COC1OC(C(O)CO)C(O)C(O)C1O)C(*)=O',\n",
       "  'name': 'O-(L-glycero-alpha-D-manno-heptosyl)-L-serine residue;O-(D-glycero-alpha-D-manno-heptosyl)-L-serine residue'},\n",
       " {'smiles': '*NC(COC1OC(CO)C(O)C(O)C1O)C(*)=O',\n",
       "  'name': '3-O-(beta-D-glucosyl)-L-seryl residue'},\n",
       " {'smiles': '*NC(COC(C)=O)C(*)=O', 'name': 'O-acetyl-L-serine residue'},\n",
       " {'smiles': '*NC(COP(=O)(O)OCC(C)(C)C(O)C(=O)NCCC(=O)NCCSC(C)=O)C(*)=O',\n",
       "  'name': \"O-(S-acetylpantetheine-4'-phosphoryl)-L-serine residue\"},\n",
       " {'smiles': 'Nc1ncnc2c1ncn2C1OC(COP(=O)(O)O)C(OP(=O)(O)O)C1O',\n",
       "  'name': \"adenosine 3',5'-bisphosphate\"},\n",
       " {'smiles': '*NC(COC(=O)CCCCC)C(*)=O', 'name': 'O-hexanoyl-L-serine residue'},\n",
       " {'smiles': '*NC(COC(=O)CCCCCCCCCCC)C(*)=O',\n",
       "  'name': 'O-dodecanoyl-L-serine residue'},\n",
       " {'smiles': '*NC(COC(=O)CCCCCCCCC)C(*)=O',\n",
       "  'name': 'O-decanoyl-L-serine residue'}]"
      ]
     },
     "execution_count": 6,
     "metadata": {},
     "output_type": "execute_result"
    }
   ],
   "source": [
    "[elt for elt in known_compounds.values() if elt['name'] == \"NADH\"]\n",
    "smi2id['NC(=O)C1=CN(C2OC(COP(=O)(O)OP(=O)(O)OCC3OC(n4cnc5c(N)ncnc54)C(O)C3O)C(O)C2O)C=CC1']\n",
    "nadh_neighbors = list(G.neighbors(71))\n",
    "[G.nodes[elt] for elt in nadh_neighbors]"
   ]
  },
  {
   "cell_type": "code",
   "execution_count": 7,
   "metadata": {},
   "outputs": [
    {
     "data": {
      "text/plain": [
       "({'smiles': 'CC(=O)C(=O)O', 'name': 'pyruvate'},\n",
       " {'smiles': 'O=C(O)CCC(=O)O', 'name': 'succinate'})"
      ]
     },
     "execution_count": 7,
     "metadata": {},
     "output_type": "execute_result"
    }
   ],
   "source": [
    "name = 'pyruvate'\n",
    "pyruvate_idxs = [x for x,y in G.nodes(data=True) if y['name'] == 'pyruvate']\n",
    "succinate_idxs = [x for x,y in G.nodes(data=True) if y['name'] == 'succinate']\n",
    "G.nodes[pyruvate_idxs[0]], G.nodes[succinate_idxs[0]]"
   ]
  },
  {
   "cell_type": "code",
   "execution_count": 8,
   "metadata": {},
   "outputs": [
    {
     "name": "stdout",
     "output_type": "stream",
     "text": [
      "{'smiles': 'CC(=O)C(=O)O', 'name': 'pyruvate'}\n",
      "{'smiles': 'O=C(O)CCC(=O)C(=O)O', 'name': '2-oxoglutarate'}\n",
      "{'smiles': 'O=C(O)CCC(=O)O', 'name': 'succinate'}\n"
     ]
    }
   ],
   "source": [
    "path = nx.shortest_path(G, source=pyruvate_idxs[0], target=succinate_idxs[0])\n",
    "path_rxns = []\n",
    "for id in path:\n",
    "    print(G.nodes[id])\n",
    "\n",
    "for i in range(len(path) - 1):\n",
    "    s = path[i]\n",
    "    t = path[i + 1]\n",
    "    # btwn = [elt for elt in G.edges if elt[0] == s and elt[1] == t]\n",
    "    path_rxns.append(G.edges[(s, t, 0)]['smarts'])"
   ]
  },
  {
   "cell_type": "code",
   "execution_count": 9,
   "metadata": {},
   "outputs": [
    {
     "data": {
      "image/png": "[encoded data removed]",
      "text/plain": [
       "<rdkit.Chem.rdChemReactions.ChemicalReaction at 0x7f06229f6b90>"
      ]
     },
     "execution_count": 9,
     "metadata": {},
     "output_type": "execute_result"
    }
   ],
   "source": [
    "AllChem.ReactionFromSmarts(path_rxns[0], useSmiles=True)"
   ]
  },
  {
   "cell_type": "code",
   "execution_count": 10,
   "metadata": {},
   "outputs": [
    {
     "data": {
      "image/png": "[encoded data removed]",
      "text/plain": [
       "<rdkit.Chem.rdChemReactions.ChemicalReaction at 0x7f06229f6810>"
      ]
     },
     "execution_count": 10,
     "metadata": {},
     "output_type": "execute_result"
    }
   ],
   "source": [
    "AllChem.ReactionFromSmarts(path_rxns[1], useSmiles=True)"
   ]
  },
  {
   "cell_type": "markdown",
   "metadata": {},
   "source": [
    "Look at \"frustration\" in reactant product alignment"
   ]
  },
  {
   "cell_type": "code",
   "execution_count": 85,
   "metadata": {},
   "outputs": [],
   "source": [
    "# Construct sim mats based on correlated appearance in reactions or structure\n",
    "\n",
    "cpd_corr = np.zeros(shape=(len(known_compounds), len(known_compounds)))\n",
    "for rid, rxn in known_reactions.items():\n",
    "    lhs, rhs = [set(side.split(\".\")) for side in rxn['smarts'].split(\">>\")] # Set out stoichiometric degeneracy\n",
    "    for pair in product(lhs, rhs):\n",
    "        i, j = [smi2id[elt] for elt in pair]\n",
    "        cpd_corr[i, j] += 1\n",
    "        cpd_corr[j, i] += 1\n",
    "    \n",
    "row_sum = cpd_corr.sum(axis=1).reshape(-1, 1)\n",
    "col_sum = cpd_corr.sum(axis=0).reshape(1, -1)\n",
    "cpd_jaccard = cpd_corr / (row_sum + col_sum - cpd_corr) # Jaccard co-occurence-in-rxn index. Symmetric\n",
    "cond_prob = cpd_corr / row_sum # elt (i, j) gives P(cpd_j | cpd_i). NOT symmetric\n",
    "\n",
    "cpd_tani = np.load(sim_mats_filepath / \"tanimoto.npy\")\n",
    "cpd_mcs = np.load(sim_mats_filepath / \"mcs.npy\")\n",
    "brics_mats = {}\n",
    "for fn in brics_sim_mats_filepath.iterdir():\n",
    "    rid = int(fn.stem)\n",
    "    df = pd.read_csv(fn, sep='\\t', index_col=0)\n",
    "    brics_mats[rid] = df\n",
    "\n",
    "cc_sim_mats = {\n",
    "    'mcs': cpd_mcs,\n",
    "    'tanimoto': cpd_tani,\n",
    "    'jaccard': cpd_jaccard,\n",
    "}\n",
    "\n",
    "sim_mat_names = list(cc_sim_mats.keys()) + ['brics']"
   ]
  },
  {
   "cell_type": "code",
   "execution_count": 87,
   "metadata": {},
   "outputs": [],
   "source": [
    "rxn_sim_mats = defaultdict(dict)\n",
    "id_rsms = defaultdict(dict)\n",
    "side_counts = defaultdict(set)\n",
    "for rid, rxn in known_reactions.items():\n",
    "    lhs, rhs = [set(side.split(\".\")) for side in rxn['smarts'].split(\">>\")] # Set out stoichiometric degeneracy\n",
    "    lhs = sorted([elt for elt in lhs if elt not in cofactors])\n",
    "    rhs = sorted([elt for elt in rhs if elt not in cofactors])\n",
    "\n",
    "    if not lhs or not rhs:\n",
    "        continue\n",
    "\n",
    "    if len(lhs) > len(rhs):\n",
    "        tmp = lhs\n",
    "        lhs = rhs\n",
    "        rhs = tmp\n",
    "\n",
    "    left_ids, right_ids = np.array([smi2id[smi] for smi in lhs]), np.array([smi2id[smi] for smi in rhs])\n",
    "    left_names, right_names = [known_compounds[id]['name'] for id in left_ids], [known_compounds[id]['name'] for id in right_ids]\n",
    "\n",
    "\n",
    "    # Add cpd sim mats\n",
    "    i, j = np.array(list(zip(*product(left_ids, right_ids))))\n",
    "    for k, cs in cc_sim_mats.items():\n",
    "        data = cs[i, j].reshape(len(left_ids), len(right_ids))\n",
    "        \n",
    "        df = pd.DataFrame(data=data, columns=right_names, index=left_names)\n",
    "        rxn_sim_mats[rid][k] = df\n",
    "\n",
    "        df = pd.DataFrame(data=data, columns=right_ids, index=left_ids)\n",
    "        id_rsms[rid][k] = df\n",
    "\n",
    "    side_counts[tuple(sorted([len(x) for x in [lhs, rhs]]))].add(rid)\n"
   ]
  },
  {
   "cell_type": "code",
   "execution_count": null,
   "metadata": {},
   "outputs": [
    {
     "data": {
      "text/plain": [
       "[((2, 2), 5455),\n",
       " ((1, 1), 1758),\n",
       " ((1, 2), 1738),\n",
       " ((2, 3), 612),\n",
       " ((3, 3), 127),\n",
       " ((3, 4), 34),\n",
       " ((4, 4), 16),\n",
       " ((1, 3), 12),\n",
       " ((3, 5), 12),\n",
       " ((2, 4), 9),\n",
       " ((4, 5), 4),\n",
       " ((5, 6), 3),\n",
       " ((4, 6), 3),\n",
       " ((2, 5), 2),\n",
       " ((5, 5), 2),\n",
       " ((5, 7), 1),\n",
       " ((3, 6), 1)]"
      ]
     },
     "execution_count": 15,
     "metadata": {},
     "output_type": "execute_result"
    }
   ],
   "source": [
    "sorted([(k, len(v)) for k,v in side_counts.items()], key= lambda x : x[1], reverse=True)"
   ]
  },
  {
   "cell_type": "code",
   "execution_count": 88,
   "metadata": {},
   "outputs": [
    {
     "data": {
      "text/html": [
       "<div>\n",
       "<style scoped>\n",
       "    .dataframe tbody tr th:only-of-type {\n",
       "        vertical-align: middle;\n",
       "    }\n",
       "\n",
       "    .dataframe tbody tr th {\n",
       "        vertical-align: top;\n",
       "    }\n",
       "\n",
       "    .dataframe thead th {\n",
       "        text-align: right;\n",
       "    }\n",
       "</style>\n",
       "<table border=\"1\" class=\"dataframe\">\n",
       "  <thead>\n",
       "    <tr style=\"text-align: right;\">\n",
       "      <th></th>\n",
       "      <th>4</th>\n",
       "      <th>3</th>\n",
       "    </tr>\n",
       "  </thead>\n",
       "  <tbody>\n",
       "    <tr>\n",
       "      <th>1</th>\n",
       "      <td>1.0</td>\n",
       "      <td>0.0</td>\n",
       "    </tr>\n",
       "    <tr>\n",
       "      <th>0</th>\n",
       "      <td>0.0</td>\n",
       "      <td>1.0</td>\n",
       "    </tr>\n",
       "  </tbody>\n",
       "</table>\n",
       "</div>"
      ],
      "text/plain": [
       "     4    3\n",
       "1  1.0  0.0\n",
       "0  0.0  1.0"
      ]
     },
     "metadata": {},
     "output_type": "display_data"
    },
    {
     "name": "stdout",
     "output_type": "stream",
     "text": [
      "{'left': {1: 4, 0: 3}, 'right': {4: 1, 3: 0}, 'adj_mat':      4    3\n",
      "1  1.0  0.0\n",
      "0  0.0  1.0}\n"
     ]
    }
   ],
   "source": [
    "from scipy.stats import entropy\n",
    "def connect_reaction(rsms: dict[str, pd.DataFrame]):\n",
    "    def get_partner(sim, candidates):\n",
    "        # print(sim.shape)\n",
    "        sim /= sim.sum(axis=0).reshape(1, -1)\n",
    "        H = entropy(sim, axis=0).reshape(-1,)\n",
    "        midx = np.argmin(H)\n",
    "        return candidates[np.argmax(sim[:, midx])]\n",
    "\n",
    "    tmp_lid = set()\n",
    "    tmp_rid = set()\n",
    "    sim_block = []\n",
    "    n_metrics = 0\n",
    "    for k, v in rsms.items():\n",
    "        tmp_lid.add(tuple(v.index))\n",
    "        tmp_rid.add(tuple(v.columns))\n",
    "        sim_block.append(v.to_numpy())\n",
    "        n_metrics += 1\n",
    "\n",
    "    if len(tmp_lid) > 1 or len(tmp_rid) > 1:\n",
    "        raise ValueError(\"IDs from similarity matrices are not the same\")\n",
    "    else:\n",
    "        lid = list(tmp_lid)[0]\n",
    "        rid = list(tmp_rid)[0]\n",
    "        sim_block = np.stack(sim_block, axis=-1)\n",
    "\n",
    "    l_partners = {}\n",
    "    for i, li in enumerate(lid):\n",
    "        sim = sim_block[i, :, :].copy().reshape(-1, n_metrics)\n",
    "        # print(sim.shape)\n",
    "        l_partners[li] = get_partner(sim, rid)\n",
    "\n",
    "    r_partners = {}\n",
    "    for j, rj in enumerate(rid):\n",
    "        sim = sim_block[:, j, :].copy().reshape(-1, n_metrics)\n",
    "        # print(sim.shape)\n",
    "        r_partners[rj] = get_partner(sim, lid)\n",
    "\n",
    "    adj_mat = pd.DataFrame(\n",
    "        data=np.zeros(shape=(len(lid), len(rid))),\n",
    "        index=lid,\n",
    "        columns=rid\n",
    "    )\n",
    "    \n",
    "    for li, p in l_partners.items():\n",
    "        adj_mat.loc[li, p] = 1\n",
    "\n",
    "    for rj, p in r_partners.items():\n",
    "        adj_mat.loc[p, rj] = 1\n",
    "\n",
    "    return {\"left\": l_partners, \"right\": r_partners, \"adj_mat\": adj_mat}\n",
    "\n",
    "res = connect_reaction(id_rsms[0])\n",
    "display(res['adj_mat'])\n",
    "print(res)\n"
   ]
  },
  {
   "cell_type": "code",
   "execution_count": 89,
   "metadata": {},
   "outputs": [
    {
     "name": "stderr",
     "output_type": "stream",
     "text": [
      "/tmp/ipykernel_576738/2557401246.py:5: RuntimeWarning: invalid value encountered in divide\n",
      "  sim /= sim.sum(axis=0).reshape(1, -1)\n"
     ]
    }
   ],
   "source": [
    "rxn_cxn = {}\n",
    "for rid, rsm in id_rsms.items():\n",
    "    # print(rid)\n",
    "    rxn_cxn[rid] = connect_reaction(rsm)"
   ]
  },
  {
   "cell_type": "code",
   "execution_count": 90,
   "metadata": {},
   "outputs": [],
   "source": [
    "def is_frustrated(rxn_sim_mat: pd.DataFrame):\n",
    "    rxn_sim_mat = rxn_sim_mat.to_numpy()\n",
    "\n",
    "    if rxn_sim_mat.shape[0] > rxn_sim_mat.shape[1]:\n",
    "        rxn_sim_mat = rxn_sim_mat.T\n",
    "\n",
    "    m, n = rxn_sim_mat.shape\n",
    "    rct_partners = np.argmax(rxn_sim_mat, axis=1)\n",
    "    pdt_partners = np.argmax(rxn_sim_mat, axis=0)\n",
    "    partner_matches = [pdt_partners[rct_partners[i]] == i for i in range(len(rct_partners))]\n",
    "\n",
    "    if sum(partner_matches) == m:\n",
    "        return False\n",
    "    else:\n",
    "        return True"
   ]
  },
  {
   "cell_type": "code",
   "execution_count": 91,
   "metadata": {},
   "outputs": [
    {
     "data": {
      "text/plain": [
       "749"
      ]
     },
     "execution_count": 91,
     "metadata": {},
     "output_type": "execute_result"
    }
   ],
   "source": [
    "frustrated = set()\n",
    "for rid, entry in rxn_cxn.items():\n",
    "\n",
    "    if is_frustrated(entry['adj_mat']):\n",
    "        frustrated.add(rid)\n",
    "\n",
    "len(frustrated)"
   ]
  },
  {
   "cell_type": "code",
   "execution_count": 93,
   "metadata": {},
   "outputs": [
    {
     "data": {
      "application/vnd.jupyter.widget-view+json": {
       "model_id": "eefd6ad82cb14c169840a4efcb6b544e",
       "version_major": 2,
       "version_minor": 0
      },
      "text/plain": [
       "interactive(children=(Dropdown(description='Rxn ID:', options=(2, 24, 40, 42, 98, 110, 155, 165, 182, 184, 187…"
      ]
     },
     "metadata": {},
     "output_type": "display_data"
    }
   ],
   "source": [
    "options = sorted(frustrated)\n",
    "frustrated_rids = widgets.Dropdown(\n",
    "    options=options,\n",
    "    value=options[0],\n",
    "    description=\"Rxn ID:\",\n",
    "    disabled=False\n",
    ")\n",
    "\n",
    "@interact\n",
    "def display_rxn_info(rid=frustrated_rids):\n",
    "    sis = (300, 200) # sub img size\n",
    "    for k in cc_sim_mats:\n",
    "        display(rxn_sim_mats[rid][k])\n",
    "\n",
    "    adj = rxn_cxn[rid]['adj_mat'].copy()\n",
    "    adj.columns = [known_compounds[elt]['name'] for elt in adj.columns]\n",
    "    adj.index = [known_compounds[elt]['name'] for elt in adj.index]\n",
    "    display(adj)\n",
    "\n",
    "    split_subs = [elt.split(\".\") for elt in known_reactions[rid]['smarts'].split(\">>\")]\n",
    "\n",
    "    for i, whitelist in enumerate(split_subs):\n",
    "        data = [\n",
    "            (Chem.MolFromSmiles(smi), known_compounds[smi2id[smi]]['name'])\n",
    "            for smi in known_reactions[rid]['smi2name'] if smi in whitelist\n",
    "        ]\n",
    "        mols, names = zip(*data)\n",
    "        mpr = len(mols)\n",
    "\n",
    "        display(Draw.MolsToGridImage(mols=mols, legends=names, molsPerRow=mpr, subImgSize=sis))\n",
    "        if i == 0:\n",
    "            print(f\"{'-' * 50}>\")"
   ]
  },
  {
   "cell_type": "code",
   "execution_count": 94,
   "metadata": {},
   "outputs": [
    {
     "data": {
      "application/vnd.jupyter.widget-view+json": {
       "model_id": "fbfe8137645e4e518d7b29b71b880146",
       "version_major": 2,
       "version_minor": 0
      },
      "text/plain": [
       "interactive(children=(Dropdown(description='Rxn ID:', options=(0, 1, 3, 5, 6, 7, 8, 9, 10, 11, 13, 14, 15, 16,…"
      ]
     },
     "metadata": {},
     "output_type": "display_data"
    }
   ],
   "source": [
    "options = sorted([rid for rid in rxn_cxn if rid not in frustrated])\n",
    "not_frustrated_rids = widgets.Dropdown(\n",
    "    options=options,\n",
    "    value=options[0],\n",
    "    description=\"Rxn ID:\",\n",
    "    disabled=False\n",
    ")\n",
    "\n",
    "@interact\n",
    "def display_rxn_info(rid=not_frustrated_rids):\n",
    "    sis = (300, 200) # sub img size\n",
    "    for k in cc_sim_mats:\n",
    "        display(rxn_sim_mats[rid][k])\n",
    "\n",
    "    adj = rxn_cxn[rid]['adj_mat'].copy()\n",
    "    adj.columns = [known_compounds[elt]['name'] for elt in adj.columns]\n",
    "    adj.index = [known_compounds[elt]['name'] for elt in adj.index]\n",
    "    display(adj)\n",
    "\n",
    "    split_subs = [elt.split(\".\") for elt in known_reactions[rid]['smarts'].split(\">>\")]\n",
    "\n",
    "    for i, whitelist in enumerate(split_subs):\n",
    "        data = [\n",
    "            (Chem.MolFromSmiles(smi), known_compounds[smi2id[smi]]['name'])\n",
    "            for smi in known_reactions[rid]['smi2name'] if smi in whitelist\n",
    "        ]\n",
    "        mols, names = zip(*data)\n",
    "        mpr = len(mols)\n",
    "\n",
    "        display(Draw.MolsToGridImage(mols=mols, legends=names, molsPerRow=mpr, subImgSize=sis))\n",
    "        if i == 0:\n",
    "            print(f\"{'-' * 50}>\")"
   ]
  },
  {
   "cell_type": "code",
   "execution_count": 16,
   "metadata": {},
   "outputs": [],
   "source": [
    "# How many equal reactant-product counts are frustrated?\n",
    "\n",
    "\n",
    "\n",
    "frustrated = defaultdict(set)\n",
    "for rid, metrics in rxn_sim_mats.items():\n",
    "    for m, rsm in metrics.items():\n",
    "\n",
    "        if is_frustrated(rsm):\n",
    "            frustrated[m].add(rid)"
   ]
  },
  {
   "cell_type": "code",
   "execution_count": 17,
   "metadata": {},
   "outputs": [
    {
     "name": "stdout",
     "output_type": "stream",
     "text": [
      "brics: 2993 / 9789\n",
      "mcs: 681 / 9789\n",
      "tanimoto: 1011 / 9789\n",
      "jaccard: 728 / 9789\n",
      "Any metric frustrated / total rxns: 1700 / 9789\n",
      "1113 / 1261\n"
     ]
    }
   ],
   "source": [
    "for k,v in frustrated.items():\n",
    "    print(f\"{k}: {len(v)} / {len(rxn_sim_mats)}\")\n",
    "\n",
    "any_frustrated = set(frustrated['mcs']) | set(frustrated['jaccard']) | set(frustrated['tanimoto'])\n",
    "\n",
    "print(f\"Any metric frustrated / total rxns: {len(any_frustrated)} / {len(rxn_sim_mats)}\")\n",
    "\n",
    "print(f\"{len(set(frustrated['mcs']) ^ set(frustrated['jaccard']))} / {len(set(frustrated['mcs']) | set(frustrated['jaccard']))}\")"
   ]
  },
  {
   "cell_type": "code",
   "execution_count": 18,
   "metadata": {},
   "outputs": [
    {
     "data": {
      "text/html": [
       "<div>\n",
       "<style scoped>\n",
       "    .dataframe tbody tr th:only-of-type {\n",
       "        vertical-align: middle;\n",
       "    }\n",
       "\n",
       "    .dataframe tbody tr th {\n",
       "        vertical-align: top;\n",
       "    }\n",
       "\n",
       "    .dataframe thead th {\n",
       "        text-align: right;\n",
       "    }\n",
       "</style>\n",
       "<table border=\"1\" class=\"dataframe\">\n",
       "  <thead>\n",
       "    <tr style=\"text-align: right;\">\n",
       "      <th></th>\n",
       "      <th>O-[S-(4Z)-hexadecenoylpantetheine-4'-phosphoryl]serine residue</th>\n",
       "      <th>Fe(3+)</th>\n",
       "    </tr>\n",
       "  </thead>\n",
       "  <tbody>\n",
       "    <tr>\n",
       "      <th>O-(S-hexadecanoylpantetheine-4'-phosphoryl)-L-serine residue</th>\n",
       "      <td>0.024390</td>\n",
       "      <td>0.002125</td>\n",
       "    </tr>\n",
       "    <tr>\n",
       "      <th>Fe(2+)</th>\n",
       "      <td>0.001032</td>\n",
       "      <td>0.200899</td>\n",
       "    </tr>\n",
       "  </tbody>\n",
       "</table>\n",
       "</div>"
      ],
      "text/plain": [
       "                                                    O-[S-(4Z)-hexadecenoylpantetheine-4'-phosphoryl]serine residue  \\\n",
       "O-(S-hexadecanoylpantetheine-4'-phosphoryl)-L-s...                                           0.024390                \n",
       "Fe(2+)                                                                                       0.001032                \n",
       "\n",
       "                                                      Fe(3+)  \n",
       "O-(S-hexadecanoylpantetheine-4'-phosphoryl)-L-s...  0.002125  \n",
       "Fe(2+)                                              0.200899  "
      ]
     },
     "execution_count": 18,
     "metadata": {},
     "output_type": "execute_result"
    }
   ],
   "source": [
    "rxn_sim_mats[740]['jaccard']"
   ]
  },
  {
   "cell_type": "code",
   "execution_count": 19,
   "metadata": {},
   "outputs": [
    {
     "data": {
      "application/vnd.jupyter.widget-view+json": {
       "model_id": "01f869b45f8f4ea3896b88cf34e84346",
       "version_major": 2,
       "version_minor": 0
      },
      "text/plain": [
       "interactive(children=(Dropdown(description='Rxn ID:', options=(2, 24, 38, 40, 42, 43, 44, 47, 54, 69, 89, 94, …"
      ]
     },
     "metadata": {},
     "output_type": "display_data"
    }
   ],
   "source": [
    "options = sorted(any_frustrated)\n",
    "frustrated_rids = widgets.Dropdown(\n",
    "    options=options,\n",
    "    value=options[0],\n",
    "    description=\"Rxn ID:\",\n",
    "    disabled=False\n",
    ")\n",
    "\n",
    "@interact\n",
    "def display_rxn_info(rid=frustrated_rids):\n",
    "    sis = (300, 200) # sub img size\n",
    "    for k in sim_mat_names:\n",
    "        print(f\"{k.upper()} frustrated: {rid in frustrated[k]}\")\n",
    "        display(rxn_sim_mats[rid][k])\n",
    "\n",
    "    split_subs = [elt.split(\".\") for elt in known_reactions[rid]['smarts'].split(\">>\")]\n",
    "\n",
    "    for i, whitelist in enumerate(split_subs):\n",
    "        data = [\n",
    "            (Chem.MolFromSmiles(smi), name)\n",
    "            for smi, name in known_reactions[rid]['smi2name'].items() if smi in whitelist\n",
    "        ]\n",
    "        mols, names = zip(*data)\n",
    "        mpr = len(mols)\n",
    "\n",
    "        display(Draw.MolsToGridImage(mols=mols, legends=names, molsPerRow=mpr, subImgSize=sis))\n",
    "        if i == 0:\n",
    "            print(f\"{'-' * 50}>\")"
   ]
  },
  {
   "cell_type": "code",
   "execution_count": 20,
   "metadata": {},
   "outputs": [
    {
     "data": {
      "application/vnd.jupyter.widget-view+json": {
       "model_id": "129da6f4fe064f8c96465e275737b4c3",
       "version_major": 2,
       "version_minor": 0
      },
      "text/plain": [
       "interactive(children=(Dropdown(description='Rxn ID:', options=(0, 1, 3, 4, 5, 6, 7, 8, 9, 10, 11, 13, 14, 15, …"
      ]
     },
     "metadata": {},
     "output_type": "display_data"
    }
   ],
   "source": [
    "options = sorted(set(rxn_sim_mats) - any_frustrated)\n",
    "unfrustrated_rids = widgets.Dropdown(\n",
    "    options=options,\n",
    "    value=options[0],\n",
    "    description=\"Rxn ID:\",\n",
    "    disabled=False\n",
    ")\n",
    "\n",
    "@interact\n",
    "def display_rxn_info(rid=unfrustrated_rids):\n",
    "    sis = (300, 200) # sub img size\n",
    "    for k in sim_mat_names:\n",
    "        print(f\"{k.upper()} frustrated: {rid in frustrated[k]}\")\n",
    "        display(rxn_sim_mats[rid][k])\n",
    "\n",
    "    split_subs = [elt.split(\".\") for elt in known_reactions[rid]['smarts'].split(\">>\")]\n",
    "\n",
    "    for i, whitelist in enumerate(split_subs):\n",
    "        data = [\n",
    "            (Chem.MolFromSmiles(smi), name)\n",
    "            for smi, name in known_reactions[rid]['smi2name'].items() if smi in whitelist\n",
    "        ]\n",
    "        mols, names = zip(*data)\n",
    "        mpr = len(mols)\n",
    "\n",
    "        display(Draw.MolsToGridImage(mols=mols, legends=names, molsPerRow=mpr, subImgSize=sis))\n",
    "        if i == 0:\n",
    "            print(f\"{'-' * 50}>\")"
   ]
  },
  {
   "cell_type": "code",
   "execution_count": 21,
   "metadata": {},
   "outputs": [
    {
     "data": {
      "image/png": "[encoded data removed]",
      "text/plain": [
       "<IPython.core.display.Image object>"
      ]
     },
     "metadata": {},
     "output_type": "display_data"
    },
    {
     "name": "stdout",
     "output_type": "stream",
     "text": [
      "-------------------------------------------------->\n"
     ]
    },
    {
     "data": {
      "image/png": "[encoded data removed]",
      "text/plain": [
       "<IPython.core.display.Image object>"
      ]
     },
     "metadata": {},
     "output_type": "display_data"
    }
   ],
   "source": [
    "rid = 110\n",
    "sis = (300, 200)\n",
    "split_subs = [elt.split(\".\") for elt in known_reactions[rid]['smarts'].split(\">>\")]\n",
    "for i, side in enumerate(split_subs):\n",
    "    frags = []\n",
    "    frag_names = []\n",
    "    for smi in side:\n",
    "        if smi in cofactors:\n",
    "            continue\n",
    "\n",
    "        name = known_reactions[rid]['smi2name'][smi]\n",
    "        mol = Chem.MolFromSmiles(smi)\n",
    "        new_frags = [Chem.MolFromSmiles(elt) for elt in BRICS.BRICSDecompose(mol)]\n",
    "        frags += new_frags\n",
    "        frag_names += [name for _ in range(len(new_frags))]\n",
    "    \n",
    "    display(Draw.MolsToGridImage(frags, molsPerRow=len(frags), legends=frag_names, subImgSize=sis))\n",
    "\n",
    "    if i == 0:\n",
    "        print(f\"{'-' * 50}>\")"
   ]
  },
  {
   "cell_type": "markdown",
   "metadata": {},
   "source": [
    "CoAs always come in pairs unless they are being synthesized"
   ]
  },
  {
   "cell_type": "code",
   "execution_count": 22,
   "metadata": {},
   "outputs": [],
   "source": [
    "# CoA reactions study\n",
    "\n",
    "coa_rxns = {}\n",
    "for k, v in known_reactions.items():\n",
    "    for name in v['smi2name'].values():\n",
    "        if name is None:\n",
    "            continue\n",
    "\n",
    "        if 'CoA' in name:\n",
    "            coa_rxns[k] = v\n",
    "            break\n",
    "\n",
    "\n",
    "unpaired_coa_rxns = {}\n",
    "for k, v in coa_rxns.items():\n",
    "    lhs_coa, rhs_coa = False, False\n",
    "    rcts, pdts = [elt.split(\".\") for elt in v['smarts'].split(\">>\")]\n",
    "    lhs_coa = any(['CoA' in  v['smi2name'][smi] for smi in rcts if v['smi2name'][smi] is not None])\n",
    "    rhs_coa = any(['CoA' in  v['smi2name'][smi] for smi in pdts if v['smi2name'][smi] is not None])\n",
    "\n",
    "    if lhs_coa ^ rhs_coa:\n",
    "        unpaired_coa_rxns[k] = v\n",
    "\n",
    "# for k, v in unpaired_coa_rxns.items():\n",
    "#     rcts, pdts = [elt.split(\".\") for elt in v['smarts'].split(\">>\")]\n",
    "#     rnames = [v['smi2name'][smi] for smi in rcts if v['smi2name'][smi] is not None]\n",
    "#     pnames = [v['smi2name'][smi] for smi in pdts if v['smi2name'][smi] is not None]\n",
    "#     print(f\"{' + '.join(rnames)} --> {' + '.join(pnames)}\")"
   ]
  },
  {
   "cell_type": "code",
   "execution_count": 23,
   "metadata": {},
   "outputs": [
    {
     "data": {
      "text/plain": [
       "(1533, 27)"
      ]
     },
     "execution_count": 23,
     "metadata": {},
     "output_type": "execute_result"
    }
   ],
   "source": [
    "len(coa_rxns), len(unpaired_coa_rxns)"
   ]
  },
  {
   "cell_type": "code",
   "execution_count": 24,
   "metadata": {},
   "outputs": [
    {
     "name": "stdout",
     "output_type": "stream",
     "text": [
      "{'*OC1C(COP(*)(=O)O)OC(c2c[nH]c(=O)[nH]c2=O)C1O': 'psi-uridine residue', 'C[S+](CCC(N)C(=O)O)CC1OC(n2cnc3c(N)ncnc32)C(O)C1O': 'S-adenosyl-L-methionine', '*OC1C(COP(*)(=O)O)OC(c2c[nH]c(=O)n(C)c2=O)C1O': \"N(3)-methylpseudouridine 5'-phosphate residue\", 'Nc1ncnc2c1ncn2C1OC(CSCCC(N)C(=O)O)C(O)C1O': 'S-adenosyl-L-homocysteine'}\n",
      "0.6666667\n"
     ]
    },
    {
     "data": {
      "image/png": "[encoded data removed]",
      "text/plain": [
       "<rdkit.Chem.rdchem.Mol at 0x7f0622b1e260>"
      ]
     },
     "execution_count": 24,
     "metadata": {},
     "output_type": "execute_result"
    }
   ],
   "source": [
    "#SAM mcs corner case\n",
    "\n",
    "print(known_reactions[19]['smi2name'])\n",
    "smis = [\n",
    "    'C[S+](CCC(N)C(=O)O)CC1OC(n2cnc3c(N)ncnc32)C(O)C1O',\n",
    "    'Nc1ncnc2c1ncn2C1OC(CSCCC(N)C(=O)O)C(O)C1O'\n",
    "]\n",
    "\n",
    "mols = [Chem.MolFromSmiles(smi) for smi in smis]\n",
    "print(mcs(mols))\n",
    "\n",
    "from rdkit.Chem import rdFMCS\n",
    "\n",
    "res = rdFMCS.FindMCS(\n",
    "        mols,\n",
    "        atomCompare=rdFMCS.AtomCompare.CompareElements,\n",
    "        bondCompare=rdFMCS.BondCompare.CompareOrderExact,\n",
    "        matchChiralTag=False,\n",
    "        ringMatchesRingOnly=True,\n",
    "        completeRingsOnly=False,\n",
    "        matchValences=False,\n",
    "        timeout=10\n",
    "    )\n",
    "Chem.MolFromSmarts(res.smartsString)"
   ]
  },
  {
   "cell_type": "code",
   "execution_count": 25,
   "metadata": {},
   "outputs": [
    {
     "data": {
      "text/plain": [
       "({1, 2, 3, 4}, {1, 2, 3, 4})"
      ]
     },
     "execution_count": 25,
     "metadata": {},
     "output_type": "execute_result"
    }
   ],
   "source": [
    "foo = [1,1,2,3,4,4]\n",
    "bar = set(foo)\n",
    "baz = set(foo)\n",
    "bar, baz"
   ]
  }
 ],
 "metadata": {
  "kernelspec": {
   "display_name": "krxns-C4WZyL61-py3.10",
   "language": "python",
   "name": "python3"
  },
  "language_info": {
   "codemirror_mode": {
    "name": "ipython",
    "version": 3
   },
   "file_extension": ".py",
   "mimetype": "text/x-python",
   "name": "python",
   "nbconvert_exporter": "python",
   "pygments_lexer": "ipython3",
   "version": "3.10.12"
  }
 },
 "nbformat": 4,
 "nbformat_minor": 2
}
