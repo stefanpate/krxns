{
 "cells": [
  {
   "cell_type": "code",
   "execution_count": 4,
   "metadata": {},
   "outputs": [],
   "source": [
    "from krxns.cheminfo import draw_reaction\n",
    "from IPython.display import SVG"
   ]
  },
  {
   "cell_type": "code",
   "execution_count": 5,
   "metadata": {},
   "outputs": [
    {
     "data": {
      "image/svg+xml": [
       "<svg xmlns=\"http://www.w3.org/2000/svg\" xmlns:rdkit=\"http://www.rdkit.org/xml\" xmlns:xlink=\"http://www.w3.org/1999/xlink\" version=\"1.1\" baseProfile=\"full\" xml:space=\"preserve\" width=\"600px\" height=\"200px\" viewBox=\"0 0 600 200\">\n",
       "<!-- END OF HEADER -->\n",
       "<rect style=\"opacity:1.0;fill:#FFFFFF;stroke:none\" width=\"600.0\" height=\"200.0\" x=\"0.0\" y=\"0.0\"> </rect>\n",
       "<path class=\"bond-0 atom-0 atom-1\" d=\"M 61.2,158.6 L 93.8,139.8\" style=\"fill:none;fill-rule:evenodd;stroke:#191919;stroke-width:2.0px;stroke-linecap:butt;stroke-linejoin:miter;stroke-opacity:1\"/>\n",
       "<path class=\"bond-0 atom-0 atom-1\" d=\"M 93.8,139.8 L 126.3,121.1\" style=\"fill:none;fill-rule:evenodd;stroke:#000000;stroke-width:2.0px;stroke-linecap:butt;stroke-linejoin:miter;stroke-opacity:1\"/>\n",
       "<path class=\"bond-1 atom-1 atom-2\" d=\"M 120.0,124.7 L 151.4,142.9\" style=\"fill:none;fill-rule:evenodd;stroke:#000000;stroke-width:2.0px;stroke-linecap:butt;stroke-linejoin:miter;stroke-opacity:1\"/>\n",
       "<path class=\"bond-1 atom-1 atom-2\" d=\"M 151.4,142.9 L 182.9,161.1\" style=\"fill:none;fill-rule:evenodd;stroke:#FF0000;stroke-width:2.0px;stroke-linecap:butt;stroke-linejoin:miter;stroke-opacity:1\"/>\n",
       "<path class=\"bond-1 atom-1 atom-2\" d=\"M 126.3,113.7 L 157.8,131.9\" style=\"fill:none;fill-rule:evenodd;stroke:#000000;stroke-width:2.0px;stroke-linecap:butt;stroke-linejoin:miter;stroke-opacity:1\"/>\n",
       "<path class=\"bond-1 atom-1 atom-2\" d=\"M 157.8,131.9 L 189.2,150.0\" style=\"fill:none;fill-rule:evenodd;stroke:#FF0000;stroke-width:2.0px;stroke-linecap:butt;stroke-linejoin:miter;stroke-opacity:1\"/>\n",
       "<path class=\"bond-2 atom-1 atom-3\" d=\"M 126.3,121.1 L 126.3,86.2\" style=\"fill:none;fill-rule:evenodd;stroke:#000000;stroke-width:2.0px;stroke-linecap:butt;stroke-linejoin:miter;stroke-opacity:1\"/>\n",
       "<path class=\"bond-2 atom-1 atom-3\" d=\"M 126.3,86.2 L 126.3,51.4\" style=\"fill:none;fill-rule:evenodd;stroke:#FF0000;stroke-width:2.0px;stroke-linecap:butt;stroke-linejoin:miter;stroke-opacity:1\"/>\n",
       "<path d=\"M 124.7,122.0 L 126.3,121.1 L 126.3,119.3\" style=\"fill:none;stroke:#000000;stroke-width:2.0px;stroke-linecap:butt;stroke-linejoin:miter;stroke-opacity:1;\"/>\n",
       "<path class=\"atom-0\" d=\"M 48.2 160.8 L 51.7 157.2 L 47.1 156.3 L 47.8 153.9 L 52.1 156.1 L 51.5 151.3 L 54.0 151.3 L 53.3 156.0 L 57.7 154.0 L 58.4 156.3 L 53.7 157.2 L 57.1 160.8 L 55.0 162.3 L 52.7 157.8 L 50.3 162.3 L 48.2 160.8 \" fill=\"#191919\"/>\n",
       "<path class=\"atom-2\" d=\"M 188.9 163.6 Q 188.9 157.8, 191.7 154.6 Q 194.6 151.4, 199.9 151.4 Q 205.2 151.4, 208.1 154.6 Q 210.9 157.8, 210.9 163.6 Q 210.9 169.4, 208.1 172.8 Q 205.2 176.1, 199.9 176.1 Q 194.6 176.1, 191.7 172.8 Q 188.9 169.5, 188.9 163.6 M 199.9 173.4 Q 203.6 173.4, 205.5 170.9 Q 207.5 168.4, 207.5 163.6 Q 207.5 158.9, 205.5 156.5 Q 203.6 154.1, 199.9 154.1 Q 196.2 154.1, 194.2 156.5 Q 192.3 158.8, 192.3 163.6 Q 192.3 168.5, 194.2 170.9 Q 196.2 173.4, 199.9 173.4 \" fill=\"#FF0000\"/>\n",
       "<path class=\"atom-3\" d=\"M 115.3 36.2 Q 115.3 30.4, 118.1 27.2 Q 121.0 23.9, 126.3 23.9 Q 131.7 23.9, 134.5 27.2 Q 137.4 30.4, 137.4 36.2 Q 137.4 42.0, 134.5 45.3 Q 131.6 48.6, 126.3 48.6 Q 121.0 48.6, 118.1 45.3 Q 115.3 42.0, 115.3 36.2 M 126.3 45.9 Q 130.0 45.9, 132.0 43.5 Q 134.0 41.0, 134.0 36.2 Q 134.0 31.4, 132.0 29.1 Q 130.0 26.6, 126.3 26.6 Q 122.7 26.6, 120.6 29.0 Q 118.7 31.4, 118.7 36.2 Q 118.7 41.0, 120.6 43.5 Q 122.7 45.9, 126.3 45.9 \" fill=\"#FF0000\"/>\n",
       "<path class=\"atom-3\" d=\"M 141.1 24.2 L 144.4 24.2 L 144.4 34.4 L 156.7 34.4 L 156.7 24.2 L 159.9 24.2 L 159.9 48.3 L 156.7 48.3 L 156.7 37.1 L 144.4 37.1 L 144.4 48.3 L 141.1 48.3 L 141.1 24.2 \" fill=\"#FF0000\"/>\n",
       "<path class=\"bond-3 atom-4 atom-5\" d=\"M 407.3,107.3 L 439.9,88.5\" style=\"fill:none;fill-rule:evenodd;stroke:#191919;stroke-width:2.0px;stroke-linecap:butt;stroke-linejoin:miter;stroke-opacity:1\"/>\n",
       "<path class=\"bond-3 atom-4 atom-5\" d=\"M 439.9,88.5 L 472.4,69.7\" style=\"fill:none;fill-rule:evenodd;stroke:#000000;stroke-width:2.0px;stroke-linecap:butt;stroke-linejoin:miter;stroke-opacity:1\"/>\n",
       "<path class=\"bond-4 atom-5 atom-6\" d=\"M 472.4,69.7 L 502.3,87.0\" style=\"fill:none;fill-rule:evenodd;stroke:#000000;stroke-width:2.0px;stroke-linecap:butt;stroke-linejoin:miter;stroke-opacity:1\"/>\n",
       "<path class=\"bond-4 atom-5 atom-6\" d=\"M 502.3,87.0 L 532.1,104.2\" style=\"fill:none;fill-rule:evenodd;stroke:#FF0000;stroke-width:2.0px;stroke-linecap:butt;stroke-linejoin:miter;stroke-opacity:1\"/>\n",
       "<path class=\"bond-4 atom-5 atom-6\" d=\"M 472.4,84.4 L 495.9,98.0\" style=\"fill:none;fill-rule:evenodd;stroke:#000000;stroke-width:2.0px;stroke-linecap:butt;stroke-linejoin:miter;stroke-opacity:1\"/>\n",
       "<path class=\"bond-4 atom-5 atom-6\" d=\"M 495.9,98.0 L 525.8,115.3\" style=\"fill:none;fill-rule:evenodd;stroke:#FF0000;stroke-width:2.0px;stroke-linecap:butt;stroke-linejoin:miter;stroke-opacity:1\"/>\n",
       "<path class=\"atom-0\" d=\"M 394.3 109.5 L 397.8 105.9 L 393.1 105.0 L 393.9 102.6 L 398.2 104.7 L 397.6 100.0 L 400.1 100.0 L 399.4 104.7 L 403.8 102.7 L 404.5 105.0 L 399.8 105.9 L 403.2 109.5 L 401.1 111.0 L 398.8 106.5 L 396.4 111.0 L 394.3 109.5 \" fill=\"#191919\"/>\n",
       "<path class=\"atom-2\" d=\"M 531.8 117.8 Q 531.8 112.0, 534.6 108.8 Q 537.5 105.6, 542.8 105.6 Q 548.1 105.6, 551.0 108.8 Q 553.9 112.0, 553.9 117.8 Q 553.9 123.6, 551.0 127.0 Q 548.1 130.3, 542.8 130.3 Q 537.5 130.3, 534.6 127.0 Q 531.8 123.7, 531.8 117.8 M 542.8 127.6 Q 546.5 127.6, 548.5 125.1 Q 550.5 122.6, 550.5 117.8 Q 550.5 113.1, 548.5 110.7 Q 546.5 108.3, 542.8 108.3 Q 539.1 108.3, 537.1 110.7 Q 535.2 113.0, 535.2 117.8 Q 535.2 122.7, 537.1 125.1 Q 539.1 127.6, 542.8 127.6 \" fill=\"#FF0000\"/>\n",
       "<path d=\"M 241.0,100.0 L 363.0,100.0\" style=\"fill:none;fill-rule:evenodd;stroke:#000000;stroke-width:2.0px;stroke-linecap:butt;stroke-linejoin:miter;stroke-opacity:1\"/>\n",
       "<path d=\"M 363.0,100.0 L 356.9,103.5\" style=\"fill:none;fill-rule:evenodd;stroke:#000000;stroke-width:2.0px;stroke-linecap:butt;stroke-linejoin:miter;stroke-opacity:1\"/>\n",
       "<path d=\"M 363.0,100.0 L 356.9,96.5\" style=\"fill:none;fill-rule:evenodd;stroke:#000000;stroke-width:2.0px;stroke-linecap:butt;stroke-linejoin:miter;stroke-opacity:1\"/>\n",
       "</svg>"
      ],
      "text/plain": [
       "<IPython.core.display.SVG object>"
      ]
     },
     "execution_count": 5,
     "metadata": {},
     "output_type": "execute_result"
    }
   ],
   "source": [
    "car_rxn = \"*C(=O)O>>*C=O\"\n",
    "SVG(draw_reaction(car_rxn))"
   ]
  },
  {
   "cell_type": "code",
   "execution_count": null,
   "metadata": {},
   "outputs": [],
   "source": []
  }
 ],
 "metadata": {
  "kernelspec": {
   "display_name": "krxns-C4WZyL61-py3.12",
   "language": "python",
   "name": "python3"
  },
  "language_info": {
   "codemirror_mode": {
    "name": "ipython",
    "version": 3
   },
   "file_extension": ".py",
   "mimetype": "text/x-python",
   "name": "python",
   "nbconvert_exporter": "python",
   "pygments_lexer": "ipython3",
   "version": "3.12.7"
  }
 },
 "nbformat": 4,
 "nbformat_minor": 2
}
